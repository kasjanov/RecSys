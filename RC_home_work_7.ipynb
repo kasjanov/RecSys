{
 "cells": [
  {
   "cell_type": "markdown",
   "id": "b5c3c50a-801a-403e-b6c7-29528e54b6a4",
   "metadata": {},
   "source": [
    "# Домашнее задание №7\n",
    "\n",
    "Установите pySpark, и попробуйте подобрать параметры для ALS.\n",
    "\n",
    "1. Выбрать по 6 предсказаний для пользователей\n",
    "2. Удалить фейковый элемент\n",
    "3. Оставить 5 остортированных предсказаний для каждого пользователя\n",
    "4. Посчитать метрику (map@5, precision@5)\n",
    "\n",
    "Определите сильно ли отличается качество ALS из implicit и pyspark, сравнивайте по метрикам map@5, precision@5"
   ]
  },
  {
   "cell_type": "markdown",
   "id": "d3ad0c29-83fa-49eb-a248-de1976eaefb0",
   "metadata": {},
   "source": [
    "### Финальный проект\n",
    "\n",
    "Мы уже прошли всю необходимую теорию для финального проекта. Проект осуществляется на данных из вебинара (данные считаны в начале ДЗ).\n",
    "Рекомендуем вам **начать делать проект сразу после этого домашнего задания**\n",
    "- Целевая метрика - map@5. Порог для уcпешной сдачи проекта map@5 > 20%\n",
    "- НЕ обязательно, но крайне желательно использовать 2-ух уровневые рекоммендательные системы в проекте, идеальный вариант на первом уровне использовать Spark\n",
    "- Вы сдаете код проекта и csv файл с рекомендациями "
   ]
  },
  {
   "cell_type": "code",
   "execution_count": 1,
   "id": "2b9aa5f3",
   "metadata": {},
   "outputs": [],
   "source": [
    "import pandas as pd\n",
    "import numpy as np\n",
    "import os, sys\n",
    "import warnings\n",
    "\n",
    "warnings.filterwarnings('ignore')\n",
    "\n",
    "module_path = os.path.abspath(os.path.join(os.pardir))\n",
    "if module_path not in sys.path:\n",
    "    sys.path.append(module_path)\n",
    "    \n",
    "# Для работы pyspark с JAVA.JDK и работы самого pyspark\n",
    "os.environ[\"JAVA_HOME\"] = \"C:\\Program Files\\Java\\jdk-19\"\n",
    "os.environ[\"PATH\"] = os.environ[\"JAVA_HOME\"] + \"\\bin:\" + os.environ[\"PATH\"]\n",
    "os.environ['PYSPARK_DRIVER_PYTHON_OPTS']= \"notebook\"\n",
    "os.environ['PYSPARK_DRIVER_PYTHON'] = sys.executable\n",
    "os.environ['PYSPARK_PYTHON'] = sys.executable\n",
    "\n",
    "# Для работы с pyspark\n",
    "import pyspark.sql.functions as sf\n",
    "from pyspark.ml.recommendation import ALS\n",
    "from pyspark.sql import SparkSession\n",
    "from pyspark.sql.types import DoubleType\n",
    "\n",
    "# Для работы с матрицами\n",
    "from scipy.sparse import csr_matrix, coo_matrix\n",
    "\n",
    "# Матричная факторизация\n",
    "from implicit.als import AlternatingLeastSquares\n",
    "from implicit.nearest_neighbours import bm25_weight, tfidf_weight\n",
    "\n",
    "# Импорт MainRecommender, prefilter_items, precision_at_k, recall_at_k\n",
    "from src.utils import prefilter_items\n",
    "from src.metrics import precision_at_k, recall_at_k, reciprocal_rank_at_k, ndcg_at_k, ap_k_2 \n",
    "from src.recommenders import MainRecommender"
   ]
  },
  {
   "cell_type": "code",
   "execution_count": 2,
   "id": "7684d708",
   "metadata": {},
   "outputs": [
    {
     "data": {
      "text/html": [
       "<div>\n",
       "<style scoped>\n",
       "    .dataframe tbody tr th:only-of-type {\n",
       "        vertical-align: middle;\n",
       "    }\n",
       "\n",
       "    .dataframe tbody tr th {\n",
       "        vertical-align: top;\n",
       "    }\n",
       "\n",
       "    .dataframe thead th {\n",
       "        text-align: right;\n",
       "    }\n",
       "</style>\n",
       "<table border=\"1\" class=\"dataframe\">\n",
       "  <thead>\n",
       "    <tr style=\"text-align: right;\">\n",
       "      <th></th>\n",
       "      <th>user_id</th>\n",
       "      <th>basket_id</th>\n",
       "      <th>day</th>\n",
       "      <th>item_id</th>\n",
       "      <th>quantity</th>\n",
       "      <th>sales_value</th>\n",
       "      <th>store_id</th>\n",
       "      <th>retail_disc</th>\n",
       "      <th>trans_time</th>\n",
       "      <th>week_no</th>\n",
       "      <th>coupon_disc</th>\n",
       "      <th>coupon_match_disc</th>\n",
       "    </tr>\n",
       "  </thead>\n",
       "  <tbody>\n",
       "    <tr>\n",
       "      <th>0</th>\n",
       "      <td>2375</td>\n",
       "      <td>26984851472</td>\n",
       "      <td>1</td>\n",
       "      <td>1004906</td>\n",
       "      <td>1</td>\n",
       "      <td>1.39</td>\n",
       "      <td>364</td>\n",
       "      <td>-0.6</td>\n",
       "      <td>1631</td>\n",
       "      <td>1</td>\n",
       "      <td>0.0</td>\n",
       "      <td>0.0</td>\n",
       "    </tr>\n",
       "    <tr>\n",
       "      <th>1</th>\n",
       "      <td>2375</td>\n",
       "      <td>26984851472</td>\n",
       "      <td>1</td>\n",
       "      <td>1033142</td>\n",
       "      <td>1</td>\n",
       "      <td>0.82</td>\n",
       "      <td>364</td>\n",
       "      <td>0.0</td>\n",
       "      <td>1631</td>\n",
       "      <td>1</td>\n",
       "      <td>0.0</td>\n",
       "      <td>0.0</td>\n",
       "    </tr>\n",
       "  </tbody>\n",
       "</table>\n",
       "</div>"
      ],
      "text/plain": [
       "   user_id    basket_id  day  item_id  quantity  sales_value  store_id  \\\n",
       "0     2375  26984851472    1  1004906         1         1.39       364   \n",
       "1     2375  26984851472    1  1033142         1         0.82       364   \n",
       "\n",
       "   retail_disc  trans_time  week_no  coupon_disc  coupon_match_disc  \n",
       "0         -0.6        1631        1          0.0                0.0  \n",
       "1          0.0        1631        1          0.0                0.0  "
      ]
     },
     "execution_count": 2,
     "metadata": {},
     "output_type": "execute_result"
    }
   ],
   "source": [
    "data = pd.read_csv('../Lesson_2/retail_train.csv')\n",
    "item_features = pd.read_csv('../Lesson_2/product.csv')\n",
    "user_features = pd.read_csv('../Lesson_2/hh_demographic.csv')\n",
    "\n",
    "# column processing\n",
    "item_features.columns = [col.lower() for col in item_features.columns]\n",
    "user_features.columns = [col.lower() for col in user_features.columns]\n",
    "\n",
    "item_features.rename(columns={'product_id': 'item_id'}, inplace=True)\n",
    "user_features.rename(columns={'household_key': 'user_id'}, inplace=True)\n",
    "\n",
    "# train test split\n",
    "test_size_weeks = 3\n",
    "\n",
    "data_train = data[data['week_no'] < data['week_no'].max() - test_size_weeks]\n",
    "data_test = data[data['week_no'] >= data['week_no'].max() - test_size_weeks]\n",
    "\n",
    "data_train.head(2)"
   ]
  },
  {
   "cell_type": "code",
   "execution_count": 3,
   "id": "f592a63c",
   "metadata": {},
   "outputs": [
    {
     "name": "stdout",
     "output_type": "stream",
     "text": [
      "Decreased # items from 86865 to 5001\n"
     ]
    }
   ],
   "source": [
    "n_items_before = data_train['item_id'].nunique()\n",
    "\n",
    "data_train = prefilter_items(data_train, 5000,item_features)\n",
    "\n",
    "n_items_after = data_train['item_id'].nunique()\n",
    "print('Decreased # items from {} to {}'.format(n_items_before, n_items_after))"
   ]
  },
  {
   "cell_type": "code",
   "execution_count": 4,
   "id": "9396ac51",
   "metadata": {},
   "outputs": [],
   "source": [
    "popularity = data_train.groupby('item_id')['quantity'].sum().reset_index()\n",
    "popularity.rename(columns={'quantity': 'n_sold'}, inplace=True)\n",
    "\n",
    "top_5000 = popularity.sort_values('n_sold', ascending=False).head(5000).item_id.tolist()"
   ]
  },
  {
   "cell_type": "code",
   "execution_count": 5,
   "id": "b0d81790",
   "metadata": {},
   "outputs": [],
   "source": [
    "data_train.loc[~data_train['item_id'].isin(top_5000), 'item_id'] = 999999"
   ]
  },
  {
   "cell_type": "code",
   "execution_count": 6,
   "id": "447a53db",
   "metadata": {},
   "outputs": [
    {
     "data": {
      "text/html": [
       "<div>\n",
       "<style scoped>\n",
       "    .dataframe tbody tr th:only-of-type {\n",
       "        vertical-align: middle;\n",
       "    }\n",
       "\n",
       "    .dataframe tbody tr th {\n",
       "        vertical-align: top;\n",
       "    }\n",
       "\n",
       "    .dataframe thead th {\n",
       "        text-align: right;\n",
       "    }\n",
       "</style>\n",
       "<table border=\"1\" class=\"dataframe\">\n",
       "  <thead>\n",
       "    <tr style=\"text-align: right;\">\n",
       "      <th>item_id</th>\n",
       "      <th>117847</th>\n",
       "      <th>818981</th>\n",
       "      <th>819255</th>\n",
       "      <th>819308</th>\n",
       "      <th>819400</th>\n",
       "      <th>819487</th>\n",
       "      <th>819590</th>\n",
       "      <th>819594</th>\n",
       "      <th>819840</th>\n",
       "      <th>819845</th>\n",
       "      <th>...</th>\n",
       "      <th>15926775</th>\n",
       "      <th>15926844</th>\n",
       "      <th>15926886</th>\n",
       "      <th>15972074</th>\n",
       "      <th>15972298</th>\n",
       "      <th>15972565</th>\n",
       "      <th>15972790</th>\n",
       "      <th>16100266</th>\n",
       "      <th>16729299</th>\n",
       "      <th>16729415</th>\n",
       "    </tr>\n",
       "    <tr>\n",
       "      <th>user_id</th>\n",
       "      <th></th>\n",
       "      <th></th>\n",
       "      <th></th>\n",
       "      <th></th>\n",
       "      <th></th>\n",
       "      <th></th>\n",
       "      <th></th>\n",
       "      <th></th>\n",
       "      <th></th>\n",
       "      <th></th>\n",
       "      <th></th>\n",
       "      <th></th>\n",
       "      <th></th>\n",
       "      <th></th>\n",
       "      <th></th>\n",
       "      <th></th>\n",
       "      <th></th>\n",
       "      <th></th>\n",
       "      <th></th>\n",
       "      <th></th>\n",
       "      <th></th>\n",
       "    </tr>\n",
       "  </thead>\n",
       "  <tbody>\n",
       "    <tr>\n",
       "      <th>1</th>\n",
       "      <td>0.0</td>\n",
       "      <td>0.0</td>\n",
       "      <td>0.0</td>\n",
       "      <td>0.0</td>\n",
       "      <td>0.0</td>\n",
       "      <td>0.0</td>\n",
       "      <td>0.0</td>\n",
       "      <td>0.0</td>\n",
       "      <td>0.0</td>\n",
       "      <td>0.0</td>\n",
       "      <td>...</td>\n",
       "      <td>0.0</td>\n",
       "      <td>1.0</td>\n",
       "      <td>0.0</td>\n",
       "      <td>0.0</td>\n",
       "      <td>0.0</td>\n",
       "      <td>0.0</td>\n",
       "      <td>0.0</td>\n",
       "      <td>0.0</td>\n",
       "      <td>0.0</td>\n",
       "      <td>0.0</td>\n",
       "    </tr>\n",
       "    <tr>\n",
       "      <th>2</th>\n",
       "      <td>0.0</td>\n",
       "      <td>0.0</td>\n",
       "      <td>0.0</td>\n",
       "      <td>0.0</td>\n",
       "      <td>0.0</td>\n",
       "      <td>0.0</td>\n",
       "      <td>0.0</td>\n",
       "      <td>0.0</td>\n",
       "      <td>0.0</td>\n",
       "      <td>0.0</td>\n",
       "      <td>...</td>\n",
       "      <td>0.0</td>\n",
       "      <td>0.0</td>\n",
       "      <td>0.0</td>\n",
       "      <td>0.0</td>\n",
       "      <td>0.0</td>\n",
       "      <td>0.0</td>\n",
       "      <td>0.0</td>\n",
       "      <td>0.0</td>\n",
       "      <td>0.0</td>\n",
       "      <td>0.0</td>\n",
       "    </tr>\n",
       "  </tbody>\n",
       "</table>\n",
       "<p>2 rows × 5000 columns</p>\n",
       "</div>"
      ],
      "text/plain": [
       "item_id  117847    818981    819255    819308    819400    819487    819590    \\\n",
       "user_id                                                                         \n",
       "1             0.0       0.0       0.0       0.0       0.0       0.0       0.0   \n",
       "2             0.0       0.0       0.0       0.0       0.0       0.0       0.0   \n",
       "\n",
       "item_id  819594    819840    819845    ...  15926775  15926844  15926886  \\\n",
       "user_id                                ...                                 \n",
       "1             0.0       0.0       0.0  ...       0.0       1.0       0.0   \n",
       "2             0.0       0.0       0.0  ...       0.0       0.0       0.0   \n",
       "\n",
       "item_id  15972074  15972298  15972565  15972790  16100266  16729299  16729415  \n",
       "user_id                                                                        \n",
       "1             0.0       0.0       0.0       0.0       0.0       0.0       0.0  \n",
       "2             0.0       0.0       0.0       0.0       0.0       0.0       0.0  \n",
       "\n",
       "[2 rows x 5000 columns]"
      ]
     },
     "execution_count": 6,
     "metadata": {},
     "output_type": "execute_result"
    }
   ],
   "source": [
    "# Заведем фиктивный item_id (если юзер покупал товары из топ-5000, то он \"купил\" такой товар)\n",
    "# data_train.loc[~data_train['item_id'].isin(top_5000), 'item_id'] = 999999\n",
    "\n",
    "user_item_matrix = pd.pivot_table(data_train, \n",
    "                                  index='user_id', columns='item_id', \n",
    "                                  values='quantity', # Можно пробоват ьдругие варианты\n",
    "                                  aggfunc='count', \n",
    "                                  fill_value=0\n",
    "                                 )\n",
    "\n",
    "user_item_matrix = user_item_matrix.astype(float) # необходимый тип матрицы для implicit\n",
    "\n",
    "# переведем в формат saprse matrix\n",
    "sparse_user_item = csr_matrix(user_item_matrix).tocsr()\n",
    "\n",
    "user_item_matrix.head(2)"
   ]
  },
  {
   "cell_type": "code",
   "execution_count": 7,
   "id": "d823bc3f",
   "metadata": {},
   "outputs": [],
   "source": [
    "data_test = data_test[data_test['item_id'].isin(data_train['item_id'].unique())]"
   ]
  },
  {
   "cell_type": "code",
   "execution_count": 8,
   "id": "cf5665dd",
   "metadata": {},
   "outputs": [
    {
     "data": {
      "text/html": [
       "<div>\n",
       "<style scoped>\n",
       "    .dataframe tbody tr th:only-of-type {\n",
       "        vertical-align: middle;\n",
       "    }\n",
       "\n",
       "    .dataframe tbody tr th {\n",
       "        vertical-align: top;\n",
       "    }\n",
       "\n",
       "    .dataframe thead th {\n",
       "        text-align: right;\n",
       "    }\n",
       "</style>\n",
       "<table border=\"1\" class=\"dataframe\">\n",
       "  <thead>\n",
       "    <tr style=\"text-align: right;\">\n",
       "      <th></th>\n",
       "      <th>user_id</th>\n",
       "      <th>actual</th>\n",
       "    </tr>\n",
       "  </thead>\n",
       "  <tbody>\n",
       "    <tr>\n",
       "      <th>0</th>\n",
       "      <td>1</td>\n",
       "      <td>[856942, 865456, 951954, 971585, 979707, 99065...</td>\n",
       "    </tr>\n",
       "    <tr>\n",
       "      <th>1</th>\n",
       "      <td>3</td>\n",
       "      <td>[920626]</td>\n",
       "    </tr>\n",
       "  </tbody>\n",
       "</table>\n",
       "</div>"
      ],
      "text/plain": [
       "   user_id                                             actual\n",
       "0        1  [856942, 865456, 951954, 971585, 979707, 99065...\n",
       "1        3                                           [920626]"
      ]
     },
     "execution_count": 8,
     "metadata": {},
     "output_type": "execute_result"
    }
   ],
   "source": [
    "result = data_test.groupby('user_id')['item_id'].unique().reset_index()\n",
    "result.columns=['user_id', 'actual']\n",
    "result.head(2)"
   ]
  },
  {
   "cell_type": "code",
   "execution_count": 9,
   "id": "cc3c8901",
   "metadata": {},
   "outputs": [],
   "source": [
    "userids = user_item_matrix.index.values\n",
    "itemids = user_item_matrix.columns.values\n",
    "\n",
    "matrix_userids = np.arange(len(userids))\n",
    "matrix_itemids = np.arange(len(itemids))\n",
    "\n",
    "id_to_itemid = dict(zip(matrix_itemids, itemids))\n",
    "id_to_userid = dict(zip(matrix_userids, userids))\n",
    "\n",
    "itemid_to_id = dict(zip(itemids, matrix_itemids))\n",
    "userid_to_id = dict(zip(userids, matrix_userids))"
   ]
  },
  {
   "cell_type": "markdown",
   "id": "e1577a45",
   "metadata": {},
   "source": [
    "### SparkSession"
   ]
  },
  {
   "cell_type": "code",
   "execution_count": 10,
   "id": "6c82ecfc",
   "metadata": {},
   "outputs": [],
   "source": [
    "session = (\n",
    "        SparkSession.builder.config(\"spark.driver.memory\", \"1g\")\n",
    "        .config(\"spark.sql.shuffle.partitions\", \"100\")\n",
    "        .config(\"spark.driver.bindAddress\", \"127.0.0.1\")\n",
    "        .config(\"spark.driver.host\", \"localhost\")\n",
    "        .master(\"local[*]\")\n",
    "        .enableHiveSupport()\n",
    "        .getOrCreate()\n",
    "    )"
   ]
  },
  {
   "cell_type": "code",
   "execution_count": 11,
   "id": "df68cff0",
   "metadata": {},
   "outputs": [
    {
     "data": {
      "text/html": [
       "\n",
       "            <div>\n",
       "                <p><b>SparkSession - hive</b></p>\n",
       "                \n",
       "        <div>\n",
       "            <p><b>SparkContext</b></p>\n",
       "\n",
       "            <p><a href=\"http://localhost:4040\">Spark UI</a></p>\n",
       "\n",
       "            <dl>\n",
       "              <dt>Version</dt>\n",
       "                <dd><code>v3.3.0</code></dd>\n",
       "              <dt>Master</dt>\n",
       "                <dd><code>local[*]</code></dd>\n",
       "              <dt>AppName</dt>\n",
       "                <dd><code>pyspark-shell</code></dd>\n",
       "            </dl>\n",
       "        </div>\n",
       "        \n",
       "            </div>\n",
       "        "
      ],
      "text/plain": [
       "<pyspark.sql.session.SparkSession at 0x238006a0730>"
      ]
     },
     "execution_count": 11,
     "metadata": {},
     "output_type": "execute_result"
    }
   ],
   "source": [
    "session"
   ]
  },
  {
   "cell_type": "code",
   "execution_count": 12,
   "id": "680f7fe6",
   "metadata": {},
   "outputs": [],
   "source": [
    "spark_data_train=session.createDataFrame(data_train[[\"user_id\",\"item_id\",\"quantity\"]])"
   ]
  },
  {
   "cell_type": "code",
   "execution_count": 13,
   "id": "b096ee47",
   "metadata": {},
   "outputs": [],
   "source": [
    "spark_data_train= spark_data_train.withColumnRenamed(\"quantity\",\"relevance\")"
   ]
  },
  {
   "cell_type": "code",
   "execution_count": 14,
   "id": "a072db54",
   "metadata": {},
   "outputs": [
    {
     "name": "stdout",
     "output_type": "stream",
     "text": [
      "+-------+-------+---------+\n",
      "|user_id|item_id|relevance|\n",
      "+-------+-------+---------+\n",
      "|   2375|1085983|        1|\n",
      "|   1364| 999999|        1|\n",
      "|   1364| 999999|        1|\n",
      "|   1364| 999999|        1|\n",
      "|   1364| 937406|        1|\n",
      "|   1172| 999999|        1|\n",
      "|   1172| 999999|        1|\n",
      "|   1172|1000493|        1|\n",
      "|   1172| 999999|        1|\n",
      "|   1172|1075214|        1|\n",
      "+-------+-------+---------+\n",
      "only showing top 10 rows\n",
      "\n"
     ]
    }
   ],
   "source": [
    "spark_data_train.show(10)"
   ]
  },
  {
   "cell_type": "code",
   "execution_count": 15,
   "id": "bcdc10a1",
   "metadata": {},
   "outputs": [],
   "source": [
    "model = ALS(\n",
    "            rank=30,\n",
    "            userCol=\"user_id\",\n",
    "            itemCol=\"item_id\",\n",
    "            ratingCol=\"relevance\",\n",
    "            maxIter = 10,\n",
    "            alpha = 1.0,\n",
    "            regParam = 0.1,\n",
    "            implicitPrefs=True,\n",
    "            seed=42,\n",
    "            coldStartStrategy=\"drop\",\n",
    "        ).fit(spark_data_train)"
   ]
  },
  {
   "cell_type": "code",
   "execution_count": 16,
   "id": "633979cc",
   "metadata": {},
   "outputs": [
    {
     "name": "stdout",
     "output_type": "stream",
     "text": [
      "+---+--------------------+\n",
      "| id|            features|\n",
      "+---+--------------------+\n",
      "| 10|[-0.0830877, -0.3...|\n",
      "| 20|[0.018859226, -0....|\n",
      "| 30|[-0.12530617, -0....|\n",
      "| 40|[-0.059800778, -0...|\n",
      "| 50|[-0.104898944, -0...|\n",
      "| 60|[-0.12452123, -0....|\n",
      "| 70|[-0.046614755, -0...|\n",
      "| 80|[-0.19489606, -0....|\n",
      "| 90|[-0.06411172, -0....|\n",
      "|100|[-0.118710324, -0...|\n",
      "|110|[-0.12317703, -0....|\n",
      "|120|[-0.10826519, -0....|\n",
      "|130|[-0.15873677, -0....|\n",
      "|140|[-0.2022574, -0.4...|\n",
      "|150|[-0.066191465, -0...|\n",
      "|160|[-0.13881871, -0....|\n",
      "|170|[-0.072075315, -0...|\n",
      "|180|[-0.033121612, -0...|\n",
      "|190|[-0.09017785, -0....|\n",
      "|200|[-0.16803524, -0....|\n",
      "+---+--------------------+\n",
      "only showing top 20 rows\n",
      "\n"
     ]
    }
   ],
   "source": [
    "model.userFactors.show()"
   ]
  },
  {
   "cell_type": "code",
   "execution_count": 17,
   "id": "61e3c669",
   "metadata": {},
   "outputs": [],
   "source": [
    "recs_als = model.recommendForAllUsers(6)"
   ]
  },
  {
   "cell_type": "code",
   "execution_count": 18,
   "id": "fb433811",
   "metadata": {},
   "outputs": [
    {
     "data": {
      "text/plain": [
       "2497"
      ]
     },
     "execution_count": 18,
     "metadata": {},
     "output_type": "execute_result"
    }
   ],
   "source": [
    "recs_als.count()"
   ]
  },
  {
   "cell_type": "code",
   "execution_count": 19,
   "id": "b2d143a2",
   "metadata": {},
   "outputs": [
    {
     "name": "stdout",
     "output_type": "stream",
     "text": [
      "+-------+--------------------+\n",
      "|user_id|     recommendations|\n",
      "+-------+--------------------+\n",
      "|      4|[{999999, 1.47513...|\n",
      "|      7|[{999999, 1.80322...|\n",
      "|      8|[{999999, 1.77219...|\n",
      "|     23|[{999999, 1.78213...|\n",
      "|     26|[{999999, 1.57036...|\n",
      "|     27|[{963686, 1.73333...|\n",
      "|     28|[{999999, 1.77851...|\n",
      "|     31|[{999999, 1.74919...|\n",
      "|     34|[{999999, 1.35183...|\n",
      "|     39|[{999999, 1.74897...|\n",
      "|     44|[{999999, 1.52943...|\n",
      "|     49|[{999999, 1.77759...|\n",
      "|     51|[{999999, 1.69727...|\n",
      "|     53|[{999999, 1.79796...|\n",
      "|     55|[{999999, 1.64983...|\n",
      "|     59|[{999999, 1.61712...|\n",
      "|     63|[{999999, 1.62612...|\n",
      "|     65|[{999999, 1.80919...|\n",
      "|     69|[{999999, 1.66811...|\n",
      "|     76|[{999999, 1.36989...|\n",
      "+-------+--------------------+\n",
      "only showing top 20 rows\n",
      "\n"
     ]
    }
   ],
   "source": [
    "recs_als.show()"
   ]
  },
  {
   "cell_type": "code",
   "execution_count": 20,
   "id": "0a21cc16",
   "metadata": {},
   "outputs": [],
   "source": [
    "recs_als=(recs_als.withColumn(\n",
    "                    \"recommendations\", sf.explode(\"recommendations\")\n",
    "                )\n",
    "                .withColumn(\"item_id\", sf.col(\"recommendations.item_id\"))\n",
    "                .withColumn(\n",
    "                    \"relevance\",\n",
    "                    sf.col(\"recommendations.rating\").cast(DoubleType()),\n",
    "                )\n",
    "                .select(\"user_id\", \"item_id\", \"relevance\")\n",
    "            )"
   ]
  },
  {
   "cell_type": "code",
   "execution_count": 21,
   "id": "13f9f21d",
   "metadata": {},
   "outputs": [
    {
     "name": "stdout",
     "output_type": "stream",
     "text": [
      "+-------+-------+------------------+\n",
      "|user_id|item_id|         relevance|\n",
      "+-------+-------+------------------+\n",
      "|      4| 999999|1.4751384258270264|\n",
      "|      4|1029743| 1.166101098060608|\n",
      "|      4|1106523| 1.019912838935852|\n",
      "|      4|5569230|0.9501171112060547|\n",
      "|      4|1075368| 0.893861711025238|\n",
      "|      4| 916122|0.7827973365783691|\n",
      "|      7| 999999|1.8032265901565552|\n",
      "|      7|1029743|1.4123412370681763|\n",
      "|      7|1106523|1.2852665185928345|\n",
      "|      7| 916122|1.0509498119354248|\n",
      "|      7|1126899|0.9857137203216553|\n",
      "|      7| 866211|0.9066903591156006|\n",
      "|      8| 999999|1.7721924781799316|\n",
      "|      8|1029743| 1.498128890991211|\n",
      "|      8|1106523|1.3509629964828491|\n",
      "|      8| 916122| 1.225055456161499|\n",
      "|      8|5569230| 1.180891513824463|\n",
      "|      8| 844179|1.1787959337234497|\n",
      "|     23| 999999|1.7821309566497803|\n",
      "|     23|1029743|1.3663578033447266|\n",
      "+-------+-------+------------------+\n",
      "only showing top 20 rows\n",
      "\n"
     ]
    }
   ],
   "source": [
    "recs_als.show()"
   ]
  },
  {
   "cell_type": "code",
   "execution_count": 22,
   "id": "5bf78ada",
   "metadata": {},
   "outputs": [],
   "source": [
    "recs_all = pd.concat([recs_als.toPandas().groupby('user_id')['relevance'].unique().reset_index(), \n",
    "                        pd.DataFrame(pd.DataFrame(recs_als.toPandas().groupby('user_id')['item_id'].\n",
    "                                                  unique().reset_index()['item_id'].values.tolist()).\n",
    "                                     drop(0, axis=1).apply(lambda x: list(x), axis=1), columns=['rec_item'])], \n",
    "                       axis=1).reindex(columns=['user_id', 'rec_item', 'relevance'])"
   ]
  },
  {
   "cell_type": "code",
   "execution_count": 23,
   "id": "10701950",
   "metadata": {},
   "outputs": [
    {
     "data": {
      "text/html": [
       "<div>\n",
       "<style scoped>\n",
       "    .dataframe tbody tr th:only-of-type {\n",
       "        vertical-align: middle;\n",
       "    }\n",
       "\n",
       "    .dataframe tbody tr th {\n",
       "        vertical-align: top;\n",
       "    }\n",
       "\n",
       "    .dataframe thead th {\n",
       "        text-align: right;\n",
       "    }\n",
       "</style>\n",
       "<table border=\"1\" class=\"dataframe\">\n",
       "  <thead>\n",
       "    <tr style=\"text-align: right;\">\n",
       "      <th></th>\n",
       "      <th>user_id</th>\n",
       "      <th>rec_item</th>\n",
       "      <th>relevance</th>\n",
       "    </tr>\n",
       "  </thead>\n",
       "  <tbody>\n",
       "    <tr>\n",
       "      <th>0</th>\n",
       "      <td>1</td>\n",
       "      <td>[856942, 1029743, 940947, 1070820, 5569374]</td>\n",
       "      <td>[1.754142165184021, 1.4877140522003174, 1.3815...</td>\n",
       "    </tr>\n",
       "    <tr>\n",
       "      <th>1</th>\n",
       "      <td>2</td>\n",
       "      <td>[1029743, 1106523, 5569230, 916122, 844179]</td>\n",
       "      <td>[1.7930480241775513, 1.45193612575531, 1.34983...</td>\n",
       "    </tr>\n",
       "    <tr>\n",
       "      <th>2</th>\n",
       "      <td>3</td>\n",
       "      <td>[1106523, 1029743, 1044078, 5569230, 844179]</td>\n",
       "      <td>[1.5328633785247803, 1.3596229553222656, 1.357...</td>\n",
       "    </tr>\n",
       "    <tr>\n",
       "      <th>3</th>\n",
       "      <td>4</td>\n",
       "      <td>[1029743, 1106523, 5569230, 1075368, 916122]</td>\n",
       "      <td>[1.4751384258270264, 1.166101098060608, 1.0199...</td>\n",
       "    </tr>\n",
       "    <tr>\n",
       "      <th>4</th>\n",
       "      <td>5</td>\n",
       "      <td>[1029743, 1106523, 916122, 5569230, 1126899]</td>\n",
       "      <td>[1.7350740432739258, 1.242747187614441, 1.0607...</td>\n",
       "    </tr>\n",
       "    <tr>\n",
       "      <th>...</th>\n",
       "      <td>...</td>\n",
       "      <td>...</td>\n",
       "      <td>...</td>\n",
       "    </tr>\n",
       "    <tr>\n",
       "      <th>2492</th>\n",
       "      <td>2496</td>\n",
       "      <td>[1029743, 1106523, 844179, 1044078, 916122]</td>\n",
       "      <td>[1.7483608722686768, 1.5411415100097656, 1.468...</td>\n",
       "    </tr>\n",
       "    <tr>\n",
       "      <th>2493</th>\n",
       "      <td>2497</td>\n",
       "      <td>[1029743, 1106523, 5569230, 899624, 5569471]</td>\n",
       "      <td>[1.7116905450820923, 1.5871490240097046, 1.471...</td>\n",
       "    </tr>\n",
       "    <tr>\n",
       "      <th>2494</th>\n",
       "      <td>2498</td>\n",
       "      <td>[1029743, 1106523, 916122, 1070820, 5569230]</td>\n",
       "      <td>[1.7716944217681885, 1.3768523931503296, 1.147...</td>\n",
       "    </tr>\n",
       "    <tr>\n",
       "      <th>2495</th>\n",
       "      <td>2499</td>\n",
       "      <td>[1029743, 1106523, 5569230, 1044078, 916122]</td>\n",
       "      <td>[1.7756187915802002, 1.51124107837677, 1.39539...</td>\n",
       "    </tr>\n",
       "    <tr>\n",
       "      <th>2496</th>\n",
       "      <td>2500</td>\n",
       "      <td>[1029743, 1070820, 1126899, 916122, 1106523]</td>\n",
       "      <td>[1.7580337524414062, 1.3743444681167603, 1.195...</td>\n",
       "    </tr>\n",
       "  </tbody>\n",
       "</table>\n",
       "<p>2497 rows × 3 columns</p>\n",
       "</div>"
      ],
      "text/plain": [
       "      user_id                                      rec_item  \\\n",
       "0           1   [856942, 1029743, 940947, 1070820, 5569374]   \n",
       "1           2   [1029743, 1106523, 5569230, 916122, 844179]   \n",
       "2           3  [1106523, 1029743, 1044078, 5569230, 844179]   \n",
       "3           4  [1029743, 1106523, 5569230, 1075368, 916122]   \n",
       "4           5  [1029743, 1106523, 916122, 5569230, 1126899]   \n",
       "...       ...                                           ...   \n",
       "2492     2496   [1029743, 1106523, 844179, 1044078, 916122]   \n",
       "2493     2497  [1029743, 1106523, 5569230, 899624, 5569471]   \n",
       "2494     2498  [1029743, 1106523, 916122, 1070820, 5569230]   \n",
       "2495     2499  [1029743, 1106523, 5569230, 1044078, 916122]   \n",
       "2496     2500  [1029743, 1070820, 1126899, 916122, 1106523]   \n",
       "\n",
       "                                              relevance  \n",
       "0     [1.754142165184021, 1.4877140522003174, 1.3815...  \n",
       "1     [1.7930480241775513, 1.45193612575531, 1.34983...  \n",
       "2     [1.5328633785247803, 1.3596229553222656, 1.357...  \n",
       "3     [1.4751384258270264, 1.166101098060608, 1.0199...  \n",
       "4     [1.7350740432739258, 1.242747187614441, 1.0607...  \n",
       "...                                                 ...  \n",
       "2492  [1.7483608722686768, 1.5411415100097656, 1.468...  \n",
       "2493  [1.7116905450820923, 1.5871490240097046, 1.471...  \n",
       "2494  [1.7716944217681885, 1.3768523931503296, 1.147...  \n",
       "2495  [1.7756187915802002, 1.51124107837677, 1.39539...  \n",
       "2496  [1.7580337524414062, 1.3743444681167603, 1.195...  \n",
       "\n",
       "[2497 rows x 3 columns]"
      ]
     },
     "execution_count": 23,
     "metadata": {},
     "output_type": "execute_result"
    }
   ],
   "source": [
    "recs_all"
   ]
  },
  {
   "cell_type": "code",
   "execution_count": 24,
   "id": "ecd14c89",
   "metadata": {},
   "outputs": [],
   "source": [
    "result = pd.merge(result, recs_all, on='user_id')"
   ]
  },
  {
   "cell_type": "code",
   "execution_count": 25,
   "id": "4353a0dd",
   "metadata": {},
   "outputs": [
    {
     "data": {
      "text/html": [
       "<div>\n",
       "<style scoped>\n",
       "    .dataframe tbody tr th:only-of-type {\n",
       "        vertical-align: middle;\n",
       "    }\n",
       "\n",
       "    .dataframe tbody tr th {\n",
       "        vertical-align: top;\n",
       "    }\n",
       "\n",
       "    .dataframe thead th {\n",
       "        text-align: right;\n",
       "    }\n",
       "</style>\n",
       "<table border=\"1\" class=\"dataframe\">\n",
       "  <thead>\n",
       "    <tr style=\"text-align: right;\">\n",
       "      <th></th>\n",
       "      <th>user_id</th>\n",
       "      <th>actual</th>\n",
       "      <th>rec_item</th>\n",
       "      <th>relevance</th>\n",
       "    </tr>\n",
       "  </thead>\n",
       "  <tbody>\n",
       "    <tr>\n",
       "      <th>0</th>\n",
       "      <td>1</td>\n",
       "      <td>[856942, 865456, 951954, 971585, 979707, 99065...</td>\n",
       "      <td>[856942, 1029743, 940947, 1070820, 5569374]</td>\n",
       "      <td>[1.754142165184021, 1.4877140522003174, 1.3815...</td>\n",
       "    </tr>\n",
       "    <tr>\n",
       "      <th>1</th>\n",
       "      <td>3</td>\n",
       "      <td>[920626]</td>\n",
       "      <td>[1106523, 1029743, 1044078, 5569230, 844179]</td>\n",
       "      <td>[1.5328633785247803, 1.3596229553222656, 1.357...</td>\n",
       "    </tr>\n",
       "    <tr>\n",
       "      <th>2</th>\n",
       "      <td>6</td>\n",
       "      <td>[1104227, 825541, 870315, 956672, 6979393, 948...</td>\n",
       "      <td>[1026118, 1029743, 854852, 878996, 1106523]</td>\n",
       "      <td>[1.7849090099334717, 1.494471549987793, 1.4691...</td>\n",
       "    </tr>\n",
       "    <tr>\n",
       "      <th>3</th>\n",
       "      <td>7</td>\n",
       "      <td>[898068, 909714, 993838, 1082185, 1106523, 110...</td>\n",
       "      <td>[1029743, 1106523, 916122, 1126899, 866211]</td>\n",
       "      <td>[1.8032265901565552, 1.4123412370681763, 1.285...</td>\n",
       "    </tr>\n",
       "    <tr>\n",
       "      <th>4</th>\n",
       "      <td>8</td>\n",
       "      <td>[835098, 872137, 5569230, 5569471, 13071586, 8...</td>\n",
       "      <td>[1029743, 1106523, 916122, 5569230, 844179]</td>\n",
       "      <td>[1.7721924781799316, 1.498128890991211, 1.3509...</td>\n",
       "    </tr>\n",
       "    <tr>\n",
       "      <th>...</th>\n",
       "      <td>...</td>\n",
       "      <td>...</td>\n",
       "      <td>...</td>\n",
       "      <td>...</td>\n",
       "    </tr>\n",
       "    <tr>\n",
       "      <th>1910</th>\n",
       "      <td>2494</td>\n",
       "      <td>[859075, 5568729]</td>\n",
       "      <td>[1029743, 1106523, 916122, 5569230, 1126899]</td>\n",
       "      <td>[1.6786227226257324, 1.295777678489685, 1.0958...</td>\n",
       "    </tr>\n",
       "    <tr>\n",
       "      <th>1911</th>\n",
       "      <td>2497</td>\n",
       "      <td>[1016709, 871756, 1068719, 1115187, 1134222, 1...</td>\n",
       "      <td>[1029743, 1106523, 5569230, 899624, 5569471]</td>\n",
       "      <td>[1.7116905450820923, 1.5871490240097046, 1.471...</td>\n",
       "    </tr>\n",
       "    <tr>\n",
       "      <th>1912</th>\n",
       "      <td>2498</td>\n",
       "      <td>[901776, 958382, 972437, 1070820, 1022066, 978...</td>\n",
       "      <td>[1029743, 1106523, 916122, 1070820, 5569230]</td>\n",
       "      <td>[1.7716944217681885, 1.3768523931503296, 1.147...</td>\n",
       "    </tr>\n",
       "    <tr>\n",
       "      <th>1913</th>\n",
       "      <td>2499</td>\n",
       "      <td>[902396, 951590, 1060872, 1106091, 1119993, 55...</td>\n",
       "      <td>[1029743, 1106523, 5569230, 1044078, 916122]</td>\n",
       "      <td>[1.7756187915802002, 1.51124107837677, 1.39539...</td>\n",
       "    </tr>\n",
       "    <tr>\n",
       "      <th>1914</th>\n",
       "      <td>2500</td>\n",
       "      <td>[856345, 948670, 1018007, 1128016, 961979, 111...</td>\n",
       "      <td>[1029743, 1070820, 1126899, 916122, 1106523]</td>\n",
       "      <td>[1.7580337524414062, 1.3743444681167603, 1.195...</td>\n",
       "    </tr>\n",
       "  </tbody>\n",
       "</table>\n",
       "<p>1915 rows × 4 columns</p>\n",
       "</div>"
      ],
      "text/plain": [
       "      user_id                                             actual  \\\n",
       "0           1  [856942, 865456, 951954, 971585, 979707, 99065...   \n",
       "1           3                                           [920626]   \n",
       "2           6  [1104227, 825541, 870315, 956672, 6979393, 948...   \n",
       "3           7  [898068, 909714, 993838, 1082185, 1106523, 110...   \n",
       "4           8  [835098, 872137, 5569230, 5569471, 13071586, 8...   \n",
       "...       ...                                                ...   \n",
       "1910     2494                                  [859075, 5568729]   \n",
       "1911     2497  [1016709, 871756, 1068719, 1115187, 1134222, 1...   \n",
       "1912     2498  [901776, 958382, 972437, 1070820, 1022066, 978...   \n",
       "1913     2499  [902396, 951590, 1060872, 1106091, 1119993, 55...   \n",
       "1914     2500  [856345, 948670, 1018007, 1128016, 961979, 111...   \n",
       "\n",
       "                                          rec_item  \\\n",
       "0      [856942, 1029743, 940947, 1070820, 5569374]   \n",
       "1     [1106523, 1029743, 1044078, 5569230, 844179]   \n",
       "2      [1026118, 1029743, 854852, 878996, 1106523]   \n",
       "3      [1029743, 1106523, 916122, 1126899, 866211]   \n",
       "4      [1029743, 1106523, 916122, 5569230, 844179]   \n",
       "...                                            ...   \n",
       "1910  [1029743, 1106523, 916122, 5569230, 1126899]   \n",
       "1911  [1029743, 1106523, 5569230, 899624, 5569471]   \n",
       "1912  [1029743, 1106523, 916122, 1070820, 5569230]   \n",
       "1913  [1029743, 1106523, 5569230, 1044078, 916122]   \n",
       "1914  [1029743, 1070820, 1126899, 916122, 1106523]   \n",
       "\n",
       "                                              relevance  \n",
       "0     [1.754142165184021, 1.4877140522003174, 1.3815...  \n",
       "1     [1.5328633785247803, 1.3596229553222656, 1.357...  \n",
       "2     [1.7849090099334717, 1.494471549987793, 1.4691...  \n",
       "3     [1.8032265901565552, 1.4123412370681763, 1.285...  \n",
       "4     [1.7721924781799316, 1.498128890991211, 1.3509...  \n",
       "...                                                 ...  \n",
       "1910  [1.6786227226257324, 1.295777678489685, 1.0958...  \n",
       "1911  [1.7116905450820923, 1.5871490240097046, 1.471...  \n",
       "1912  [1.7716944217681885, 1.3768523931503296, 1.147...  \n",
       "1913  [1.7756187915802002, 1.51124107837677, 1.39539...  \n",
       "1914  [1.7580337524414062, 1.3743444681167603, 1.195...  \n",
       "\n",
       "[1915 rows x 4 columns]"
      ]
     },
     "execution_count": 25,
     "metadata": {},
     "output_type": "execute_result"
    }
   ],
   "source": [
    "result"
   ]
  },
  {
   "cell_type": "code",
   "execution_count": 26,
   "id": "1cf722ef",
   "metadata": {},
   "outputs": [
    {
     "name": "stdout",
     "output_type": "stream",
     "text": [
      "precision@k = 0.17221932114882307\n",
      " recall@k = 0.056687276322194696\n",
      " map@k = 0.025716752017380506\n",
      " ndcg@k = 0.18903675706226686\n"
     ]
    }
   ],
   "source": [
    "print(f'precision@k = ' \n",
    "      f'{result.apply(lambda row: precision_at_k(row[\"rec_item\"],row[\"actual\"], k=5), axis=1).mean()}\\n',\n",
    "      f'recall@k = {result.apply(lambda row: recall_at_k(row[\"rec_item\"], row[\"actual\"], k=5), axis=1).mean()}\\n', \n",
    "      f'map@k = {result.apply(lambda row: ap_k_2(row[\"rec_item\"], row[\"actual\"], k=5), axis=1).mean()}\\n',\n",
    "      f'ndcg@k = {result.apply(lambda row: ndcg_at_k(row[\"rec_item\"], row[\"actual\"], k=5), axis=1).mean()}')"
   ]
  },
  {
   "cell_type": "code",
   "execution_count": 27,
   "id": "cd8cfe6d",
   "metadata": {},
   "outputs": [
    {
     "data": {
      "application/vnd.jupyter.widget-view+json": {
       "model_id": "0708c3ae929944008515148fdfa292ae",
       "version_major": 2,
       "version_minor": 0
      },
      "text/plain": [
       "  0%|          | 0/15 [00:00<?, ?it/s]"
      ]
     },
     "metadata": {},
     "output_type": "display_data"
    },
    {
     "data": {
      "application/vnd.jupyter.widget-view+json": {
       "model_id": "1130250075404d92831ad7d6303d701f",
       "version_major": 2,
       "version_minor": 0
      },
      "text/plain": [
       "  0%|          | 0/5000 [00:00<?, ?it/s]"
      ]
     },
     "metadata": {},
     "output_type": "display_data"
    }
   ],
   "source": [
    "recommender = MainRecommender(data_train)"
   ]
  },
  {
   "cell_type": "code",
   "execution_count": 28,
   "id": "cd006de4",
   "metadata": {},
   "outputs": [],
   "source": [
    "bm25_user_item_matrix = bm25_weight(user_item_matrix).tocsr()\n",
    "tfidf_user_item_matrix = tfidf_weight(user_item_matrix).tocsr()"
   ]
  },
  {
   "cell_type": "code",
   "execution_count": 29,
   "id": "85513862",
   "metadata": {},
   "outputs": [
    {
     "data": {
      "application/vnd.jupyter.widget-view+json": {
       "model_id": "781a56c400ee4be78e8f4366adaccd23",
       "version_major": 2,
       "version_minor": 0
      },
      "text/plain": [
       "  0%|          | 0/1 [00:00<?, ?it/s]"
      ]
     },
     "metadata": {},
     "output_type": "display_data"
    },
    {
     "name": "stdout",
     "output_type": "stream",
     "text": [
      "CPU times: total: 40.5 s\n",
      "Wall time: 6.41 s\n"
     ]
    },
    {
     "data": {
      "text/plain": [
       "0.22266318537858706"
      ]
     },
     "execution_count": 29,
     "metadata": {},
     "output_type": "execute_result"
    }
   ],
   "source": [
    "%%time\n",
    "\n",
    "recommender.model = AlternatingLeastSquares(factors=350, \n",
    "                                regularization=0.05,\n",
    "                                iterations=1, \n",
    "                                calculate_training_loss=True, \n",
    "                                num_threads=4,\n",
    "                                random_state=42) # K - кол-во билжайших соседей\n",
    "\n",
    "recommender.model.fit(tfidf_user_item_matrix,  # На вход item-user matrix\n",
    "          show_progress=True)\n",
    "\n",
    "result['als_tfidf'] = result['user_id'].map(lambda x: recommender.get_als_recommendations(x, N=5))\n",
    "\n",
    "result.apply(lambda row: precision_at_k(row['als_tfidf'], row['actual']), axis=1).mean()"
   ]
  },
  {
   "cell_type": "code",
   "execution_count": 30,
   "id": "3fe76df3",
   "metadata": {},
   "outputs": [
    {
     "data": {
      "application/vnd.jupyter.widget-view+json": {
       "model_id": "9558eb7ab3a2451d8b2f5fcb6aac9c1b",
       "version_major": 2,
       "version_minor": 0
      },
      "text/plain": [
       "  0%|          | 0/1 [00:00<?, ?it/s]"
      ]
     },
     "metadata": {},
     "output_type": "display_data"
    },
    {
     "name": "stdout",
     "output_type": "stream",
     "text": [
      "CPU times: total: 41.4 s\n",
      "Wall time: 6.42 s\n"
     ]
    },
    {
     "data": {
      "text/plain": [
       "0.22997389033942284"
      ]
     },
     "execution_count": 30,
     "metadata": {},
     "output_type": "execute_result"
    }
   ],
   "source": [
    "%%time\n",
    "\n",
    "recommender.model = AlternatingLeastSquares(factors=350, \n",
    "                                regularization=0.05,\n",
    "                                iterations=1, \n",
    "                                calculate_training_loss=True, \n",
    "                                num_threads=4,\n",
    "                                random_state=42) # K - кол-во билжайших соседей\n",
    "\n",
    "recommender.model.fit(csr_matrix(bm25_user_item_matrix).tocsr(), \n",
    "                      show_progress=True)\n",
    "\n",
    "result['als_bm25'] = result['user_id'].map(lambda x: recommender.get_als_recommendations(x, N=5))\n",
    "\n",
    "result.apply(lambda row: precision_at_k(row['als_bm25'], row['actual']), axis=1).mean()"
   ]
  },
  {
   "cell_type": "code",
   "execution_count": 31,
   "id": "644774af",
   "metadata": {},
   "outputs": [
    {
     "name": "stdout",
     "output_type": "stream",
     "text": [
      "pyspark_precision@k = 0.17221932114882307\n",
      " pyspark_recall@k = 0.056687276322194696\n",
      " pyspark_map@k = 0.025716752017380506\n",
      " pyspark_ndcg@k = 0.18903675706226686\n",
      "\n",
      "\n",
      "\n",
      "implicit_precision@k = 0.22997389033942284\n",
      " implicit_recall@k = 0.08414273284902231\n",
      " implicit_map@k = 0.043079187075706744\n",
      " implicit_ndcg@k = 0.2501779670713585\n"
     ]
    }
   ],
   "source": [
    "print(f'pyspark_precision@k = ' \n",
    "      f'{result.apply(lambda row: precision_at_k(row[\"rec_item\"],row[\"actual\"], k=5), axis=1).mean()}\\n',\n",
    "      f'pyspark_recall@k = '\n",
    "      f'{result.apply(lambda row: recall_at_k(row[\"rec_item\"], row[\"actual\"], k=5), axis=1).mean()}\\n', \n",
    "      f'pyspark_map@k = '\n",
    "      f'{result.apply(lambda row: ap_k_2(row[\"rec_item\"], row[\"actual\"], k=5), axis=1).mean()}\\n',\n",
    "      f'pyspark_ndcg@k = '\n",
    "      f'{result.apply(lambda row: ndcg_at_k(row[\"rec_item\"], row[\"actual\"], k=5), axis=1).mean()}\\n\\n\\n')\n",
    "print(f'implicit_precision@k = ' \n",
    "      f'{result.apply(lambda row: precision_at_k(row[\"als_bm25\"],row[\"actual\"], k=5), axis=1).mean()}\\n',\n",
    "      f'implicit_recall@k = '\n",
    "      f'{result.apply(lambda row: recall_at_k(row[\"als_bm25\"], row[\"actual\"], k=5), axis=1).mean()}\\n',  \n",
    "      f'implicit_map@k = '\n",
    "      f'{result.apply(lambda row: ap_k_2(row[\"als_bm25\"], row[\"actual\"], k=5), axis=1).mean()}\\n',\n",
    "      f'implicit_ndcg@k = '\n",
    "      f'{result.apply(lambda row: ndcg_at_k(row[\"als_bm25\"], row[\"actual\"], k=5), axis=1).mean()}')"
   ]
  },
  {
   "cell_type": "markdown",
   "id": "5f7f017d",
   "metadata": {},
   "source": [
    "### pyspark.ALS на много хуже чем implicit.als с весами bm25."
   ]
  },
  {
   "cell_type": "markdown",
   "id": "a2d7a35f",
   "metadata": {},
   "source": [
    "##### А с учетом того времени, которое было затрачено на то чтобы запустить _pyspark_ на jupyter notebook, \n",
    "##### и заставить работать pyspark 3.3.x c JDK 19, _implicit_ значительно выигрывает в условиях данной задачи."
   ]
  }
 ],
 "metadata": {
  "kernelspec": {
   "display_name": "Python 3 (ipykernel)",
   "language": "python",
   "name": "python3"
  },
  "language_info": {
   "codemirror_mode": {
    "name": "ipython",
    "version": 3
   },
   "file_extension": ".py",
   "mimetype": "text/x-python",
   "name": "python",
   "nbconvert_exporter": "python",
   "pygments_lexer": "ipython3",
   "version": "3.9.12"
  }
 },
 "nbformat": 4,
 "nbformat_minor": 5
}
