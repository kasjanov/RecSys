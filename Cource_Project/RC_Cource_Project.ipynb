{
 "cells": [
  {
   "cell_type": "markdown",
   "id": "33267d71",
   "metadata": {},
   "source": [
    "# __Course project on recommendation systems__"
   ]
  },
  {
   "cell_type": "markdown",
   "id": "f81d56a4",
   "metadata": {},
   "source": [
    "### Importing modules and libraries"
   ]
  },
  {
   "cell_type": "code",
   "execution_count": 1,
   "id": "a75a6a9b",
   "metadata": {},
   "outputs": [],
   "source": [
    "import pandas as pd\n",
    "import numpy as np\n",
    "import os, sys, itertools\n",
    "import warnings\n",
    "import matplotlib.pyplot as plt\n",
    "%matplotlib inline\n",
    "%load_ext autoreload\n",
    "%autoreload 2\n",
    "warnings.filterwarnings('ignore')\n",
    "\n",
    "module_path = os.path.abspath(os.path.join(os.pardir))\n",
    "if module_path not in sys.path:\n",
    "    sys.path.append(module_path)\n",
    "    \n",
    "# Для работы pyspark с JAVA.JDK и работы самого pyspark\n",
    "os.environ[\"JAVA_HOME\"] = \"C:\\Program Files\\Java\\jdk-19\"\n",
    "os.environ[\"PATH\"] = os.environ[\"JAVA_HOME\"] + \"\\bin:\" + os.environ[\"PATH\"]\n",
    "os.environ['PYSPARK_DRIVER_PYTHON_OPTS']= \"notebook\"\n",
    "os.environ['PYSPARK_DRIVER_PYTHON'] = sys.executable\n",
    "os.environ['PYSPARK_PYTHON'] = sys.executable\n",
    "\n",
    "# Для работы с pyspark\n",
    "import pyspark.sql.functions as sf\n",
    "from pyspark.ml.recommendation import ALS\n",
    "from pyspark.sql import SparkSession\n",
    "from pyspark.sql.types import DoubleType\n",
    "\n",
    "# Для работы с матрицами\n",
    "from scipy.sparse import csr_matrix, coo_matrix\n",
    "\n",
    "# Матричная факторизация\n",
    "from implicit.als import AlternatingLeastSquares\n",
    "from implicit.nearest_neighbours import ItemItemRecommender\n",
    "from implicit.nearest_neighbours import bm25_weight, tfidf_weight\n",
    "\n",
    "from lightfm import LightFM\n",
    "from lightfm.evaluation import precision_at_k, recall_at_k\n",
    "\n",
    "from lightgbm import LGBMClassifier\n",
    "\n",
    "\n",
    "# Импорт MainRecommender, prefilter_items, precision_at_k, recall_at_k\n",
    "from src.utils import prefilter_items\n",
    "from src.metrics import precision_at_k, recall_at_k, reciprocal_rank_at_k, ndcg_at_k, ap_k\n",
    "from src.recommenders import MainRecommender"
   ]
  },
  {
   "cell_type": "markdown",
   "id": "1a724619",
   "metadata": {},
   "source": [
    "### Uploading a train data set. Column processing. Train-validate split. Uploading a test data set."
   ]
  },
  {
   "cell_type": "code",
   "execution_count": 2,
   "id": "4b63299a",
   "metadata": {},
   "outputs": [
    {
     "data": {
      "text/html": [
       "<div>\n",
       "<style scoped>\n",
       "    .dataframe tbody tr th:only-of-type {\n",
       "        vertical-align: middle;\n",
       "    }\n",
       "\n",
       "    .dataframe tbody tr th {\n",
       "        vertical-align: top;\n",
       "    }\n",
       "\n",
       "    .dataframe thead th {\n",
       "        text-align: right;\n",
       "    }\n",
       "</style>\n",
       "<table border=\"1\" class=\"dataframe\">\n",
       "  <thead>\n",
       "    <tr style=\"text-align: right;\">\n",
       "      <th></th>\n",
       "      <th>user_id</th>\n",
       "      <th>basket_id</th>\n",
       "      <th>day</th>\n",
       "      <th>item_id</th>\n",
       "      <th>quantity</th>\n",
       "      <th>sales_value</th>\n",
       "      <th>store_id</th>\n",
       "      <th>retail_disc</th>\n",
       "      <th>trans_time</th>\n",
       "      <th>week_no</th>\n",
       "      <th>coupon_disc</th>\n",
       "      <th>coupon_match_disc</th>\n",
       "    </tr>\n",
       "  </thead>\n",
       "  <tbody>\n",
       "    <tr>\n",
       "      <th>0</th>\n",
       "      <td>2375</td>\n",
       "      <td>26984851472</td>\n",
       "      <td>1</td>\n",
       "      <td>1004906</td>\n",
       "      <td>1</td>\n",
       "      <td>1.39</td>\n",
       "      <td>364</td>\n",
       "      <td>-0.6</td>\n",
       "      <td>1631</td>\n",
       "      <td>1</td>\n",
       "      <td>0.0</td>\n",
       "      <td>0.0</td>\n",
       "    </tr>\n",
       "    <tr>\n",
       "      <th>1</th>\n",
       "      <td>2375</td>\n",
       "      <td>26984851472</td>\n",
       "      <td>1</td>\n",
       "      <td>1033142</td>\n",
       "      <td>1</td>\n",
       "      <td>0.82</td>\n",
       "      <td>364</td>\n",
       "      <td>0.0</td>\n",
       "      <td>1631</td>\n",
       "      <td>1</td>\n",
       "      <td>0.0</td>\n",
       "      <td>0.0</td>\n",
       "    </tr>\n",
       "  </tbody>\n",
       "</table>\n",
       "</div>"
      ],
      "text/plain": [
       "   user_id    basket_id  day  item_id  quantity  sales_value  store_id  \\\n",
       "0     2375  26984851472    1  1004906         1         1.39       364   \n",
       "1     2375  26984851472    1  1033142         1         0.82       364   \n",
       "\n",
       "   retail_disc  trans_time  week_no  coupon_disc  coupon_match_disc  \n",
       "0         -0.6        1631        1          0.0                0.0  \n",
       "1          0.0        1631        1          0.0                0.0  "
      ]
     },
     "execution_count": 2,
     "metadata": {},
     "output_type": "execute_result"
    }
   ],
   "source": [
    "data = pd.read_csv('../Lesson_2/retail_train.csv')\n",
    "item_features = pd.read_csv('../Lesson_2/product.csv')\n",
    "user_features = pd.read_csv('../Lesson_2/hh_demographic.csv')\n",
    "\n",
    "\n",
    "# column processing\n",
    "item_features.columns = [col.lower() for col in item_features.columns]\n",
    "user_features.columns = [col.lower() for col in user_features.columns]\n",
    "\n",
    "item_features.rename(columns={'product_id': 'item_id'}, inplace=True)\n",
    "user_features.rename(columns={'household_key': 'user_id'}, inplace=True)\n",
    "\n",
    "# train val split and test\n",
    "test_size_weeks = 3\n",
    "data_train = data[data['week_no'] < data['week_no'].max() - test_size_weeks]\n",
    "data_val = data[data['week_no'] >= data['week_no'].max() - test_size_weeks]\n",
    "data_test = pd.read_csv('../Course_Project/retail_test.csv')\n",
    "\n",
    "data_val = data_val[data_val['item_id'].isin(data_train['item_id'].unique())]\n",
    "\n",
    "data_train.head(2)"
   ]
  },
  {
   "cell_type": "code",
   "execution_count": 3,
   "id": "c15ebd21",
   "metadata": {},
   "outputs": [
    {
     "data": {
      "text/html": [
       "<div>\n",
       "<style scoped>\n",
       "    .dataframe tbody tr th:only-of-type {\n",
       "        vertical-align: middle;\n",
       "    }\n",
       "\n",
       "    .dataframe tbody tr th {\n",
       "        vertical-align: top;\n",
       "    }\n",
       "\n",
       "    .dataframe thead th {\n",
       "        text-align: right;\n",
       "    }\n",
       "</style>\n",
       "<table border=\"1\" class=\"dataframe\">\n",
       "  <thead>\n",
       "    <tr style=\"text-align: right;\">\n",
       "      <th></th>\n",
       "      <th>user_id</th>\n",
       "      <th>actual</th>\n",
       "    </tr>\n",
       "  </thead>\n",
       "  <tbody>\n",
       "    <tr>\n",
       "      <th>0</th>\n",
       "      <td>1</td>\n",
       "      <td>[821867, 834484, 856942, 865456, 889248, 90795...</td>\n",
       "    </tr>\n",
       "    <tr>\n",
       "      <th>1</th>\n",
       "      <td>3</td>\n",
       "      <td>[835476, 851057, 872021, 878302, 879948, 90963...</td>\n",
       "    </tr>\n",
       "  </tbody>\n",
       "</table>\n",
       "</div>"
      ],
      "text/plain": [
       "   user_id                                             actual\n",
       "0        1  [821867, 834484, 856942, 865456, 889248, 90795...\n",
       "1        3  [835476, 851057, 872021, 878302, 879948, 90963..."
      ]
     },
     "execution_count": 3,
     "metadata": {},
     "output_type": "execute_result"
    }
   ],
   "source": [
    "result = data_val.groupby('user_id')['item_id'].unique().reset_index()\n",
    "result.columns=['user_id', 'actual']\n",
    "result.head(2)"
   ]
  },
  {
   "cell_type": "markdown",
   "id": "ffc198cf",
   "metadata": {},
   "source": [
    "## Pre-filtering of the training data set"
   ]
  },
  {
   "cell_type": "code",
   "execution_count": 4,
   "id": "eb1e9fda",
   "metadata": {},
   "outputs": [
    {
     "name": "stdout",
     "output_type": "stream",
     "text": [
      "Decreased # items from 86865 to 5001\n"
     ]
    }
   ],
   "source": [
    "n_items_before = data_train['item_id'].nunique()\n",
    "\n",
    "data_train = prefilter_items(data_train, 5000, item_features)\n",
    "\n",
    "n_items_after = data_train['item_id'].nunique()\n",
    "print('Decreased # items from {} to {}'.format(n_items_before, n_items_after))"
   ]
  },
  {
   "cell_type": "markdown",
   "id": "fbdd72a3",
   "metadata": {},
   "source": [
    "## PySpark Collaborative Filtering with ALS (building a recommender system that utilises matrix factorisation technique — Alternating Least Squares)"
   ]
  },
  {
   "cell_type": "code",
   "execution_count": 5,
   "id": "a85094e2",
   "metadata": {},
   "outputs": [],
   "source": [
    "session = (\n",
    "        SparkSession.builder.config(\"spark.driver.memory\", \"4g\")\n",
    "        .config(\"spark.sql.shuffle.partitions\", \"100\")\n",
    "        .config(\"spark.driver.bindAddress\", \"127.0.0.1\")\n",
    "        .config(\"spark.driver.host\", \"localhost\")\n",
    "        .master(\"local[*]\")\n",
    "        .enableHiveSupport()\n",
    "        .getOrCreate()\n",
    "    )"
   ]
  },
  {
   "cell_type": "code",
   "execution_count": 6,
   "id": "14a9e64d",
   "metadata": {},
   "outputs": [
    {
     "data": {
      "text/html": [
       "\n",
       "            <div>\n",
       "                <p><b>SparkSession - hive</b></p>\n",
       "                \n",
       "        <div>\n",
       "            <p><b>SparkContext</b></p>\n",
       "\n",
       "            <p><a href=\"http://localhost:4040\">Spark UI</a></p>\n",
       "\n",
       "            <dl>\n",
       "              <dt>Version</dt>\n",
       "                <dd><code>v3.3.0</code></dd>\n",
       "              <dt>Master</dt>\n",
       "                <dd><code>local[*]</code></dd>\n",
       "              <dt>AppName</dt>\n",
       "                <dd><code>pyspark-shell</code></dd>\n",
       "            </dl>\n",
       "        </div>\n",
       "        \n",
       "            </div>\n",
       "        "
      ],
      "text/plain": [
       "<pyspark.sql.session.SparkSession at 0x214007f8fa0>"
      ]
     },
     "execution_count": 6,
     "metadata": {},
     "output_type": "execute_result"
    }
   ],
   "source": [
    "session"
   ]
  },
  {
   "cell_type": "code",
   "execution_count": 7,
   "id": "0ff5e104",
   "metadata": {},
   "outputs": [],
   "source": [
    "spark_data_train=session.createDataFrame(data_train[[\"user_id\",\"item_id\",\"quantity\"]])"
   ]
  },
  {
   "cell_type": "code",
   "execution_count": 8,
   "id": "eeb70a13",
   "metadata": {},
   "outputs": [],
   "source": [
    "spark_data_train= spark_data_train.withColumnRenamed(\"quantity\",\"relevance\")"
   ]
  },
  {
   "cell_type": "code",
   "execution_count": 9,
   "id": "e9de96fe",
   "metadata": {},
   "outputs": [
    {
     "name": "stdout",
     "output_type": "stream",
     "text": [
      "+-------+-------+---------+\n",
      "|user_id|item_id|relevance|\n",
      "+-------+-------+---------+\n",
      "|   2375|1085983|        1|\n",
      "|   1364| 999999|        1|\n",
      "|   1364| 999999|        1|\n",
      "|   1364| 999999|        1|\n",
      "|   1364| 937406|        1|\n",
      "|   1172| 999999|        1|\n",
      "|   1172| 999999|        1|\n",
      "|   1172|1000493|        1|\n",
      "|   1172| 999999|        1|\n",
      "|   1172|1075214|        1|\n",
      "+-------+-------+---------+\n",
      "only showing top 10 rows\n",
      "\n"
     ]
    }
   ],
   "source": [
    "spark_data_train.show(10)"
   ]
  },
  {
   "cell_type": "code",
   "execution_count": 10,
   "id": "570ee6c8",
   "metadata": {},
   "outputs": [],
   "source": [
    "model = ALS(\n",
    "            rank=30,\n",
    "            userCol=\"user_id\",\n",
    "            itemCol=\"item_id\",\n",
    "            ratingCol=\"relevance\",\n",
    "            maxIter = 10,\n",
    "            alpha = 1.0,\n",
    "            regParam = 0.1,\n",
    "            implicitPrefs=True,\n",
    "            seed=42,\n",
    "            coldStartStrategy=\"drop\",\n",
    "        ).fit(spark_data_train)"
   ]
  },
  {
   "cell_type": "code",
   "execution_count": 11,
   "id": "d55aa598",
   "metadata": {},
   "outputs": [
    {
     "name": "stdout",
     "output_type": "stream",
     "text": [
      "+---+--------------------+\n",
      "| id|            features|\n",
      "+---+--------------------+\n",
      "| 10|[-0.083326, -0.39...|\n",
      "| 20|[0.018956583, -0....|\n",
      "| 30|[-0.1255144, -0.3...|\n",
      "| 40|[-0.059964012, -0...|\n",
      "| 50|[-0.10513571, -0....|\n",
      "| 60|[-0.12480895, -0....|\n",
      "| 70|[-0.046732277, -0...|\n",
      "| 80|[-0.19498536, -0....|\n",
      "| 90|[-0.06439288, -0....|\n",
      "|100|[-0.11894906, -0....|\n",
      "|110|[-0.12321144, -0....|\n",
      "|120|[-0.108534805, -0...|\n",
      "|130|[-0.15898412, -0....|\n",
      "|140|[-0.202417, -0.45...|\n",
      "|150|[-0.06639387, -0....|\n",
      "|160|[-0.13902025, -0....|\n",
      "|170|[-0.07212223, -0....|\n",
      "|180|[-0.03326662, -0....|\n",
      "|190|[-0.0904128, -0.4...|\n",
      "|200|[-0.16828944, -0....|\n",
      "+---+--------------------+\n",
      "only showing top 20 rows\n",
      "\n"
     ]
    }
   ],
   "source": [
    "model.userFactors.show()"
   ]
  },
  {
   "cell_type": "code",
   "execution_count": 12,
   "id": "bd881a54",
   "metadata": {},
   "outputs": [],
   "source": [
    "recs_als = model.recommendForAllUsers(6)"
   ]
  },
  {
   "cell_type": "code",
   "execution_count": 13,
   "id": "524c6dfd",
   "metadata": {},
   "outputs": [
    {
     "data": {
      "text/plain": [
       "2497"
      ]
     },
     "execution_count": 13,
     "metadata": {},
     "output_type": "execute_result"
    }
   ],
   "source": [
    "recs_als.count()"
   ]
  },
  {
   "cell_type": "code",
   "execution_count": 14,
   "id": "1bf29938",
   "metadata": {},
   "outputs": [
    {
     "name": "stdout",
     "output_type": "stream",
     "text": [
      "+-------+--------------------+\n",
      "|user_id|     recommendations|\n",
      "+-------+--------------------+\n",
      "|      4|[{999999, 1.47515...|\n",
      "|      7|[{999999, 1.80323...|\n",
      "|      8|[{999999, 1.77219...|\n",
      "|     23|[{999999, 1.78213...|\n",
      "|     26|[{999999, 1.57035...|\n",
      "|     27|[{963686, 1.73339...|\n",
      "|     28|[{999999, 1.77852...|\n",
      "|     31|[{999999, 1.74920...|\n",
      "|     34|[{999999, 1.35184...|\n",
      "|     39|[{999999, 1.74899...|\n",
      "|     44|[{999999, 1.52944...|\n",
      "|     49|[{999999, 1.77759...|\n",
      "|     51|[{999999, 1.69728...|\n",
      "|     53|[{999999, 1.79796...|\n",
      "|     55|[{999999, 1.64984...|\n",
      "|     59|[{999999, 1.61712...|\n",
      "|     63|[{999999, 1.62613...|\n",
      "|     65|[{999999, 1.80920...|\n",
      "|     69|[{999999, 1.66812...|\n",
      "|     76|[{999999, 1.36990...|\n",
      "+-------+--------------------+\n",
      "only showing top 20 rows\n",
      "\n"
     ]
    }
   ],
   "source": [
    "recs_als.show()"
   ]
  },
  {
   "cell_type": "code",
   "execution_count": 15,
   "id": "064cbccd",
   "metadata": {},
   "outputs": [],
   "source": [
    "recs_als=(recs_als.withColumn(\n",
    "                    \"recommendations\", sf.explode(\"recommendations\")\n",
    "                )\n",
    "                .withColumn(\"item_id\", sf.col(\"recommendations.item_id\"))\n",
    "                .withColumn(\n",
    "                    \"relevance\",\n",
    "                    sf.col(\"recommendations.rating\").cast(DoubleType()),\n",
    "                )\n",
    "                .select(\"user_id\", \"item_id\", \"relevance\")\n",
    "            )"
   ]
  },
  {
   "cell_type": "code",
   "execution_count": 16,
   "id": "e5e877ce",
   "metadata": {},
   "outputs": [
    {
     "name": "stdout",
     "output_type": "stream",
     "text": [
      "+-------+-------+------------------+\n",
      "|user_id|item_id|         relevance|\n",
      "+-------+-------+------------------+\n",
      "|      4| 999999|1.4751536846160889|\n",
      "|      4|1029743|1.1661087274551392|\n",
      "|      4|1106523|1.0199055671691895|\n",
      "|      4|5569230|0.9501182436943054|\n",
      "|      4|1075368|0.8939072489738464|\n",
      "|      4| 916122|0.7827808856964111|\n",
      "|      7| 999999|1.8032310009002686|\n",
      "|      7|1029743|1.4123601913452148|\n",
      "|      7|1106523| 1.285283088684082|\n",
      "|      7| 916122|1.0510060787200928|\n",
      "|      7|1126899| 0.986077606678009|\n",
      "|      7| 866211|0.9067664742469788|\n",
      "|      8| 999999|1.7721980810165405|\n",
      "|      8|1029743|1.4981247186660767|\n",
      "|      8|1106523|1.3509777784347534|\n",
      "|      8| 916122| 1.225075602531433|\n",
      "|      8|5569230|1.1809536218643188|\n",
      "|      8| 844179|1.1787968873977661|\n",
      "|     23| 999999|1.7821383476257324|\n",
      "|     23|1029743|1.3663817644119263|\n",
      "+-------+-------+------------------+\n",
      "only showing top 20 rows\n",
      "\n"
     ]
    }
   ],
   "source": [
    "recs_als.show()"
   ]
  },
  {
   "cell_type": "code",
   "execution_count": 17,
   "id": "60084ccf",
   "metadata": {},
   "outputs": [],
   "source": [
    "recs_all = pd.concat([recs_als.toPandas().groupby('user_id')['relevance'].unique().reset_index(), \n",
    "                        pd.DataFrame(pd.DataFrame(recs_als.toPandas().groupby('user_id')['item_id'].\n",
    "                                                  unique().reset_index()['item_id'].values.tolist()).\n",
    "                                     drop(0, axis=1).apply(lambda x: list(x), axis=1), columns=['rec_item'])], \n",
    "                       axis=1).reindex(columns=['user_id', 'rec_item', 'relevance'])"
   ]
  },
  {
   "cell_type": "code",
   "execution_count": 18,
   "id": "9bfe5b06",
   "metadata": {},
   "outputs": [
    {
     "data": {
      "text/html": [
       "<div>\n",
       "<style scoped>\n",
       "    .dataframe tbody tr th:only-of-type {\n",
       "        vertical-align: middle;\n",
       "    }\n",
       "\n",
       "    .dataframe tbody tr th {\n",
       "        vertical-align: top;\n",
       "    }\n",
       "\n",
       "    .dataframe thead th {\n",
       "        text-align: right;\n",
       "    }\n",
       "</style>\n",
       "<table border=\"1\" class=\"dataframe\">\n",
       "  <thead>\n",
       "    <tr style=\"text-align: right;\">\n",
       "      <th></th>\n",
       "      <th>user_id</th>\n",
       "      <th>rec_item</th>\n",
       "      <th>relevance</th>\n",
       "    </tr>\n",
       "  </thead>\n",
       "  <tbody>\n",
       "    <tr>\n",
       "      <th>0</th>\n",
       "      <td>1</td>\n",
       "      <td>[856942, 1029743, 940947, 1070820, 5569374]</td>\n",
       "      <td>[1.7541471719741821, 1.4876700639724731, 1.381...</td>\n",
       "    </tr>\n",
       "    <tr>\n",
       "      <th>1</th>\n",
       "      <td>2</td>\n",
       "      <td>[1029743, 1106523, 5569230, 916122, 844179]</td>\n",
       "      <td>[1.7930527925491333, 1.451933741569519, 1.3498...</td>\n",
       "    </tr>\n",
       "    <tr>\n",
       "      <th>2</th>\n",
       "      <td>3</td>\n",
       "      <td>[1106523, 1029743, 1044078, 5569230, 844179]</td>\n",
       "      <td>[1.5328656435012817, 1.359671950340271, 1.3574...</td>\n",
       "    </tr>\n",
       "    <tr>\n",
       "      <th>3</th>\n",
       "      <td>4</td>\n",
       "      <td>[1029743, 1106523, 5569230, 1075368, 916122]</td>\n",
       "      <td>[1.4751536846160889, 1.1661087274551392, 1.019...</td>\n",
       "    </tr>\n",
       "    <tr>\n",
       "      <th>4</th>\n",
       "      <td>5</td>\n",
       "      <td>[1029743, 1106523, 916122, 5569230, 1126899]</td>\n",
       "      <td>[1.7350863218307495, 1.2427645921707153, 1.060...</td>\n",
       "    </tr>\n",
       "    <tr>\n",
       "      <th>...</th>\n",
       "      <td>...</td>\n",
       "      <td>...</td>\n",
       "      <td>...</td>\n",
       "    </tr>\n",
       "    <tr>\n",
       "      <th>2492</th>\n",
       "      <td>2496</td>\n",
       "      <td>[1029743, 1106523, 844179, 1044078, 916122]</td>\n",
       "      <td>[1.748368263244629, 1.5411715507507324, 1.4686...</td>\n",
       "    </tr>\n",
       "    <tr>\n",
       "      <th>2493</th>\n",
       "      <td>2497</td>\n",
       "      <td>[1029743, 1106523, 5569230, 899624, 5569471]</td>\n",
       "      <td>[1.7116997241973877, 1.587199091911316, 1.4717...</td>\n",
       "    </tr>\n",
       "    <tr>\n",
       "      <th>2494</th>\n",
       "      <td>2498</td>\n",
       "      <td>[1029743, 1106523, 916122, 1070820, 5569230]</td>\n",
       "      <td>[1.7717114686965942, 1.3768599033355713, 1.147...</td>\n",
       "    </tr>\n",
       "    <tr>\n",
       "      <th>2495</th>\n",
       "      <td>2499</td>\n",
       "      <td>[1029743, 1106523, 5569230, 1044078, 916122]</td>\n",
       "      <td>[1.775635838508606, 1.511269211769104, 1.39544...</td>\n",
       "    </tr>\n",
       "    <tr>\n",
       "      <th>2496</th>\n",
       "      <td>2500</td>\n",
       "      <td>[1029743, 1070820, 1126899, 916122, 1106523]</td>\n",
       "      <td>[1.7580440044403076, 1.3743849992752075, 1.195...</td>\n",
       "    </tr>\n",
       "  </tbody>\n",
       "</table>\n",
       "<p>2497 rows × 3 columns</p>\n",
       "</div>"
      ],
      "text/plain": [
       "      user_id                                      rec_item  \\\n",
       "0           1   [856942, 1029743, 940947, 1070820, 5569374]   \n",
       "1           2   [1029743, 1106523, 5569230, 916122, 844179]   \n",
       "2           3  [1106523, 1029743, 1044078, 5569230, 844179]   \n",
       "3           4  [1029743, 1106523, 5569230, 1075368, 916122]   \n",
       "4           5  [1029743, 1106523, 916122, 5569230, 1126899]   \n",
       "...       ...                                           ...   \n",
       "2492     2496   [1029743, 1106523, 844179, 1044078, 916122]   \n",
       "2493     2497  [1029743, 1106523, 5569230, 899624, 5569471]   \n",
       "2494     2498  [1029743, 1106523, 916122, 1070820, 5569230]   \n",
       "2495     2499  [1029743, 1106523, 5569230, 1044078, 916122]   \n",
       "2496     2500  [1029743, 1070820, 1126899, 916122, 1106523]   \n",
       "\n",
       "                                              relevance  \n",
       "0     [1.7541471719741821, 1.4876700639724731, 1.381...  \n",
       "1     [1.7930527925491333, 1.451933741569519, 1.3498...  \n",
       "2     [1.5328656435012817, 1.359671950340271, 1.3574...  \n",
       "3     [1.4751536846160889, 1.1661087274551392, 1.019...  \n",
       "4     [1.7350863218307495, 1.2427645921707153, 1.060...  \n",
       "...                                                 ...  \n",
       "2492  [1.748368263244629, 1.5411715507507324, 1.4686...  \n",
       "2493  [1.7116997241973877, 1.587199091911316, 1.4717...  \n",
       "2494  [1.7717114686965942, 1.3768599033355713, 1.147...  \n",
       "2495  [1.775635838508606, 1.511269211769104, 1.39544...  \n",
       "2496  [1.7580440044403076, 1.3743849992752075, 1.195...  \n",
       "\n",
       "[2497 rows x 3 columns]"
      ]
     },
     "execution_count": 18,
     "metadata": {},
     "output_type": "execute_result"
    }
   ],
   "source": [
    "recs_all"
   ]
  },
  {
   "cell_type": "code",
   "execution_count": 19,
   "id": "4bfea561",
   "metadata": {},
   "outputs": [],
   "source": [
    "result = pd.merge(result, recs_all, on='user_id')"
   ]
  },
  {
   "cell_type": "code",
   "execution_count": 20,
   "id": "2c631a21",
   "metadata": {},
   "outputs": [
    {
     "data": {
      "text/html": [
       "<div>\n",
       "<style scoped>\n",
       "    .dataframe tbody tr th:only-of-type {\n",
       "        vertical-align: middle;\n",
       "    }\n",
       "\n",
       "    .dataframe tbody tr th {\n",
       "        vertical-align: top;\n",
       "    }\n",
       "\n",
       "    .dataframe thead th {\n",
       "        text-align: right;\n",
       "    }\n",
       "</style>\n",
       "<table border=\"1\" class=\"dataframe\">\n",
       "  <thead>\n",
       "    <tr style=\"text-align: right;\">\n",
       "      <th></th>\n",
       "      <th>user_id</th>\n",
       "      <th>actual</th>\n",
       "      <th>rec_item</th>\n",
       "      <th>relevance</th>\n",
       "    </tr>\n",
       "  </thead>\n",
       "  <tbody>\n",
       "    <tr>\n",
       "      <th>0</th>\n",
       "      <td>1</td>\n",
       "      <td>[821867, 834484, 856942, 865456, 889248, 90795...</td>\n",
       "      <td>[856942, 1029743, 940947, 1070820, 5569374]</td>\n",
       "      <td>[1.7541471719741821, 1.4876700639724731, 1.381...</td>\n",
       "    </tr>\n",
       "    <tr>\n",
       "      <th>1</th>\n",
       "      <td>3</td>\n",
       "      <td>[835476, 851057, 872021, 878302, 879948, 90963...</td>\n",
       "      <td>[1106523, 1029743, 1044078, 5569230, 844179]</td>\n",
       "      <td>[1.5328656435012817, 1.359671950340271, 1.3574...</td>\n",
       "    </tr>\n",
       "    <tr>\n",
       "      <th>2</th>\n",
       "      <td>6</td>\n",
       "      <td>[920308, 926804, 946489, 1006718, 1017061, 107...</td>\n",
       "      <td>[1026118, 1029743, 854852, 878996, 1106523]</td>\n",
       "      <td>[1.784917950630188, 1.494553565979004, 1.46915...</td>\n",
       "    </tr>\n",
       "    <tr>\n",
       "      <th>3</th>\n",
       "      <td>7</td>\n",
       "      <td>[840386, 889774, 898068, 909714, 929067, 95347...</td>\n",
       "      <td>[1029743, 1106523, 916122, 1126899, 866211]</td>\n",
       "      <td>[1.8032310009002686, 1.4123601913452148, 1.285...</td>\n",
       "    </tr>\n",
       "    <tr>\n",
       "      <th>4</th>\n",
       "      <td>8</td>\n",
       "      <td>[835098, 872137, 910439, 924610, 992977, 10412...</td>\n",
       "      <td>[1029743, 1106523, 916122, 5569230, 844179]</td>\n",
       "      <td>[1.7721980810165405, 1.4981247186660767, 1.350...</td>\n",
       "    </tr>\n",
       "    <tr>\n",
       "      <th>...</th>\n",
       "      <td>...</td>\n",
       "      <td>...</td>\n",
       "      <td>...</td>\n",
       "      <td>...</td>\n",
       "    </tr>\n",
       "    <tr>\n",
       "      <th>2034</th>\n",
       "      <td>2496</td>\n",
       "      <td>[6534178]</td>\n",
       "      <td>[1029743, 1106523, 844179, 1044078, 916122]</td>\n",
       "      <td>[1.748368263244629, 1.5411715507507324, 1.4686...</td>\n",
       "    </tr>\n",
       "    <tr>\n",
       "      <th>2035</th>\n",
       "      <td>2497</td>\n",
       "      <td>[1016709, 9835695, 1132298, 16809501, 845294, ...</td>\n",
       "      <td>[1029743, 1106523, 5569230, 899624, 5569471]</td>\n",
       "      <td>[1.7116997241973877, 1.587199091911316, 1.4717...</td>\n",
       "    </tr>\n",
       "    <tr>\n",
       "      <th>2036</th>\n",
       "      <td>2498</td>\n",
       "      <td>[834484, 901776, 914190, 958382, 972437, 10398...</td>\n",
       "      <td>[1029743, 1106523, 916122, 1070820, 5569230]</td>\n",
       "      <td>[1.7717114686965942, 1.3768599033355713, 1.147...</td>\n",
       "    </tr>\n",
       "    <tr>\n",
       "      <th>2037</th>\n",
       "      <td>2499</td>\n",
       "      <td>[867188, 877580, 902396, 914190, 951590, 95813...</td>\n",
       "      <td>[1029743, 1106523, 5569230, 1044078, 916122]</td>\n",
       "      <td>[1.775635838508606, 1.511269211769104, 1.39544...</td>\n",
       "    </tr>\n",
       "    <tr>\n",
       "      <th>2038</th>\n",
       "      <td>2500</td>\n",
       "      <td>[852182, 856345, 923746, 948670, 1018007, 1044...</td>\n",
       "      <td>[1029743, 1070820, 1126899, 916122, 1106523]</td>\n",
       "      <td>[1.7580440044403076, 1.3743849992752075, 1.195...</td>\n",
       "    </tr>\n",
       "  </tbody>\n",
       "</table>\n",
       "<p>2039 rows × 4 columns</p>\n",
       "</div>"
      ],
      "text/plain": [
       "      user_id                                             actual  \\\n",
       "0           1  [821867, 834484, 856942, 865456, 889248, 90795...   \n",
       "1           3  [835476, 851057, 872021, 878302, 879948, 90963...   \n",
       "2           6  [920308, 926804, 946489, 1006718, 1017061, 107...   \n",
       "3           7  [840386, 889774, 898068, 909714, 929067, 95347...   \n",
       "4           8  [835098, 872137, 910439, 924610, 992977, 10412...   \n",
       "...       ...                                                ...   \n",
       "2034     2496                                          [6534178]   \n",
       "2035     2497  [1016709, 9835695, 1132298, 16809501, 845294, ...   \n",
       "2036     2498  [834484, 901776, 914190, 958382, 972437, 10398...   \n",
       "2037     2499  [867188, 877580, 902396, 914190, 951590, 95813...   \n",
       "2038     2500  [852182, 856345, 923746, 948670, 1018007, 1044...   \n",
       "\n",
       "                                          rec_item  \\\n",
       "0      [856942, 1029743, 940947, 1070820, 5569374]   \n",
       "1     [1106523, 1029743, 1044078, 5569230, 844179]   \n",
       "2      [1026118, 1029743, 854852, 878996, 1106523]   \n",
       "3      [1029743, 1106523, 916122, 1126899, 866211]   \n",
       "4      [1029743, 1106523, 916122, 5569230, 844179]   \n",
       "...                                            ...   \n",
       "2034   [1029743, 1106523, 844179, 1044078, 916122]   \n",
       "2035  [1029743, 1106523, 5569230, 899624, 5569471]   \n",
       "2036  [1029743, 1106523, 916122, 1070820, 5569230]   \n",
       "2037  [1029743, 1106523, 5569230, 1044078, 916122]   \n",
       "2038  [1029743, 1070820, 1126899, 916122, 1106523]   \n",
       "\n",
       "                                              relevance  \n",
       "0     [1.7541471719741821, 1.4876700639724731, 1.381...  \n",
       "1     [1.5328656435012817, 1.359671950340271, 1.3574...  \n",
       "2     [1.784917950630188, 1.494553565979004, 1.46915...  \n",
       "3     [1.8032310009002686, 1.4123601913452148, 1.285...  \n",
       "4     [1.7721980810165405, 1.4981247186660767, 1.350...  \n",
       "...                                                 ...  \n",
       "2034  [1.748368263244629, 1.5411715507507324, 1.4686...  \n",
       "2035  [1.7116997241973877, 1.587199091911316, 1.4717...  \n",
       "2036  [1.7717114686965942, 1.3768599033355713, 1.147...  \n",
       "2037  [1.775635838508606, 1.511269211769104, 1.39544...  \n",
       "2038  [1.7580440044403076, 1.3743849992752075, 1.195...  \n",
       "\n",
       "[2039 rows x 4 columns]"
      ]
     },
     "execution_count": 20,
     "metadata": {},
     "output_type": "execute_result"
    }
   ],
   "source": [
    "result"
   ]
  },
  {
   "cell_type": "code",
   "execution_count": 21,
   "id": "c8d7328a",
   "metadata": {},
   "outputs": [
    {
     "name": "stdout",
     "output_type": "stream",
     "text": [
      "map@k = 0.22726826875919523\n",
      "\n"
     ]
    }
   ],
   "source": [
    "print(f'map@k = {result.apply(lambda row: ap_k(row[\"rec_item\"], row[\"actual\"], k=5), axis=1).mean()}\\n')"
   ]
  },
  {
   "cell_type": "markdown",
   "id": "7c804751",
   "metadata": {},
   "source": [
    "# $$map@k = 0.227$$"
   ]
  },
  {
   "cell_type": "markdown",
   "id": "991b1501",
   "metadata": {},
   "source": [
    "## Recommendation model based on algorithms, collaborative filtering for data sets with implicit feedback with performance optimization. Alternating Least Squares  using TFIDF or BM25 as a distance metric and Item-Item Nearest Neighbour models"
   ]
  },
  {
   "cell_type": "code",
   "execution_count": 22,
   "id": "8694835a",
   "metadata": {},
   "outputs": [
    {
     "data": {
      "application/vnd.jupyter.widget-view+json": {
       "model_id": "0f01972954334106886cc41b5be79f49",
       "version_major": 2,
       "version_minor": 0
      },
      "text/plain": [
       "  0%|          | 0/15 [00:00<?, ?it/s]"
      ]
     },
     "metadata": {},
     "output_type": "display_data"
    },
    {
     "data": {
      "application/vnd.jupyter.widget-view+json": {
       "model_id": "6f639a213e4f4d23a9747ac6bba5b74b",
       "version_major": 2,
       "version_minor": 0
      },
      "text/plain": [
       "  0%|          | 0/5001 [00:00<?, ?it/s]"
      ]
     },
     "metadata": {},
     "output_type": "display_data"
    },
    {
     "name": "stdout",
     "output_type": "stream",
     "text": [
      "CPU times: total: 12.3 s\n",
      "Wall time: 6.49 s\n"
     ]
    }
   ],
   "source": [
    "%%time\n",
    "data_train = prefilter_items(data, 5000, item_features)\n",
    "recommender = MainRecommender(data_train)"
   ]
  },
  {
   "cell_type": "markdown",
   "id": "ba60aa64",
   "metadata": {},
   "source": [
    "### Validation and Grid Search"
   ]
  },
  {
   "cell_type": "code",
   "execution_count": 23,
   "id": "e22e5905",
   "metadata": {},
   "outputs": [],
   "source": [
    "bm25_user_item_matrix = bm25_weight(recommender.user_item_matrix).tocsr()\n",
    "tfidf_user_item_matrix = tfidf_weight(recommender.user_item_matrix).tocsr()"
   ]
  },
  {
   "cell_type": "code",
   "execution_count": 24,
   "id": "11884a83",
   "metadata": {},
   "outputs": [],
   "source": [
    "def grid_search(params, N=5):\n",
    "    scores = []\n",
    "    for factors, regularization, iterations, weight in itertools.product(*params.values()):\n",
    "        \n",
    "        recommender.model = AlternatingLeastSquares(factors=factors, \n",
    "                                                    regularization=regularization, \n",
    "                                                    iterations=iterations, \n",
    "                                                    calculate_training_loss=True, \n",
    "                                                    num_threads=4,\n",
    "                                                    random_state=42)\n",
    "        if weight == 'BM25':\n",
    "            recommender.model.fit(csr_matrix(bm25_user_item_matrix).tocsr(), show_progress=True)\n",
    "            result['als_bm25'] = result['user_id'].map(lambda x: recommender.get_als_recommendations(x, N))\n",
    "            map_k = result.apply(lambda row: ap_k(row['als_bm25'], row['actual'], N), axis=1).mean()\n",
    "        else:\n",
    "            recommender.model.fit(csr_matrix(tfidf_user_item_matrix).tocsr(), show_progress=True)\n",
    "            result['als_tfidf'] = result['user_id'].map(lambda x: recommender.get_als_recommendations(x, N))\n",
    "            map_k = result.apply(lambda row: ap_k(row['als_tfidf'], row['actual'], N), axis=1).mean()\n",
    "                \n",
    "        score = {'factors':        factors,\n",
    "                 'regularization': regularization,\n",
    "                 'iterations':     iterations,\n",
    "                 'weight':         weight,\n",
    "                 'map@k':          map_k}\n",
    "        print(score)\n",
    "        scores.append(score)\n",
    "    \n",
    "    return scores\n",
    "\n",
    "def best_params(scores, all_=False):\n",
    "    df = pd.DataFrame(scores, index=range(len(scores))).sort_values('map@k', ascending=False)\n",
    "    if all_:\n",
    "        return df\n",
    "    df = df.head(1)\n",
    "    return df"
   ]
  },
  {
   "cell_type": "markdown",
   "id": "fe3c7039",
   "metadata": {},
   "source": [
    "### Getting the maximum score on the validation sample"
   ]
  },
  {
   "cell_type": "code",
   "execution_count": 25,
   "id": "de460919",
   "metadata": {},
   "outputs": [
    {
     "data": {
      "application/vnd.jupyter.widget-view+json": {
       "model_id": "5ee37217be544df59cc33b2e5d67a30c",
       "version_major": 2,
       "version_minor": 0
      },
      "text/plain": [
       "  0%|          | 0/1 [00:00<?, ?it/s]"
      ]
     },
     "metadata": {},
     "output_type": "display_data"
    },
    {
     "name": "stdout",
     "output_type": "stream",
     "text": [
      "{'factors': 10, 'regularization': 0.05, 'iterations': 1, 'weight': 'BM25', 'map@k': 0.20652280529671369}\n"
     ]
    },
    {
     "data": {
      "application/vnd.jupyter.widget-view+json": {
       "model_id": "f2b79d281c6d4bdfb23520e8989dc4c0",
       "version_major": 2,
       "version_minor": 0
      },
      "text/plain": [
       "  0%|          | 0/1 [00:00<?, ?it/s]"
      ]
     },
     "metadata": {},
     "output_type": "display_data"
    },
    {
     "name": "stdout",
     "output_type": "stream",
     "text": [
      "{'factors': 10, 'regularization': 0.05, 'iterations': 1, 'weight': 'TFIDF', 'map@k': 0.19803825404610106}\n"
     ]
    },
    {
     "data": {
      "application/vnd.jupyter.widget-view+json": {
       "model_id": "392337969d5e43b48e6db97e061ac347",
       "version_major": 2,
       "version_minor": 0
      },
      "text/plain": [
       "  0%|          | 0/5 [00:00<?, ?it/s]"
      ]
     },
     "metadata": {},
     "output_type": "display_data"
    },
    {
     "name": "stdout",
     "output_type": "stream",
     "text": [
      "{'factors': 10, 'regularization': 0.05, 'iterations': 5, 'weight': 'BM25', 'map@k': 0.2187837175085824}\n"
     ]
    },
    {
     "data": {
      "application/vnd.jupyter.widget-view+json": {
       "model_id": "59f717b6cc8744bfa2cd1c483d6b4afd",
       "version_major": 2,
       "version_minor": 0
      },
      "text/plain": [
       "  0%|          | 0/5 [00:00<?, ?it/s]"
      ]
     },
     "metadata": {},
     "output_type": "display_data"
    },
    {
     "name": "stdout",
     "output_type": "stream",
     "text": [
      "{'factors': 10, 'regularization': 0.05, 'iterations': 5, 'weight': 'TFIDF', 'map@k': 0.17479156449239827}\n"
     ]
    },
    {
     "data": {
      "application/vnd.jupyter.widget-view+json": {
       "model_id": "8ae7526d154e4112a16685dec586363a",
       "version_major": 2,
       "version_minor": 0
      },
      "text/plain": [
       "  0%|          | 0/13 [00:00<?, ?it/s]"
      ]
     },
     "metadata": {},
     "output_type": "display_data"
    },
    {
     "name": "stdout",
     "output_type": "stream",
     "text": [
      "{'factors': 10, 'regularization': 0.05, 'iterations': 13, 'weight': 'BM25', 'map@k': 0.2215792054928885}\n"
     ]
    },
    {
     "data": {
      "application/vnd.jupyter.widget-view+json": {
       "model_id": "1967e7a7797a48a5a1e36afd7dad5626",
       "version_major": 2,
       "version_minor": 0
      },
      "text/plain": [
       "  0%|          | 0/13 [00:00<?, ?it/s]"
      ]
     },
     "metadata": {},
     "output_type": "display_data"
    },
    {
     "name": "stdout",
     "output_type": "stream",
     "text": [
      "{'factors': 10, 'regularization': 0.05, 'iterations': 13, 'weight': 'TFIDF', 'map@k': 0.16434526728788615}\n"
     ]
    },
    {
     "data": {
      "application/vnd.jupyter.widget-view+json": {
       "model_id": "9903a7b899ad467c9eec5bb8585a0653",
       "version_major": 2,
       "version_minor": 0
      },
      "text/plain": [
       "  0%|          | 0/15 [00:00<?, ?it/s]"
      ]
     },
     "metadata": {},
     "output_type": "display_data"
    },
    {
     "name": "stdout",
     "output_type": "stream",
     "text": [
      "{'factors': 10, 'regularization': 0.05, 'iterations': 15, 'weight': 'BM25', 'map@k': 0.2232466895537027}\n"
     ]
    },
    {
     "data": {
      "application/vnd.jupyter.widget-view+json": {
       "model_id": "9dc292db839f4f6899fb113aa0948411",
       "version_major": 2,
       "version_minor": 0
      },
      "text/plain": [
       "  0%|          | 0/15 [00:00<?, ?it/s]"
      ]
     },
     "metadata": {},
     "output_type": "display_data"
    },
    {
     "name": "stdout",
     "output_type": "stream",
     "text": [
      "{'factors': 10, 'regularization': 0.05, 'iterations': 15, 'weight': 'TFIDF', 'map@k': 0.1626777832270721}\n"
     ]
    },
    {
     "data": {
      "application/vnd.jupyter.widget-view+json": {
       "model_id": "75c207974a34406fb90996b2a404c13d",
       "version_major": 2,
       "version_minor": 0
      },
      "text/plain": [
       "  0%|          | 0/1 [00:00<?, ?it/s]"
      ]
     },
     "metadata": {},
     "output_type": "display_data"
    },
    {
     "name": "stdout",
     "output_type": "stream",
     "text": [
      "{'factors': 10, 'regularization': 0.1, 'iterations': 1, 'weight': 'BM25', 'map@k': 0.20716037273173088}\n"
     ]
    },
    {
     "data": {
      "application/vnd.jupyter.widget-view+json": {
       "model_id": "163b48a54c694aa788346b9029e0f616",
       "version_major": 2,
       "version_minor": 0
      },
      "text/plain": [
       "  0%|          | 0/1 [00:00<?, ?it/s]"
      ]
     },
     "metadata": {},
     "output_type": "display_data"
    },
    {
     "name": "stdout",
     "output_type": "stream",
     "text": [
      "{'factors': 10, 'regularization': 0.1, 'iterations': 1, 'weight': 'TFIDF', 'map@k': 0.1979892103972536}\n"
     ]
    },
    {
     "data": {
      "application/vnd.jupyter.widget-view+json": {
       "model_id": "45d5fb498aec4dba91a0126b184e5704",
       "version_major": 2,
       "version_minor": 0
      },
      "text/plain": [
       "  0%|          | 0/5 [00:00<?, ?it/s]"
      ]
     },
     "metadata": {},
     "output_type": "display_data"
    },
    {
     "name": "stdout",
     "output_type": "stream",
     "text": [
      "{'factors': 10, 'regularization': 0.1, 'iterations': 5, 'weight': 'BM25', 'map@k': 0.21858754291319246}\n"
     ]
    },
    {
     "data": {
      "application/vnd.jupyter.widget-view+json": {
       "model_id": "868ad55d26c74116a549e836a0678fb0",
       "version_major": 2,
       "version_minor": 0
      },
      "text/plain": [
       "  0%|          | 0/5 [00:00<?, ?it/s]"
      ]
     },
     "metadata": {},
     "output_type": "display_data"
    },
    {
     "name": "stdout",
     "output_type": "stream",
     "text": [
      "{'factors': 10, 'regularization': 0.1, 'iterations': 5, 'weight': 'TFIDF', 'map@k': 0.17302599313388917}\n"
     ]
    },
    {
     "data": {
      "application/vnd.jupyter.widget-view+json": {
       "model_id": "08748a166f794a62a575a0e290777024",
       "version_major": 2,
       "version_minor": 0
      },
      "text/plain": [
       "  0%|          | 0/13 [00:00<?, ?it/s]"
      ]
     },
     "metadata": {},
     "output_type": "display_data"
    },
    {
     "name": "stdout",
     "output_type": "stream",
     "text": [
      "{'factors': 10, 'regularization': 0.1, 'iterations': 13, 'weight': 'BM25', 'map@k': 0.22202059833251575}\n"
     ]
    },
    {
     "data": {
      "application/vnd.jupyter.widget-view+json": {
       "model_id": "cfb03af57b574eb0acb5b73b93933cd7",
       "version_major": 2,
       "version_minor": 0
      },
      "text/plain": [
       "  0%|          | 0/13 [00:00<?, ?it/s]"
      ]
     },
     "metadata": {},
     "output_type": "display_data"
    },
    {
     "name": "stdout",
     "output_type": "stream",
     "text": [
      "{'factors': 10, 'regularization': 0.1, 'iterations': 13, 'weight': 'TFIDF', 'map@k': 0.1615007356547327}\n"
     ]
    },
    {
     "data": {
      "application/vnd.jupyter.widget-view+json": {
       "model_id": "03c32c4bad0e496c9e57179f17cb90cc",
       "version_major": 2,
       "version_minor": 0
      },
      "text/plain": [
       "  0%|          | 0/15 [00:00<?, ?it/s]"
      ]
     },
     "metadata": {},
     "output_type": "display_data"
    },
    {
     "name": "stdout",
     "output_type": "stream",
     "text": [
      "{'factors': 10, 'regularization': 0.1, 'iterations': 15, 'weight': 'BM25', 'map@k': 0.22403138793526223}\n"
     ]
    },
    {
     "data": {
      "application/vnd.jupyter.widget-view+json": {
       "model_id": "b50d6b92b910443488631ec33630fc3e",
       "version_major": 2,
       "version_minor": 0
      },
      "text/plain": [
       "  0%|          | 0/15 [00:00<?, ?it/s]"
      ]
     },
     "metadata": {},
     "output_type": "display_data"
    },
    {
     "name": "stdout",
     "output_type": "stream",
     "text": [
      "{'factors': 10, 'regularization': 0.1, 'iterations': 15, 'weight': 'TFIDF', 'map@k': 0.1624816086316822}\n"
     ]
    },
    {
     "data": {
      "application/vnd.jupyter.widget-view+json": {
       "model_id": "bb20833867d84fa4892f669b60f79e83",
       "version_major": 2,
       "version_minor": 0
      },
      "text/plain": [
       "  0%|          | 0/1 [00:00<?, ?it/s]"
      ]
     },
     "metadata": {},
     "output_type": "display_data"
    },
    {
     "name": "stdout",
     "output_type": "stream",
     "text": [
      "{'factors': 10, 'regularization': 0.5, 'iterations': 1, 'weight': 'BM25', 'map@k': 0.20971064247179963}\n"
     ]
    },
    {
     "data": {
      "application/vnd.jupyter.widget-view+json": {
       "model_id": "b717cc764797490a804a1f2ded2d7df5",
       "version_major": 2,
       "version_minor": 0
      },
      "text/plain": [
       "  0%|          | 0/1 [00:00<?, ?it/s]"
      ]
     },
     "metadata": {},
     "output_type": "display_data"
    },
    {
     "name": "stdout",
     "output_type": "stream",
     "text": [
      "{'factors': 10, 'regularization': 0.5, 'iterations': 1, 'weight': 'TFIDF', 'map@k': 0.19303580186365854}\n"
     ]
    },
    {
     "data": {
      "application/vnd.jupyter.widget-view+json": {
       "model_id": "440e8965860147dda5ee504de15cc058",
       "version_major": 2,
       "version_minor": 0
      },
      "text/plain": [
       "  0%|          | 0/5 [00:00<?, ?it/s]"
      ]
     },
     "metadata": {},
     "output_type": "display_data"
    },
    {
     "name": "stdout",
     "output_type": "stream",
     "text": [
      "{'factors': 10, 'regularization': 0.5, 'iterations': 5, 'weight': 'BM25', 'map@k': 0.2211378126532611}\n"
     ]
    },
    {
     "data": {
      "application/vnd.jupyter.widget-view+json": {
       "model_id": "a02af05fceb04cfdb6e0ca9b93c92724",
       "version_major": 2,
       "version_minor": 0
      },
      "text/plain": [
       "  0%|          | 0/5 [00:00<?, ?it/s]"
      ]
     },
     "metadata": {},
     "output_type": "display_data"
    },
    {
     "name": "stdout",
     "output_type": "stream",
     "text": [
      "{'factors': 10, 'regularization': 0.5, 'iterations': 5, 'weight': 'TFIDF', 'map@k': 0.1749386954389406}\n"
     ]
    },
    {
     "data": {
      "application/vnd.jupyter.widget-view+json": {
       "model_id": "e42e3dbf1c714bdba40ab43933c877dc",
       "version_major": 2,
       "version_minor": 0
      },
      "text/plain": [
       "  0%|          | 0/13 [00:00<?, ?it/s]"
      ]
     },
     "metadata": {},
     "output_type": "display_data"
    },
    {
     "name": "stdout",
     "output_type": "stream",
     "text": [
      "{'factors': 10, 'regularization': 0.5, 'iterations': 13, 'weight': 'BM25', 'map@k': 0.22368808239332988}\n"
     ]
    },
    {
     "data": {
      "application/vnd.jupyter.widget-view+json": {
       "model_id": "dd3648386d644704a5cab7d1aa1b0f9b",
       "version_major": 2,
       "version_minor": 0
      },
      "text/plain": [
       "  0%|          | 0/13 [00:00<?, ?it/s]"
      ]
     },
     "metadata": {},
     "output_type": "display_data"
    },
    {
     "name": "stdout",
     "output_type": "stream",
     "text": [
      "{'factors': 10, 'regularization': 0.5, 'iterations': 13, 'weight': 'TFIDF', 'map@k': 0.16213830308974986}\n"
     ]
    },
    {
     "data": {
      "application/vnd.jupyter.widget-view+json": {
       "model_id": "c60dfcac936f4d19b8276a511597ce23",
       "version_major": 2,
       "version_minor": 0
      },
      "text/plain": [
       "  0%|          | 0/15 [00:00<?, ?it/s]"
      ]
     },
     "metadata": {},
     "output_type": "display_data"
    },
    {
     "name": "stdout",
     "output_type": "stream",
     "text": [
      "{'factors': 10, 'regularization': 0.5, 'iterations': 15, 'weight': 'BM25', 'map@k': 0.2214811181951935}\n"
     ]
    },
    {
     "data": {
      "application/vnd.jupyter.widget-view+json": {
       "model_id": "c34793a479ef4bc1b941243a0f0e4388",
       "version_major": 2,
       "version_minor": 0
      },
      "text/plain": [
       "  0%|          | 0/15 [00:00<?, ?it/s]"
      ]
     },
     "metadata": {},
     "output_type": "display_data"
    },
    {
     "name": "stdout",
     "output_type": "stream",
     "text": [
      "{'factors': 10, 'regularization': 0.5, 'iterations': 15, 'weight': 'TFIDF', 'map@k': 0.16267778322707208}\n"
     ]
    },
    {
     "data": {
      "application/vnd.jupyter.widget-view+json": {
       "model_id": "78d5964cbf444fcda699a0878b7f2c89",
       "version_major": 2,
       "version_minor": 0
      },
      "text/plain": [
       "  0%|          | 0/1 [00:00<?, ?it/s]"
      ]
     },
     "metadata": {},
     "output_type": "display_data"
    },
    {
     "name": "stdout",
     "output_type": "stream",
     "text": [
      "{'factors': 50, 'regularization': 0.05, 'iterations': 1, 'weight': 'BM25', 'map@k': 0.2799901912702299}\n"
     ]
    },
    {
     "data": {
      "application/vnd.jupyter.widget-view+json": {
       "model_id": "aa79723c84134da9a9b0edcc34afe18a",
       "version_major": 2,
       "version_minor": 0
      },
      "text/plain": [
       "  0%|          | 0/1 [00:00<?, ?it/s]"
      ]
     },
     "metadata": {},
     "output_type": "display_data"
    },
    {
     "name": "stdout",
     "output_type": "stream",
     "text": [
      "{'factors': 50, 'regularization': 0.05, 'iterations': 1, 'weight': 'TFIDF', 'map@k': 0.22780774889651773}\n"
     ]
    },
    {
     "data": {
      "application/vnd.jupyter.widget-view+json": {
       "model_id": "718641176a9b426b8f79fd4802aa842c",
       "version_major": 2,
       "version_minor": 0
      },
      "text/plain": [
       "  0%|          | 0/5 [00:00<?, ?it/s]"
      ]
     },
     "metadata": {},
     "output_type": "display_data"
    },
    {
     "name": "stdout",
     "output_type": "stream",
     "text": [
      "{'factors': 50, 'regularization': 0.05, 'iterations': 5, 'weight': 'BM25', 'map@k': 0.2666503187837171}\n"
     ]
    },
    {
     "data": {
      "application/vnd.jupyter.widget-view+json": {
       "model_id": "c48fbd126ba844aea141c32647b6c036",
       "version_major": 2,
       "version_minor": 0
      },
      "text/plain": [
       "  0%|          | 0/5 [00:00<?, ?it/s]"
      ]
     },
     "metadata": {},
     "output_type": "display_data"
    },
    {
     "name": "stdout",
     "output_type": "stream",
     "text": [
      "{'factors': 50, 'regularization': 0.05, 'iterations': 5, 'weight': 'TFIDF', 'map@k': 0.2374693477194697}\n"
     ]
    },
    {
     "data": {
      "application/vnd.jupyter.widget-view+json": {
       "model_id": "9381f766c6dc44f79ed1aa38b7d344c7",
       "version_major": 2,
       "version_minor": 0
      },
      "text/plain": [
       "  0%|          | 0/13 [00:00<?, ?it/s]"
      ]
     },
     "metadata": {},
     "output_type": "display_data"
    },
    {
     "name": "stdout",
     "output_type": "stream",
     "text": [
      "{'factors': 50, 'regularization': 0.05, 'iterations': 13, 'weight': 'BM25', 'map@k': 0.26081412457086767}\n"
     ]
    },
    {
     "data": {
      "application/vnd.jupyter.widget-view+json": {
       "model_id": "a897e9bbd9eb4899b0f060a4c6294a07",
       "version_major": 2,
       "version_minor": 0
      },
      "text/plain": [
       "  0%|          | 0/13 [00:00<?, ?it/s]"
      ]
     },
     "metadata": {},
     "output_type": "display_data"
    },
    {
     "name": "stdout",
     "output_type": "stream",
     "text": [
      "{'factors': 50, 'regularization': 0.05, 'iterations': 13, 'weight': 'TFIDF', 'map@k': 0.23732221677292756}\n"
     ]
    },
    {
     "data": {
      "application/vnd.jupyter.widget-view+json": {
       "model_id": "e58617b6146547cdb25d798c3641ec4e",
       "version_major": 2,
       "version_minor": 0
      },
      "text/plain": [
       "  0%|          | 0/15 [00:00<?, ?it/s]"
      ]
     },
     "metadata": {},
     "output_type": "display_data"
    },
    {
     "name": "stdout",
     "output_type": "stream",
     "text": [
      "{'factors': 50, 'regularization': 0.05, 'iterations': 15, 'weight': 'BM25', 'map@k': 0.25850907307503634}\n"
     ]
    },
    {
     "data": {
      "application/vnd.jupyter.widget-view+json": {
       "model_id": "1328c58d8418413e8f8e974f608a039f",
       "version_major": 2,
       "version_minor": 0
      },
      "text/plain": [
       "  0%|          | 0/15 [00:00<?, ?it/s]"
      ]
     },
     "metadata": {},
     "output_type": "display_data"
    },
    {
     "name": "stdout",
     "output_type": "stream",
     "text": [
      "{'factors': 50, 'regularization': 0.05, 'iterations': 15, 'weight': 'TFIDF', 'map@k': 0.23702795487984277}\n"
     ]
    },
    {
     "data": {
      "application/vnd.jupyter.widget-view+json": {
       "model_id": "4752212d4f1e45d6bea6bedde289044d",
       "version_major": 2,
       "version_minor": 0
      },
      "text/plain": [
       "  0%|          | 0/1 [00:00<?, ?it/s]"
      ]
     },
     "metadata": {},
     "output_type": "display_data"
    },
    {
     "name": "stdout",
     "output_type": "stream",
     "text": [
      "{'factors': 50, 'regularization': 0.1, 'iterations': 1, 'weight': 'BM25', 'map@k': 0.2821481118195186}\n"
     ]
    },
    {
     "data": {
      "application/vnd.jupyter.widget-view+json": {
       "model_id": "dfd815c4cf4845baa0f11f1c0efed984",
       "version_major": 2,
       "version_minor": 0
      },
      "text/plain": [
       "  0%|          | 0/1 [00:00<?, ?it/s]"
      ]
     },
     "metadata": {},
     "output_type": "display_data"
    },
    {
     "name": "stdout",
     "output_type": "stream",
     "text": [
      "{'factors': 50, 'regularization': 0.1, 'iterations': 1, 'weight': 'TFIDF', 'map@k': 0.22976949485041678}\n"
     ]
    },
    {
     "data": {
      "application/vnd.jupyter.widget-view+json": {
       "model_id": "94143904e55b46aa8223d60cf4b720d4",
       "version_major": 2,
       "version_minor": 0
      },
      "text/plain": [
       "  0%|          | 0/5 [00:00<?, ?it/s]"
      ]
     },
     "metadata": {},
     "output_type": "display_data"
    },
    {
     "name": "stdout",
     "output_type": "stream",
     "text": [
      "{'factors': 50, 'regularization': 0.1, 'iterations': 5, 'weight': 'BM25', 'map@k': 0.26689553702795454}\n"
     ]
    },
    {
     "data": {
      "application/vnd.jupyter.widget-view+json": {
       "model_id": "ffb919a5920242cb9c63662157b0cc7c",
       "version_major": 2,
       "version_minor": 0
      },
      "text/plain": [
       "  0%|          | 0/5 [00:00<?, ?it/s]"
      ]
     },
     "metadata": {},
     "output_type": "display_data"
    },
    {
     "name": "stdout",
     "output_type": "stream",
     "text": [
      "{'factors': 50, 'regularization': 0.1, 'iterations': 5, 'weight': 'TFIDF', 'map@k': 0.23683178028445254}\n"
     ]
    },
    {
     "data": {
      "application/vnd.jupyter.widget-view+json": {
       "model_id": "6df4553229b147eb933fe898769701c7",
       "version_major": 2,
       "version_minor": 0
      },
      "text/plain": [
       "  0%|          | 0/13 [00:00<?, ?it/s]"
      ]
     },
     "metadata": {},
     "output_type": "display_data"
    },
    {
     "name": "stdout",
     "output_type": "stream",
     "text": [
      "{'factors': 50, 'regularization': 0.1, 'iterations': 13, 'weight': 'BM25', 'map@k': 0.25978420794507073}\n"
     ]
    },
    {
     "data": {
      "application/vnd.jupyter.widget-view+json": {
       "model_id": "32286e05fc004f23a47fcacb59b3c96a",
       "version_major": 2,
       "version_minor": 0
      },
      "text/plain": [
       "  0%|          | 0/13 [00:00<?, ?it/s]"
      ]
     },
     "metadata": {},
     "output_type": "display_data"
    },
    {
     "name": "stdout",
     "output_type": "stream",
     "text": [
      "{'factors': 50, 'regularization': 0.1, 'iterations': 13, 'weight': 'TFIDF', 'map@k': 0.23894065718489418}\n"
     ]
    },
    {
     "data": {
      "application/vnd.jupyter.widget-view+json": {
       "model_id": "551ca6b976504caeb0b9be4386315fe3",
       "version_major": 2,
       "version_minor": 0
      },
      "text/plain": [
       "  0%|          | 0/15 [00:00<?, ?it/s]"
      ]
     },
     "metadata": {},
     "output_type": "display_data"
    },
    {
     "name": "stdout",
     "output_type": "stream",
     "text": [
      "{'factors': 50, 'regularization': 0.1, 'iterations': 15, 'weight': 'BM25', 'map@k': 0.2601765571358505}\n"
     ]
    },
    {
     "data": {
      "application/vnd.jupyter.widget-view+json": {
       "model_id": "611bc988c80e481581ba742cd765bc0b",
       "version_major": 2,
       "version_minor": 0
      },
      "text/plain": [
       "  0%|          | 0/15 [00:00<?, ?it/s]"
      ]
     },
     "metadata": {},
     "output_type": "display_data"
    },
    {
     "name": "stdout",
     "output_type": "stream",
     "text": [
      "{'factors': 50, 'regularization': 0.1, 'iterations': 15, 'weight': 'TFIDF', 'map@k': 0.23766552231485996}\n"
     ]
    },
    {
     "data": {
      "application/vnd.jupyter.widget-view+json": {
       "model_id": "bd9ab328436c4dbaaf0804be588b529a",
       "version_major": 2,
       "version_minor": 0
      },
      "text/plain": [
       "  0%|          | 0/1 [00:00<?, ?it/s]"
      ]
     },
     "metadata": {},
     "output_type": "display_data"
    },
    {
     "name": "stdout",
     "output_type": "stream",
     "text": [
      "{'factors': 50, 'regularization': 0.5, 'iterations': 1, 'weight': 'BM25', 'map@k': 0.2825404610102985}\n"
     ]
    },
    {
     "data": {
      "application/vnd.jupyter.widget-view+json": {
       "model_id": "e17f1cf6cc354c24b36a95b58521b7fc",
       "version_major": 2,
       "version_minor": 0
      },
      "text/plain": [
       "  0%|          | 0/1 [00:00<?, ?it/s]"
      ]
     },
     "metadata": {},
     "output_type": "display_data"
    },
    {
     "name": "stdout",
     "output_type": "stream",
     "text": [
      "{'factors': 50, 'regularization': 0.5, 'iterations': 1, 'weight': 'TFIDF', 'map@k': 0.231338891613536}\n"
     ]
    },
    {
     "data": {
      "application/vnd.jupyter.widget-view+json": {
       "model_id": "b3f985642111480e8f8498b428f08fcd",
       "version_major": 2,
       "version_minor": 0
      },
      "text/plain": [
       "  0%|          | 0/5 [00:00<?, ?it/s]"
      ]
     },
     "metadata": {},
     "output_type": "display_data"
    },
    {
     "name": "stdout",
     "output_type": "stream",
     "text": [
      "{'factors': 50, 'regularization': 0.5, 'iterations': 5, 'weight': 'BM25', 'map@k': 0.26532614026483553}\n"
     ]
    },
    {
     "data": {
      "application/vnd.jupyter.widget-view+json": {
       "model_id": "beb50533331f4c4c82e42d3023839cc9",
       "version_major": 2,
       "version_minor": 0
      },
      "text/plain": [
       "  0%|          | 0/5 [00:00<?, ?it/s]"
      ]
     },
     "metadata": {},
     "output_type": "display_data"
    },
    {
     "name": "stdout",
     "output_type": "stream",
     "text": [
      "{'factors': 50, 'regularization': 0.5, 'iterations': 5, 'weight': 'TFIDF', 'map@k': 0.2365865620402152}\n"
     ]
    },
    {
     "data": {
      "application/vnd.jupyter.widget-view+json": {
       "model_id": "eb82f70364994798a644b9995045684e",
       "version_major": 2,
       "version_minor": 0
      },
      "text/plain": [
       "  0%|          | 0/13 [00:00<?, ?it/s]"
      ]
     },
     "metadata": {},
     "output_type": "display_data"
    },
    {
     "name": "stdout",
     "output_type": "stream",
     "text": [
      "{'factors': 50, 'regularization': 0.5, 'iterations': 13, 'weight': 'BM25', 'map@k': 0.26081412457086783}\n"
     ]
    },
    {
     "data": {
      "application/vnd.jupyter.widget-view+json": {
       "model_id": "4c62508cdad54bd29ed51fe578379f23",
       "version_major": 2,
       "version_minor": 0
      },
      "text/plain": [
       "  0%|          | 0/13 [00:00<?, ?it/s]"
      ]
     },
     "metadata": {},
     "output_type": "display_data"
    },
    {
     "name": "stdout",
     "output_type": "stream",
     "text": [
      "{'factors': 50, 'regularization': 0.5, 'iterations': 13, 'weight': 'TFIDF', 'map@k': 0.23751839136831743}\n"
     ]
    },
    {
     "data": {
      "application/vnd.jupyter.widget-view+json": {
       "model_id": "3a2a396048a9449186ce25dd2c039c5c",
       "version_major": 2,
       "version_minor": 0
      },
      "text/plain": [
       "  0%|          | 0/15 [00:00<?, ?it/s]"
      ]
     },
     "metadata": {},
     "output_type": "display_data"
    },
    {
     "name": "stdout",
     "output_type": "stream",
     "text": [
      "{'factors': 50, 'regularization': 0.5, 'iterations': 15, 'weight': 'BM25', 'map@k': 0.26071603727317283}\n"
     ]
    },
    {
     "data": {
      "application/vnd.jupyter.widget-view+json": {
       "model_id": "431525bbdea6401d881f30025112e62f",
       "version_major": 2,
       "version_minor": 0
      },
      "text/plain": [
       "  0%|          | 0/15 [00:00<?, ?it/s]"
      ]
     },
     "metadata": {},
     "output_type": "display_data"
    },
    {
     "name": "stdout",
     "output_type": "stream",
     "text": [
      "{'factors': 50, 'regularization': 0.5, 'iterations': 15, 'weight': 'TFIDF', 'map@k': 0.23678273663560534}\n"
     ]
    },
    {
     "data": {
      "application/vnd.jupyter.widget-view+json": {
       "model_id": "530aede5480f402689eb5999f39bfee3",
       "version_major": 2,
       "version_minor": 0
      },
      "text/plain": [
       "  0%|          | 0/1 [00:00<?, ?it/s]"
      ]
     },
     "metadata": {},
     "output_type": "display_data"
    },
    {
     "name": "stdout",
     "output_type": "stream",
     "text": [
      "{'factors': 100, 'regularization': 0.05, 'iterations': 1, 'weight': 'BM25', 'map@k': 0.3161353604708182}\n"
     ]
    },
    {
     "data": {
      "application/vnd.jupyter.widget-view+json": {
       "model_id": "005f79a2169d4d6d87165071833a26cb",
       "version_major": 2,
       "version_minor": 0
      },
      "text/plain": [
       "  0%|          | 0/1 [00:00<?, ?it/s]"
      ]
     },
     "metadata": {},
     "output_type": "display_data"
    },
    {
     "name": "stdout",
     "output_type": "stream",
     "text": [
      "{'factors': 100, 'regularization': 0.05, 'iterations': 1, 'weight': 'TFIDF', 'map@k': 0.295340853359489}\n"
     ]
    },
    {
     "data": {
      "application/vnd.jupyter.widget-view+json": {
       "model_id": "4e594b459ba64c03a7ca6b7075d325a9",
       "version_major": 2,
       "version_minor": 0
      },
      "text/plain": [
       "  0%|          | 0/5 [00:00<?, ?it/s]"
      ]
     },
     "metadata": {},
     "output_type": "display_data"
    },
    {
     "name": "stdout",
     "output_type": "stream",
     "text": [
      "{'factors': 100, 'regularization': 0.05, 'iterations': 5, 'weight': 'BM25', 'map@k': 0.2951937224129469}\n"
     ]
    },
    {
     "data": {
      "application/vnd.jupyter.widget-view+json": {
       "model_id": "efb2fd4c34c247b0804cf59cd73e7c33",
       "version_major": 2,
       "version_minor": 0
      },
      "text/plain": [
       "  0%|          | 0/5 [00:00<?, ?it/s]"
      ]
     },
     "metadata": {},
     "output_type": "display_data"
    },
    {
     "name": "stdout",
     "output_type": "stream",
     "text": [
      "{'factors': 100, 'regularization': 0.05, 'iterations': 5, 'weight': 'TFIDF', 'map@k': 0.26640510053947963}\n"
     ]
    },
    {
     "data": {
      "application/vnd.jupyter.widget-view+json": {
       "model_id": "527cda5dd5ad48e1a8e8935ecb67fc87",
       "version_major": 2,
       "version_minor": 0
      },
      "text/plain": [
       "  0%|          | 0/13 [00:00<?, ?it/s]"
      ]
     },
     "metadata": {},
     "output_type": "display_data"
    },
    {
     "name": "stdout",
     "output_type": "stream",
     "text": [
      "{'factors': 100, 'regularization': 0.05, 'iterations': 13, 'weight': 'BM25', 'map@k': 0.27611574301127934}\n"
     ]
    },
    {
     "data": {
      "application/vnd.jupyter.widget-view+json": {
       "model_id": "11d7498aa82d4d9dad83db1e956c4eea",
       "version_major": 2,
       "version_minor": 0
      },
      "text/plain": [
       "  0%|          | 0/13 [00:00<?, ?it/s]"
      ]
     },
     "metadata": {},
     "output_type": "display_data"
    },
    {
     "name": "stdout",
     "output_type": "stream",
     "text": [
      "{'factors': 100, 'regularization': 0.05, 'iterations': 13, 'weight': 'TFIDF', 'map@k': 0.2586562040215786}\n"
     ]
    },
    {
     "data": {
      "application/vnd.jupyter.widget-view+json": {
       "model_id": "8839c557e6e24d749a6a2ed349f783d6",
       "version_major": 2,
       "version_minor": 0
      },
      "text/plain": [
       "  0%|          | 0/15 [00:00<?, ?it/s]"
      ]
     },
     "metadata": {},
     "output_type": "display_data"
    },
    {
     "name": "stdout",
     "output_type": "stream",
     "text": [
      "{'factors': 100, 'regularization': 0.05, 'iterations': 15, 'weight': 'BM25', 'map@k': 0.27493869543894006}\n"
     ]
    },
    {
     "data": {
      "application/vnd.jupyter.widget-view+json": {
       "model_id": "ed9d31196dd641399ed473c1366770d3",
       "version_major": 2,
       "version_minor": 0
      },
      "text/plain": [
       "  0%|          | 0/15 [00:00<?, ?it/s]"
      ]
     },
     "metadata": {},
     "output_type": "display_data"
    },
    {
     "name": "stdout",
     "output_type": "stream",
     "text": [
      "{'factors': 100, 'regularization': 0.05, 'iterations': 15, 'weight': 'TFIDF', 'map@k': 0.26071603727317255}\n"
     ]
    },
    {
     "data": {
      "application/vnd.jupyter.widget-view+json": {
       "model_id": "9f33e84896f84a638364bf9f361680b7",
       "version_major": 2,
       "version_minor": 0
      },
      "text/plain": [
       "  0%|          | 0/1 [00:00<?, ?it/s]"
      ]
     },
     "metadata": {},
     "output_type": "display_data"
    },
    {
     "name": "stdout",
     "output_type": "stream",
     "text": [
      "{'factors': 100, 'regularization': 0.1, 'iterations': 1, 'weight': 'BM25', 'map@k': 0.31539970573810605}\n"
     ]
    },
    {
     "data": {
      "application/vnd.jupyter.widget-view+json": {
       "model_id": "fecaff213aae4a1ab334d5a010e86546",
       "version_major": 2,
       "version_minor": 0
      },
      "text/plain": [
       "  0%|          | 0/1 [00:00<?, ?it/s]"
      ]
     },
     "metadata": {},
     "output_type": "display_data"
    },
    {
     "name": "stdout",
     "output_type": "stream",
     "text": [
      "{'factors': 100, 'regularization': 0.1, 'iterations': 1, 'weight': 'TFIDF', 'map@k': 0.29342815105443765}\n"
     ]
    },
    {
     "data": {
      "application/vnd.jupyter.widget-view+json": {
       "model_id": "626628c6104542f897dcab8fc1a9017e",
       "version_major": 2,
       "version_minor": 0
      },
      "text/plain": [
       "  0%|          | 0/5 [00:00<?, ?it/s]"
      ]
     },
     "metadata": {},
     "output_type": "display_data"
    },
    {
     "name": "stdout",
     "output_type": "stream",
     "text": [
      "{'factors': 100, 'regularization': 0.1, 'iterations': 5, 'weight': 'BM25', 'map@k': 0.2900931829328096}\n"
     ]
    },
    {
     "data": {
      "application/vnd.jupyter.widget-view+json": {
       "model_id": "190a99881908403a8eec9bfcae71d188",
       "version_major": 2,
       "version_minor": 0
      },
      "text/plain": [
       "  0%|          | 0/5 [00:00<?, ?it/s]"
      ]
     },
     "metadata": {},
     "output_type": "display_data"
    },
    {
     "name": "stdout",
     "output_type": "stream",
     "text": [
      "{'factors': 100, 'regularization': 0.1, 'iterations': 5, 'weight': 'TFIDF', 'map@k': 0.26650318783717464}\n"
     ]
    },
    {
     "data": {
      "application/vnd.jupyter.widget-view+json": {
       "model_id": "4b1bc77a7af04f8b8dc90f0a718c74c4",
       "version_major": 2,
       "version_minor": 0
      },
      "text/plain": [
       "  0%|          | 0/13 [00:00<?, ?it/s]"
      ]
     },
     "metadata": {},
     "output_type": "display_data"
    },
    {
     "name": "stdout",
     "output_type": "stream",
     "text": [
      "{'factors': 100, 'regularization': 0.1, 'iterations': 13, 'weight': 'BM25', 'map@k': 0.2730259931338884}\n"
     ]
    },
    {
     "data": {
      "application/vnd.jupyter.widget-view+json": {
       "model_id": "409f1f95206142859c15f252e88c6601",
       "version_major": 2,
       "version_minor": 0
      },
      "text/plain": [
       "  0%|          | 0/13 [00:00<?, ?it/s]"
      ]
     },
     "metadata": {},
     "output_type": "display_data"
    },
    {
     "name": "stdout",
     "output_type": "stream",
     "text": [
      "{'factors': 100, 'regularization': 0.1, 'iterations': 13, 'weight': 'TFIDF', 'map@k': 0.25983325159391796}\n"
     ]
    },
    {
     "data": {
      "application/vnd.jupyter.widget-view+json": {
       "model_id": "cdc15b88ed944438a39e4b76949f0467",
       "version_major": 2,
       "version_minor": 0
      },
      "text/plain": [
       "  0%|          | 0/15 [00:00<?, ?it/s]"
      ]
     },
     "metadata": {},
     "output_type": "display_data"
    },
    {
     "name": "stdout",
     "output_type": "stream",
     "text": [
      "{'factors': 100, 'regularization': 0.1, 'iterations': 15, 'weight': 'BM25', 'map@k': 0.2742030407062279}\n"
     ]
    },
    {
     "data": {
      "application/vnd.jupyter.widget-view+json": {
       "model_id": "cf2d41cdf3114b4dbde4e113781d5ed7",
       "version_major": 2,
       "version_minor": 0
      },
      "text/plain": [
       "  0%|          | 0/15 [00:00<?, ?it/s]"
      ]
     },
     "metadata": {},
     "output_type": "display_data"
    },
    {
     "name": "stdout",
     "output_type": "stream",
     "text": [
      "{'factors': 100, 'regularization': 0.1, 'iterations': 15, 'weight': 'TFIDF', 'map@k': 0.2606669936243251}\n"
     ]
    },
    {
     "data": {
      "application/vnd.jupyter.widget-view+json": {
       "model_id": "2c528116a177485a877b8038a3cdec1a",
       "version_major": 2,
       "version_minor": 0
      },
      "text/plain": [
       "  0%|          | 0/1 [00:00<?, ?it/s]"
      ]
     },
     "metadata": {},
     "output_type": "display_data"
    },
    {
     "name": "stdout",
     "output_type": "stream",
     "text": [
      "{'factors': 100, 'regularization': 0.5, 'iterations': 1, 'weight': 'BM25', 'map@k': 0.31152525747915566}\n"
     ]
    },
    {
     "data": {
      "application/vnd.jupyter.widget-view+json": {
       "model_id": "b0e13865d99643a9b47ad2f30cf2d026",
       "version_major": 2,
       "version_minor": 0
      },
      "text/plain": [
       "  0%|          | 0/1 [00:00<?, ?it/s]"
      ]
     },
     "metadata": {},
     "output_type": "display_data"
    },
    {
     "name": "stdout",
     "output_type": "stream",
     "text": [
      "{'factors': 100, 'regularization': 0.5, 'iterations': 1, 'weight': 'TFIDF', 'map@k': 0.29244727807748816}\n"
     ]
    },
    {
     "data": {
      "application/vnd.jupyter.widget-view+json": {
       "model_id": "14c10b92b2e44f6d8dfc72c1842100ef",
       "version_major": 2,
       "version_minor": 0
      },
      "text/plain": [
       "  0%|          | 0/5 [00:00<?, ?it/s]"
      ]
     },
     "metadata": {},
     "output_type": "display_data"
    },
    {
     "name": "stdout",
     "output_type": "stream",
     "text": [
      "{'factors': 100, 'regularization': 0.5, 'iterations': 5, 'weight': 'BM25', 'map@k': 0.28513977439921484}\n"
     ]
    },
    {
     "data": {
      "application/vnd.jupyter.widget-view+json": {
       "model_id": "e1028d21f61c4a5eb1efeac6e6a5fa60",
       "version_major": 2,
       "version_minor": 0
      },
      "text/plain": [
       "  0%|          | 0/5 [00:00<?, ?it/s]"
      ]
     },
     "metadata": {},
     "output_type": "display_data"
    },
    {
     "name": "stdout",
     "output_type": "stream",
     "text": [
      "{'factors': 100, 'regularization': 0.5, 'iterations': 5, 'weight': 'TFIDF', 'map@k': 0.260519862677783}\n"
     ]
    },
    {
     "data": {
      "application/vnd.jupyter.widget-view+json": {
       "model_id": "1d6f02b2771d45feb2471d139cc30332",
       "version_major": 2,
       "version_minor": 0
      },
      "text/plain": [
       "  0%|          | 0/13 [00:00<?, ?it/s]"
      ]
     },
     "metadata": {},
     "output_type": "display_data"
    },
    {
     "name": "stdout",
     "output_type": "stream",
     "text": [
      "{'factors': 100, 'regularization': 0.5, 'iterations': 13, 'weight': 'BM25', 'map@k': 0.27351642962236333}\n"
     ]
    },
    {
     "data": {
      "application/vnd.jupyter.widget-view+json": {
       "model_id": "5ec6c7a721bb4338ad2d21763b8d9300",
       "version_major": 2,
       "version_minor": 0
      },
      "text/plain": [
       "  0%|          | 0/13 [00:00<?, ?it/s]"
      ]
     },
     "metadata": {},
     "output_type": "display_data"
    },
    {
     "name": "stdout",
     "output_type": "stream",
     "text": [
      "{'factors': 100, 'regularization': 0.5, 'iterations': 13, 'weight': 'TFIDF', 'map@k': 0.25605689063266257}\n"
     ]
    },
    {
     "data": {
      "application/vnd.jupyter.widget-view+json": {
       "model_id": "812d655a6cce455bb5f3f620e29e64d8",
       "version_major": 2,
       "version_minor": 0
      },
      "text/plain": [
       "  0%|          | 0/15 [00:00<?, ?it/s]"
      ]
     },
     "metadata": {},
     "output_type": "display_data"
    },
    {
     "name": "stdout",
     "output_type": "stream",
     "text": [
      "{'factors': 100, 'regularization': 0.5, 'iterations': 15, 'weight': 'BM25', 'map@k': 0.27179990191270176}\n"
     ]
    },
    {
     "data": {
      "application/vnd.jupyter.widget-view+json": {
       "model_id": "e9c68a7187c74c69a79572e90eb907a9",
       "version_major": 2,
       "version_minor": 0
      },
      "text/plain": [
       "  0%|          | 0/15 [00:00<?, ?it/s]"
      ]
     },
     "metadata": {},
     "output_type": "display_data"
    },
    {
     "name": "stdout",
     "output_type": "stream",
     "text": [
      "{'factors': 100, 'regularization': 0.5, 'iterations': 15, 'weight': 'TFIDF', 'map@k': 0.25772437469347664}\n"
     ]
    },
    {
     "data": {
      "application/vnd.jupyter.widget-view+json": {
       "model_id": "2e4745377c13446b8daa20161bad34cb",
       "version_major": 2,
       "version_minor": 0
      },
      "text/plain": [
       "  0%|          | 0/1 [00:00<?, ?it/s]"
      ]
     },
     "metadata": {},
     "output_type": "display_data"
    },
    {
     "name": "stdout",
     "output_type": "stream",
     "text": [
      "{'factors': 150, 'regularization': 0.05, 'iterations': 1, 'weight': 'BM25', 'map@k': 0.31922511034820916}\n"
     ]
    },
    {
     "data": {
      "application/vnd.jupyter.widget-view+json": {
       "model_id": "351a04a7ffe6442499f7ef4c50fe4b14",
       "version_major": 2,
       "version_minor": 0
      },
      "text/plain": [
       "  0%|          | 0/1 [00:00<?, ?it/s]"
      ]
     },
     "metadata": {},
     "output_type": "display_data"
    },
    {
     "name": "stdout",
     "output_type": "stream",
     "text": [
      "{'factors': 150, 'regularization': 0.05, 'iterations': 1, 'weight': 'TFIDF', 'map@k': 0.3199607650809211}\n"
     ]
    },
    {
     "data": {
      "application/vnd.jupyter.widget-view+json": {
       "model_id": "ab70276ad08b461b9d67eabf703a7bdf",
       "version_major": 2,
       "version_minor": 0
      },
      "text/plain": [
       "  0%|          | 0/5 [00:00<?, ?it/s]"
      ]
     },
     "metadata": {},
     "output_type": "display_data"
    },
    {
     "name": "stdout",
     "output_type": "stream",
     "text": [
      "{'factors': 150, 'regularization': 0.05, 'iterations': 5, 'weight': 'BM25', 'map@k': 0.2824423737126038}\n"
     ]
    },
    {
     "data": {
      "application/vnd.jupyter.widget-view+json": {
       "model_id": "313d6be4b8ea47178740ac0f0baa5f31",
       "version_major": 2,
       "version_minor": 0
      },
      "text/plain": [
       "  0%|          | 0/5 [00:00<?, ?it/s]"
      ]
     },
     "metadata": {},
     "output_type": "display_data"
    },
    {
     "name": "stdout",
     "output_type": "stream",
     "text": [
      "{'factors': 150, 'regularization': 0.05, 'iterations': 5, 'weight': 'TFIDF', 'map@k': 0.2742520843550753}\n"
     ]
    },
    {
     "data": {
      "application/vnd.jupyter.widget-view+json": {
       "model_id": "545f055940394fc18de5dd467655f0a4",
       "version_major": 2,
       "version_minor": 0
      },
      "text/plain": [
       "  0%|          | 0/13 [00:00<?, ?it/s]"
      ]
     },
     "metadata": {},
     "output_type": "display_data"
    },
    {
     "name": "stdout",
     "output_type": "stream",
     "text": [
      "{'factors': 150, 'regularization': 0.05, 'iterations': 13, 'weight': 'BM25', 'map@k': 0.2693477194703282}\n"
     ]
    },
    {
     "data": {
      "application/vnd.jupyter.widget-view+json": {
       "model_id": "7840b30987ae438eaf35017829581336",
       "version_major": 2,
       "version_minor": 0
      },
      "text/plain": [
       "  0%|          | 0/13 [00:00<?, ?it/s]"
      ]
     },
     "metadata": {},
     "output_type": "display_data"
    },
    {
     "name": "stdout",
     "output_type": "stream",
     "text": [
      "{'factors': 150, 'regularization': 0.05, 'iterations': 13, 'weight': 'TFIDF', 'map@k': 0.2721432074546341}\n"
     ]
    },
    {
     "data": {
      "application/vnd.jupyter.widget-view+json": {
       "model_id": "8c8f7a4e0dd0429dbdaeb05fb6596464",
       "version_major": 2,
       "version_minor": 0
      },
      "text/plain": [
       "  0%|          | 0/15 [00:00<?, ?it/s]"
      ]
     },
     "metadata": {},
     "output_type": "display_data"
    },
    {
     "name": "stdout",
     "output_type": "stream",
     "text": [
      "{'factors': 150, 'regularization': 0.05, 'iterations': 15, 'weight': 'BM25', 'map@k': 0.2676311917606664}\n"
     ]
    },
    {
     "data": {
      "application/vnd.jupyter.widget-view+json": {
       "model_id": "41a204d3a6b6434793251bd585318e77",
       "version_major": 2,
       "version_minor": 0
      },
      "text/plain": [
       "  0%|          | 0/15 [00:00<?, ?it/s]"
      ]
     },
     "metadata": {},
     "output_type": "display_data"
    },
    {
     "name": "stdout",
     "output_type": "stream",
     "text": [
      "{'factors': 150, 'regularization': 0.05, 'iterations': 15, 'weight': 'TFIDF', 'map@k': 0.2690534575772432}\n"
     ]
    },
    {
     "data": {
      "application/vnd.jupyter.widget-view+json": {
       "model_id": "b42f80d4f5bd4dfb85021974985a4e12",
       "version_major": 2,
       "version_minor": 0
      },
      "text/plain": [
       "  0%|          | 0/1 [00:00<?, ?it/s]"
      ]
     },
     "metadata": {},
     "output_type": "display_data"
    },
    {
     "name": "stdout",
     "output_type": "stream",
     "text": [
      "{'factors': 150, 'regularization': 0.1, 'iterations': 1, 'weight': 'BM25', 'map@k': 0.32618930848455024}\n"
     ]
    },
    {
     "data": {
      "application/vnd.jupyter.widget-view+json": {
       "model_id": "be96825dc16642169a0f68dd7201aaa5",
       "version_major": 2,
       "version_minor": 0
      },
      "text/plain": [
       "  0%|          | 0/1 [00:00<?, ?it/s]"
      ]
     },
     "metadata": {},
     "output_type": "display_data"
    },
    {
     "name": "stdout",
     "output_type": "stream",
     "text": [
      "{'factors': 150, 'regularization': 0.1, 'iterations': 1, 'weight': 'TFIDF', 'map@k': 0.32128494359980314}\n"
     ]
    },
    {
     "data": {
      "application/vnd.jupyter.widget-view+json": {
       "model_id": "5aec281b72eb44dbbd8f724fdca84ee0",
       "version_major": 2,
       "version_minor": 0
      },
      "text/plain": [
       "  0%|          | 0/5 [00:00<?, ?it/s]"
      ]
     },
     "metadata": {},
     "output_type": "display_data"
    },
    {
     "name": "stdout",
     "output_type": "stream",
     "text": [
      "{'factors': 150, 'regularization': 0.1, 'iterations': 5, 'weight': 'BM25', 'map@k': 0.2859735164296218}\n"
     ]
    },
    {
     "data": {
      "application/vnd.jupyter.widget-view+json": {
       "model_id": "e291704903df4fd4b67bf55f58bc503d",
       "version_major": 2,
       "version_minor": 0
      },
      "text/plain": [
       "  0%|          | 0/5 [00:00<?, ?it/s]"
      ]
     },
     "metadata": {},
     "output_type": "display_data"
    },
    {
     "name": "stdout",
     "output_type": "stream",
     "text": [
      "{'factors': 150, 'regularization': 0.1, 'iterations': 5, 'weight': 'TFIDF', 'map@k': 0.2746934771947028}\n"
     ]
    },
    {
     "data": {
      "application/vnd.jupyter.widget-view+json": {
       "model_id": "8177b5a9feca472ea1e0e753deb489d9",
       "version_major": 2,
       "version_minor": 0
      },
      "text/plain": [
       "  0%|          | 0/13 [00:00<?, ?it/s]"
      ]
     },
     "metadata": {},
     "output_type": "display_data"
    },
    {
     "name": "stdout",
     "output_type": "stream",
     "text": [
      "{'factors': 150, 'regularization': 0.1, 'iterations': 13, 'weight': 'BM25', 'map@k': 0.26959293771456555}\n"
     ]
    },
    {
     "data": {
      "application/vnd.jupyter.widget-view+json": {
       "model_id": "e96bac1e6a7b45edba133ead3b45449e",
       "version_major": 2,
       "version_minor": 0
      },
      "text/plain": [
       "  0%|          | 0/13 [00:00<?, ?it/s]"
      ]
     },
     "metadata": {},
     "output_type": "display_data"
    },
    {
     "name": "stdout",
     "output_type": "stream",
     "text": [
      "{'factors': 150, 'regularization': 0.1, 'iterations': 13, 'weight': 'TFIDF', 'map@k': 0.27140755272192196}\n"
     ]
    },
    {
     "data": {
      "application/vnd.jupyter.widget-view+json": {
       "model_id": "989e8468538c4c32ab7ac3c36dba0b15",
       "version_major": 2,
       "version_minor": 0
      },
      "text/plain": [
       "  0%|          | 0/15 [00:00<?, ?it/s]"
      ]
     },
     "metadata": {},
     "output_type": "display_data"
    },
    {
     "name": "stdout",
     "output_type": "stream",
     "text": [
      "{'factors': 150, 'regularization': 0.1, 'iterations': 15, 'weight': 'BM25', 'map@k': 0.2690044139283957}\n"
     ]
    },
    {
     "data": {
      "application/vnd.jupyter.widget-view+json": {
       "model_id": "441d5a54473249f5889883fb68aec0bb",
       "version_major": 2,
       "version_minor": 0
      },
      "text/plain": [
       "  0%|          | 0/15 [00:00<?, ?it/s]"
      ]
     },
     "metadata": {},
     "output_type": "display_data"
    },
    {
     "name": "stdout",
     "output_type": "stream",
     "text": [
      "{'factors': 150, 'regularization': 0.1, 'iterations': 15, 'weight': 'TFIDF', 'map@k': 0.2694948504168704}\n"
     ]
    },
    {
     "data": {
      "application/vnd.jupyter.widget-view+json": {
       "model_id": "717d4c3586f74bc8929b9c996e796e68",
       "version_major": 2,
       "version_minor": 0
      },
      "text/plain": [
       "  0%|          | 0/1 [00:00<?, ?it/s]"
      ]
     },
     "metadata": {},
     "output_type": "display_data"
    },
    {
     "name": "stdout",
     "output_type": "stream",
     "text": [
      "{'factors': 150, 'regularization': 0.5, 'iterations': 1, 'weight': 'BM25', 'map@k': 0.32815105443844983}\n"
     ]
    },
    {
     "data": {
      "application/vnd.jupyter.widget-view+json": {
       "model_id": "554235dd005f423ab6965f326d01aecc",
       "version_major": 2,
       "version_minor": 0
      },
      "text/plain": [
       "  0%|          | 0/1 [00:00<?, ?it/s]"
      ]
     },
     "metadata": {},
     "output_type": "display_data"
    },
    {
     "name": "stdout",
     "output_type": "stream",
     "text": [
      "{'factors': 150, 'regularization': 0.5, 'iterations': 1, 'weight': 'TFIDF', 'map@k': 0.326679744973025}\n"
     ]
    },
    {
     "data": {
      "application/vnd.jupyter.widget-view+json": {
       "model_id": "ecd53c7800b641baa8d7d9718df2f339",
       "version_major": 2,
       "version_minor": 0
      },
      "text/plain": [
       "  0%|          | 0/5 [00:00<?, ?it/s]"
      ]
     },
     "metadata": {},
     "output_type": "display_data"
    },
    {
     "name": "stdout",
     "output_type": "stream",
     "text": [
      "{'factors': 150, 'regularization': 0.5, 'iterations': 5, 'weight': 'BM25', 'map@k': 0.2835213339872481}\n"
     ]
    },
    {
     "data": {
      "application/vnd.jupyter.widget-view+json": {
       "model_id": "bdf2f2bad842497eb0809f1375678a92",
       "version_major": 2,
       "version_minor": 0
      },
      "text/plain": [
       "  0%|          | 0/5 [00:00<?, ?it/s]"
      ]
     },
     "metadata": {},
     "output_type": "display_data"
    },
    {
     "name": "stdout",
     "output_type": "stream",
     "text": [
      "{'factors': 150, 'regularization': 0.5, 'iterations': 5, 'weight': 'TFIDF', 'map@k': 0.27145659637076924}\n"
     ]
    },
    {
     "data": {
      "application/vnd.jupyter.widget-view+json": {
       "model_id": "c457a17df3dc43f5bd33f6bee738b0da",
       "version_major": 2,
       "version_minor": 0
      },
      "text/plain": [
       "  0%|          | 0/13 [00:00<?, ?it/s]"
      ]
     },
     "metadata": {},
     "output_type": "display_data"
    },
    {
     "name": "stdout",
     "output_type": "stream",
     "text": [
      "{'factors': 150, 'regularization': 0.5, 'iterations': 13, 'weight': 'BM25', 'map@k': 0.27003433055419274}\n"
     ]
    },
    {
     "data": {
      "application/vnd.jupyter.widget-view+json": {
       "model_id": "67120cdef5174c4b8b9a3a4f4823710b",
       "version_major": 2,
       "version_minor": 0
      },
      "text/plain": [
       "  0%|          | 0/13 [00:00<?, ?it/s]"
      ]
     },
     "metadata": {},
     "output_type": "display_data"
    },
    {
     "name": "stdout",
     "output_type": "stream",
     "text": [
      "{'factors': 150, 'regularization': 0.5, 'iterations': 13, 'weight': 'TFIDF', 'map@k': 0.2676311917606666}\n"
     ]
    },
    {
     "data": {
      "application/vnd.jupyter.widget-view+json": {
       "model_id": "693d0b03ddb74b7698f54e55e8df0c95",
       "version_major": 2,
       "version_minor": 0
      },
      "text/plain": [
       "  0%|          | 0/15 [00:00<?, ?it/s]"
      ]
     },
     "metadata": {},
     "output_type": "display_data"
    },
    {
     "name": "stdout",
     "output_type": "stream",
     "text": [
      "{'factors': 150, 'regularization': 0.5, 'iterations': 15, 'weight': 'BM25', 'map@k': 0.26924963217263315}\n"
     ]
    },
    {
     "data": {
      "application/vnd.jupyter.widget-view+json": {
       "model_id": "1d96d0f4cd114ef48a43bbf4b9913c1c",
       "version_major": 2,
       "version_minor": 0
      },
      "text/plain": [
       "  0%|          | 0/15 [00:00<?, ?it/s]"
      ]
     },
     "metadata": {},
     "output_type": "display_data"
    },
    {
     "name": "stdout",
     "output_type": "stream",
     "text": [
      "{'factors': 150, 'regularization': 0.5, 'iterations': 15, 'weight': 'TFIDF', 'map@k': 0.2652280529671402}\n"
     ]
    },
    {
     "data": {
      "application/vnd.jupyter.widget-view+json": {
       "model_id": "32de6ca3931a44449cd1cfe78d490aac",
       "version_major": 2,
       "version_minor": 0
      },
      "text/plain": [
       "  0%|          | 0/1 [00:00<?, ?it/s]"
      ]
     },
     "metadata": {},
     "output_type": "display_data"
    },
    {
     "name": "stdout",
     "output_type": "stream",
     "text": [
      "{'factors': 200, 'regularization': 0.05, 'iterations': 1, 'weight': 'BM25', 'map@k': 0.327905836194212}\n"
     ]
    },
    {
     "data": {
      "application/vnd.jupyter.widget-view+json": {
       "model_id": "eec90261f5b64c8ca1b67e8671cf914c",
       "version_major": 2,
       "version_minor": 0
      },
      "text/plain": [
       "  0%|          | 0/1 [00:00<?, ?it/s]"
      ]
     },
     "metadata": {},
     "output_type": "display_data"
    },
    {
     "name": "stdout",
     "output_type": "stream",
     "text": [
      "{'factors': 200, 'regularization': 0.05, 'iterations': 1, 'weight': 'TFIDF', 'map@k': 0.319617459538989}\n"
     ]
    },
    {
     "data": {
      "application/vnd.jupyter.widget-view+json": {
       "model_id": "fa2a9c411cc24826b57e8fcdc2f89ea1",
       "version_major": 2,
       "version_minor": 0
      },
      "text/plain": [
       "  0%|          | 0/5 [00:00<?, ?it/s]"
      ]
     },
     "metadata": {},
     "output_type": "display_data"
    },
    {
     "name": "stdout",
     "output_type": "stream",
     "text": [
      "{'factors': 200, 'regularization': 0.05, 'iterations': 5, 'weight': 'BM25', 'map@k': 0.2689553702795482}\n"
     ]
    },
    {
     "data": {
      "application/vnd.jupyter.widget-view+json": {
       "model_id": "04f1d1ccafc747609f79959421f3e535",
       "version_major": 2,
       "version_minor": 0
      },
      "text/plain": [
       "  0%|          | 0/5 [00:00<?, ?it/s]"
      ]
     },
     "metadata": {},
     "output_type": "display_data"
    },
    {
     "name": "stdout",
     "output_type": "stream",
     "text": [
      "{'factors': 200, 'regularization': 0.05, 'iterations': 5, 'weight': 'TFIDF', 'map@k': 0.27032859244727775}\n"
     ]
    },
    {
     "data": {
      "application/vnd.jupyter.widget-view+json": {
       "model_id": "aa11b7e7b931457d8aa84553450d859f",
       "version_major": 2,
       "version_minor": 0
      },
      "text/plain": [
       "  0%|          | 0/13 [00:00<?, ?it/s]"
      ]
     },
     "metadata": {},
     "output_type": "display_data"
    },
    {
     "name": "stdout",
     "output_type": "stream",
     "text": [
      "{'factors': 200, 'regularization': 0.05, 'iterations': 13, 'weight': 'BM25', 'map@k': 0.25404610102991615}\n"
     ]
    },
    {
     "data": {
      "application/vnd.jupyter.widget-view+json": {
       "model_id": "d48a122d0a86469190b68763674ff6a7",
       "version_major": 2,
       "version_minor": 0
      },
      "text/plain": [
       "  0%|          | 0/13 [00:00<?, ?it/s]"
      ]
     },
     "metadata": {},
     "output_type": "display_data"
    },
    {
     "name": "stdout",
     "output_type": "stream",
     "text": [
      "{'factors': 200, 'regularization': 0.05, 'iterations': 13, 'weight': 'TFIDF', 'map@k': 0.2659637076998525}\n"
     ]
    },
    {
     "data": {
      "application/vnd.jupyter.widget-view+json": {
       "model_id": "e257d661a43748538c0baa4bb5d5b3d9",
       "version_major": 2,
       "version_minor": 0
      },
      "text/plain": [
       "  0%|          | 0/15 [00:00<?, ?it/s]"
      ]
     },
     "metadata": {},
     "output_type": "display_data"
    },
    {
     "name": "stdout",
     "output_type": "stream",
     "text": [
      "{'factors': 200, 'regularization': 0.05, 'iterations': 15, 'weight': 'BM25', 'map@k': 0.25262383521333936}\n"
     ]
    },
    {
     "data": {
      "application/vnd.jupyter.widget-view+json": {
       "model_id": "497faba15d1f48ed854717a7d7a67d28",
       "version_major": 2,
       "version_minor": 0
      },
      "text/plain": [
       "  0%|          | 0/15 [00:00<?, ?it/s]"
      ]
     },
     "metadata": {},
     "output_type": "display_data"
    },
    {
     "name": "stdout",
     "output_type": "stream",
     "text": [
      "{'factors': 200, 'regularization': 0.05, 'iterations': 15, 'weight': 'TFIDF', 'map@k': 0.2665522314860222}\n"
     ]
    },
    {
     "data": {
      "application/vnd.jupyter.widget-view+json": {
       "model_id": "3416865c8af54674a9969d8a88f1b863",
       "version_major": 2,
       "version_minor": 0
      },
      "text/plain": [
       "  0%|          | 0/1 [00:00<?, ?it/s]"
      ]
     },
     "metadata": {},
     "output_type": "display_data"
    },
    {
     "name": "stdout",
     "output_type": "stream",
     "text": [
      "{'factors': 200, 'regularization': 0.1, 'iterations': 1, 'weight': 'BM25', 'map@k': 0.32354095144678696}\n"
     ]
    },
    {
     "data": {
      "application/vnd.jupyter.widget-view+json": {
       "model_id": "9280910622b048a7ba3c29a00c8fc5de",
       "version_major": 2,
       "version_minor": 0
      },
      "text/plain": [
       "  0%|          | 0/1 [00:00<?, ?it/s]"
      ]
     },
     "metadata": {},
     "output_type": "display_data"
    },
    {
     "name": "stdout",
     "output_type": "stream",
     "text": [
      "{'factors': 200, 'regularization': 0.1, 'iterations': 1, 'weight': 'TFIDF', 'map@k': 0.3186365865620395}\n"
     ]
    },
    {
     "data": {
      "application/vnd.jupyter.widget-view+json": {
       "model_id": "973e7ae18cc84d38af93dca3b07592e0",
       "version_major": 2,
       "version_minor": 0
      },
      "text/plain": [
       "  0%|          | 0/5 [00:00<?, ?it/s]"
      ]
     },
     "metadata": {},
     "output_type": "display_data"
    },
    {
     "name": "stdout",
     "output_type": "stream",
     "text": [
      "{'factors': 200, 'regularization': 0.1, 'iterations': 5, 'weight': 'BM25', 'map@k': 0.2742520843550754}\n"
     ]
    },
    {
     "data": {
      "application/vnd.jupyter.widget-view+json": {
       "model_id": "9e2e7c52edf44dd091e870646ace2106",
       "version_major": 2,
       "version_minor": 0
      },
      "text/plain": [
       "  0%|          | 0/5 [00:00<?, ?it/s]"
      ]
     },
     "metadata": {},
     "output_type": "display_data"
    },
    {
     "name": "stdout",
     "output_type": "stream",
     "text": [
      "{'factors': 200, 'regularization': 0.1, 'iterations': 5, 'weight': 'TFIDF', 'map@k': 0.276164786660127}\n"
     ]
    },
    {
     "data": {
      "application/vnd.jupyter.widget-view+json": {
       "model_id": "05297d8d64e5466298a8d54cf9a854c8",
       "version_major": 2,
       "version_minor": 0
      },
      "text/plain": [
       "  0%|          | 0/13 [00:00<?, ?it/s]"
      ]
     },
     "metadata": {},
     "output_type": "display_data"
    },
    {
     "name": "stdout",
     "output_type": "stream",
     "text": [
      "{'factors': 200, 'regularization': 0.1, 'iterations': 13, 'weight': 'BM25', 'map@k': 0.25899950956351103}\n"
     ]
    },
    {
     "data": {
      "application/vnd.jupyter.widget-view+json": {
       "model_id": "0cc8b59be3a3454687d11d3ddf337fe0",
       "version_major": 2,
       "version_minor": 0
      },
      "text/plain": [
       "  0%|          | 0/13 [00:00<?, ?it/s]"
      ]
     },
     "metadata": {},
     "output_type": "display_data"
    },
    {
     "name": "stdout",
     "output_type": "stream",
     "text": [
      "{'factors': 200, 'regularization': 0.1, 'iterations': 13, 'weight': 'TFIDF', 'map@k': 0.2657184894556152}\n"
     ]
    },
    {
     "data": {
      "application/vnd.jupyter.widget-view+json": {
       "model_id": "f336bd9084df41559791de2e826fd24e",
       "version_major": 2,
       "version_minor": 0
      },
      "text/plain": [
       "  0%|          | 0/15 [00:00<?, ?it/s]"
      ]
     },
     "metadata": {},
     "output_type": "display_data"
    },
    {
     "name": "stdout",
     "output_type": "stream",
     "text": [
      "{'factors': 200, 'regularization': 0.1, 'iterations': 15, 'weight': 'BM25', 'map@k': 0.25703776360961234}\n"
     ]
    },
    {
     "data": {
      "application/vnd.jupyter.widget-view+json": {
       "model_id": "d7909184afc444c29625a7c86c9dadec",
       "version_major": 2,
       "version_minor": 0
      },
      "text/plain": [
       "  0%|          | 0/15 [00:00<?, ?it/s]"
      ]
     },
     "metadata": {},
     "output_type": "display_data"
    },
    {
     "name": "stdout",
     "output_type": "stream",
     "text": [
      "{'factors': 200, 'regularization': 0.1, 'iterations': 15, 'weight': 'TFIDF', 'map@k': 0.267042667974497}\n"
     ]
    },
    {
     "data": {
      "application/vnd.jupyter.widget-view+json": {
       "model_id": "e9cb9ba4632143038c87359f197808f6",
       "version_major": 2,
       "version_minor": 0
      },
      "text/plain": [
       "  0%|          | 0/1 [00:00<?, ?it/s]"
      ]
     },
     "metadata": {},
     "output_type": "display_data"
    },
    {
     "name": "stdout",
     "output_type": "stream",
     "text": [
      "{'factors': 200, 'regularization': 0.5, 'iterations': 1, 'weight': 'BM25', 'map@k': 0.3307994114762132}\n"
     ]
    },
    {
     "data": {
      "application/vnd.jupyter.widget-view+json": {
       "model_id": "c3a6a04dada1468294d983acf2bb6c79",
       "version_major": 2,
       "version_minor": 0
      },
      "text/plain": [
       "  0%|          | 0/1 [00:00<?, ?it/s]"
      ]
     },
     "metadata": {},
     "output_type": "display_data"
    },
    {
     "name": "stdout",
     "output_type": "stream",
     "text": [
      "{'factors': 200, 'regularization': 0.5, 'iterations': 1, 'weight': 'TFIDF', 'map@k': 0.3152525747915642}\n"
     ]
    },
    {
     "data": {
      "application/vnd.jupyter.widget-view+json": {
       "model_id": "36950fe9bcd8431f842a6afe6610df86",
       "version_major": 2,
       "version_minor": 0
      },
      "text/plain": [
       "  0%|          | 0/5 [00:00<?, ?it/s]"
      ]
     },
     "metadata": {},
     "output_type": "display_data"
    },
    {
     "name": "stdout",
     "output_type": "stream",
     "text": [
      "{'factors': 200, 'regularization': 0.5, 'iterations': 5, 'weight': 'BM25', 'map@k': 0.27116233447768456}\n"
     ]
    },
    {
     "data": {
      "application/vnd.jupyter.widget-view+json": {
       "model_id": "29f1f3ef596d48c488b2692c663e45ec",
       "version_major": 2,
       "version_minor": 0
      },
      "text/plain": [
       "  0%|          | 0/5 [00:00<?, ?it/s]"
      ]
     },
     "metadata": {},
     "output_type": "display_data"
    },
    {
     "name": "stdout",
     "output_type": "stream",
     "text": [
      "{'factors': 200, 'regularization': 0.5, 'iterations': 5, 'weight': 'TFIDF', 'map@k': 0.27106424717998984}\n"
     ]
    },
    {
     "data": {
      "application/vnd.jupyter.widget-view+json": {
       "model_id": "6371d099b2a8410e8d0ae77a9cb8c303",
       "version_major": 2,
       "version_minor": 0
      },
      "text/plain": [
       "  0%|          | 0/13 [00:00<?, ?it/s]"
      ]
     },
     "metadata": {},
     "output_type": "display_data"
    },
    {
     "name": "stdout",
     "output_type": "stream",
     "text": [
      "{'factors': 200, 'regularization': 0.5, 'iterations': 13, 'weight': 'BM25', 'map@k': 0.26086316821971495}\n"
     ]
    },
    {
     "data": {
      "application/vnd.jupyter.widget-view+json": {
       "model_id": "9372f99028564bcba2e7e1c8e7563ce5",
       "version_major": 2,
       "version_minor": 0
      },
      "text/plain": [
       "  0%|          | 0/13 [00:00<?, ?it/s]"
      ]
     },
     "metadata": {},
     "output_type": "display_data"
    },
    {
     "name": "stdout",
     "output_type": "stream",
     "text": [
      "{'factors': 200, 'regularization': 0.5, 'iterations': 13, 'weight': 'TFIDF', 'map@k': 0.26115743011280007}\n"
     ]
    },
    {
     "data": {
      "application/vnd.jupyter.widget-view+json": {
       "model_id": "6e2bd6478d044431905d69b60f124766",
       "version_major": 2,
       "version_minor": 0
      },
      "text/plain": [
       "  0%|          | 0/15 [00:00<?, ?it/s]"
      ]
     },
     "metadata": {},
     "output_type": "display_data"
    },
    {
     "name": "stdout",
     "output_type": "stream",
     "text": [
      "{'factors': 200, 'regularization': 0.5, 'iterations': 15, 'weight': 'BM25', 'map@k': 0.25782246199117187}\n"
     ]
    },
    {
     "data": {
      "application/vnd.jupyter.widget-view+json": {
       "model_id": "b40a737852cc49f0bca530d1fddc57f9",
       "version_major": 2,
       "version_minor": 0
      },
      "text/plain": [
       "  0%|          | 0/15 [00:00<?, ?it/s]"
      ]
     },
     "metadata": {},
     "output_type": "display_data"
    },
    {
     "name": "stdout",
     "output_type": "stream",
     "text": [
      "{'factors': 200, 'regularization': 0.5, 'iterations': 15, 'weight': 'TFIDF', 'map@k': 0.2608141245708678}\n"
     ]
    },
    {
     "data": {
      "application/vnd.jupyter.widget-view+json": {
       "model_id": "79cb7af167a94b4586b7e68801764449",
       "version_major": 2,
       "version_minor": 0
      },
      "text/plain": [
       "  0%|          | 0/1 [00:00<?, ?it/s]"
      ]
     },
     "metadata": {},
     "output_type": "display_data"
    },
    {
     "name": "stdout",
     "output_type": "stream",
     "text": [
      "{'factors': 350, 'regularization': 0.05, 'iterations': 1, 'weight': 'BM25', 'map@k': 0.32422756253065177}\n"
     ]
    },
    {
     "data": {
      "application/vnd.jupyter.widget-view+json": {
       "model_id": "56c3e433bad14136b809815a84bb33be",
       "version_major": 2,
       "version_minor": 0
      },
      "text/plain": [
       "  0%|          | 0/1 [00:00<?, ?it/s]"
      ]
     },
     "metadata": {},
     "output_type": "display_data"
    },
    {
     "name": "stdout",
     "output_type": "stream",
     "text": [
      "{'factors': 350, 'regularization': 0.05, 'iterations': 1, 'weight': 'TFIDF', 'map@k': 0.3150564001961744}\n"
     ]
    },
    {
     "data": {
      "application/vnd.jupyter.widget-view+json": {
       "model_id": "c00638c6364f43d88da2f548ca58ae04",
       "version_major": 2,
       "version_minor": 0
      },
      "text/plain": [
       "  0%|          | 0/5 [00:00<?, ?it/s]"
      ]
     },
     "metadata": {},
     "output_type": "display_data"
    },
    {
     "name": "stdout",
     "output_type": "stream",
     "text": [
      "{'factors': 350, 'regularization': 0.05, 'iterations': 5, 'weight': 'BM25', 'map@k': 0.24678764100049033}\n"
     ]
    },
    {
     "data": {
      "application/vnd.jupyter.widget-view+json": {
       "model_id": "9260ca50d55d48c598bc042f2b20be53",
       "version_major": 2,
       "version_minor": 0
      },
      "text/plain": [
       "  0%|          | 0/5 [00:00<?, ?it/s]"
      ]
     },
     "metadata": {},
     "output_type": "display_data"
    },
    {
     "name": "stdout",
     "output_type": "stream",
     "text": [
      "{'factors': 350, 'regularization': 0.05, 'iterations': 5, 'weight': 'TFIDF', 'map@k': 0.2589504659146636}\n"
     ]
    },
    {
     "data": {
      "application/vnd.jupyter.widget-view+json": {
       "model_id": "84d784f7bc0c42faa6cde30fac7d97ed",
       "version_major": 2,
       "version_minor": 0
      },
      "text/plain": [
       "  0%|          | 0/13 [00:00<?, ?it/s]"
      ]
     },
     "metadata": {},
     "output_type": "display_data"
    },
    {
     "name": "stdout",
     "output_type": "stream",
     "text": [
      "{'factors': 350, 'regularization': 0.05, 'iterations': 13, 'weight': 'BM25', 'map@k': 0.22525747915644923}\n"
     ]
    },
    {
     "data": {
      "application/vnd.jupyter.widget-view+json": {
       "model_id": "c60020fc695b4c2d97e5ac0d56bd101d",
       "version_major": 2,
       "version_minor": 0
      },
      "text/plain": [
       "  0%|          | 0/13 [00:00<?, ?it/s]"
      ]
     },
     "metadata": {},
     "output_type": "display_data"
    },
    {
     "name": "stdout",
     "output_type": "stream",
     "text": [
      "{'factors': 350, 'regularization': 0.05, 'iterations': 13, 'weight': 'TFIDF', 'map@k': 0.2406571848945561}\n"
     ]
    },
    {
     "data": {
      "application/vnd.jupyter.widget-view+json": {
       "model_id": "856a2699ccb144eab80d1e5b05bb80fd",
       "version_major": 2,
       "version_minor": 0
      },
      "text/plain": [
       "  0%|          | 0/15 [00:00<?, ?it/s]"
      ]
     },
     "metadata": {},
     "output_type": "display_data"
    },
    {
     "name": "stdout",
     "output_type": "stream",
     "text": [
      "{'factors': 350, 'regularization': 0.05, 'iterations': 15, 'weight': 'BM25', 'map@k': 0.22358999509563499}\n"
     ]
    },
    {
     "data": {
      "application/vnd.jupyter.widget-view+json": {
       "model_id": "646b7ef76ba240f8b4df5add24f0ef6c",
       "version_major": 2,
       "version_minor": 0
      },
      "text/plain": [
       "  0%|          | 0/15 [00:00<?, ?it/s]"
      ]
     },
     "metadata": {},
     "output_type": "display_data"
    },
    {
     "name": "stdout",
     "output_type": "stream",
     "text": [
      "{'factors': 350, 'regularization': 0.05, 'iterations': 15, 'weight': 'TFIDF', 'map@k': 0.2376164786660124}\n"
     ]
    },
    {
     "data": {
      "application/vnd.jupyter.widget-view+json": {
       "model_id": "57548f316ff04d919081c90ed778dcf7",
       "version_major": 2,
       "version_minor": 0
      },
      "text/plain": [
       "  0%|          | 0/1 [00:00<?, ?it/s]"
      ]
     },
     "metadata": {},
     "output_type": "display_data"
    },
    {
     "name": "stdout",
     "output_type": "stream",
     "text": [
      "{'factors': 350, 'regularization': 0.1, 'iterations': 1, 'weight': 'BM25', 'map@k': 0.3281020107896021}\n"
     ]
    },
    {
     "data": {
      "application/vnd.jupyter.widget-view+json": {
       "model_id": "b406e7b4fec149399e798d65a9eb563b",
       "version_major": 2,
       "version_minor": 0
      },
      "text/plain": [
       "  0%|          | 0/1 [00:00<?, ?it/s]"
      ]
     },
     "metadata": {},
     "output_type": "display_data"
    },
    {
     "name": "stdout",
     "output_type": "stream",
     "text": [
      "{'factors': 350, 'regularization': 0.1, 'iterations': 1, 'weight': 'TFIDF', 'map@k': 0.3163315350662085}\n"
     ]
    },
    {
     "data": {
      "application/vnd.jupyter.widget-view+json": {
       "model_id": "2ea9f873e06c4e549a484cf23f65d831",
       "version_major": 2,
       "version_minor": 0
      },
      "text/plain": [
       "  0%|          | 0/5 [00:00<?, ?it/s]"
      ]
     },
     "metadata": {},
     "output_type": "display_data"
    },
    {
     "name": "stdout",
     "output_type": "stream",
     "text": [
      "{'factors': 350, 'regularization': 0.1, 'iterations': 5, 'weight': 'BM25', 'map@k': 0.2458067680235408}\n"
     ]
    },
    {
     "data": {
      "application/vnd.jupyter.widget-view+json": {
       "model_id": "0e198422708d4eef9aa5655754cbed5d",
       "version_major": 2,
       "version_minor": 0
      },
      "text/plain": [
       "  0%|          | 0/5 [00:00<?, ?it/s]"
      ]
     },
     "metadata": {},
     "output_type": "display_data"
    },
    {
     "name": "stdout",
     "output_type": "stream",
     "text": [
      "{'factors': 350, 'regularization': 0.1, 'iterations': 5, 'weight': 'TFIDF', 'map@k': 0.2610102991662576}\n"
     ]
    },
    {
     "data": {
      "application/vnd.jupyter.widget-view+json": {
       "model_id": "9f51cbe6ff384ae197f6508ec4a52f51",
       "version_major": 2,
       "version_minor": 0
      },
      "text/plain": [
       "  0%|          | 0/13 [00:00<?, ?it/s]"
      ]
     },
     "metadata": {},
     "output_type": "display_data"
    },
    {
     "name": "stdout",
     "output_type": "stream",
     "text": [
      "{'factors': 350, 'regularization': 0.1, 'iterations': 13, 'weight': 'BM25', 'map@k': 0.2238352133398724}\n"
     ]
    },
    {
     "data": {
      "application/vnd.jupyter.widget-view+json": {
       "model_id": "ffe52c2d82594015925a89f4e7e0c5e8",
       "version_major": 2,
       "version_minor": 0
      },
      "text/plain": [
       "  0%|          | 0/13 [00:00<?, ?it/s]"
      ]
     },
     "metadata": {},
     "output_type": "display_data"
    },
    {
     "name": "stdout",
     "output_type": "stream",
     "text": [
      "{'factors': 350, 'regularization': 0.1, 'iterations': 13, 'weight': 'TFIDF', 'map@k': 0.2439431093673365}\n"
     ]
    },
    {
     "data": {
      "application/vnd.jupyter.widget-view+json": {
       "model_id": "5fe61dd446144d918bf386b1051d312b",
       "version_major": 2,
       "version_minor": 0
      },
      "text/plain": [
       "  0%|          | 0/15 [00:00<?, ?it/s]"
      ]
     },
     "metadata": {},
     "output_type": "display_data"
    },
    {
     "name": "stdout",
     "output_type": "stream",
     "text": [
      "{'factors': 350, 'regularization': 0.1, 'iterations': 15, 'weight': 'BM25', 'map@k': 0.22241294752329566}\n"
     ]
    },
    {
     "data": {
      "application/vnd.jupyter.widget-view+json": {
       "model_id": "1d09f532c62a4945ada403216726e3b5",
       "version_major": 2,
       "version_minor": 0
      },
      "text/plain": [
       "  0%|          | 0/15 [00:00<?, ?it/s]"
      ]
     },
     "metadata": {},
     "output_type": "display_data"
    },
    {
     "name": "stdout",
     "output_type": "stream",
     "text": [
      "{'factors': 350, 'regularization': 0.1, 'iterations': 15, 'weight': 'TFIDF', 'map@k': 0.2414909269249629}\n"
     ]
    },
    {
     "data": {
      "application/vnd.jupyter.widget-view+json": {
       "model_id": "48c43cac2f2841769efe12d2f0a7499f",
       "version_major": 2,
       "version_minor": 0
      },
      "text/plain": [
       "  0%|          | 0/1 [00:00<?, ?it/s]"
      ]
     },
     "metadata": {},
     "output_type": "display_data"
    },
    {
     "name": "stdout",
     "output_type": "stream",
     "text": [
      "{'factors': 350, 'regularization': 0.5, 'iterations': 1, 'weight': 'BM25', 'map@k': 0.32574791564492334}\n"
     ]
    },
    {
     "data": {
      "application/vnd.jupyter.widget-view+json": {
       "model_id": "289ad4953f234d4484d71c940cd445f7",
       "version_major": 2,
       "version_minor": 0
      },
      "text/plain": [
       "  0%|          | 0/1 [00:00<?, ?it/s]"
      ]
     },
     "metadata": {},
     "output_type": "display_data"
    },
    {
     "name": "stdout",
     "output_type": "stream",
     "text": [
      "{'factors': 350, 'regularization': 0.5, 'iterations': 1, 'weight': 'TFIDF', 'map@k': 0.3156449239823436}\n"
     ]
    },
    {
     "data": {
      "application/vnd.jupyter.widget-view+json": {
       "model_id": "b35c0a68362948f593ee16091c4a7799",
       "version_major": 2,
       "version_minor": 0
      },
      "text/plain": [
       "  0%|          | 0/5 [00:00<?, ?it/s]"
      ]
     },
     "metadata": {},
     "output_type": "display_data"
    },
    {
     "name": "stdout",
     "output_type": "stream",
     "text": [
      "{'factors': 350, 'regularization': 0.5, 'iterations': 5, 'weight': 'BM25', 'map@k': 0.23972535556645386}\n"
     ]
    },
    {
     "data": {
      "application/vnd.jupyter.widget-view+json": {
       "model_id": "7026eaa103c7491d8bedf4ea71934ccc",
       "version_major": 2,
       "version_minor": 0
      },
      "text/plain": [
       "  0%|          | 0/5 [00:00<?, ?it/s]"
      ]
     },
     "metadata": {},
     "output_type": "display_data"
    },
    {
     "name": "stdout",
     "output_type": "stream",
     "text": [
      "{'factors': 350, 'regularization': 0.5, 'iterations': 5, 'weight': 'TFIDF', 'map@k': 0.2543894065718486}\n"
     ]
    },
    {
     "data": {
      "application/vnd.jupyter.widget-view+json": {
       "model_id": "953bf403e15f4454abfe89b45d0b04ea",
       "version_major": 2,
       "version_minor": 0
      },
      "text/plain": [
       "  0%|          | 0/13 [00:00<?, ?it/s]"
      ]
     },
     "metadata": {},
     "output_type": "display_data"
    },
    {
     "name": "stdout",
     "output_type": "stream",
     "text": [
      "{'factors': 350, 'regularization': 0.5, 'iterations': 13, 'weight': 'BM25', 'map@k': 0.23217263364394294}\n"
     ]
    },
    {
     "data": {
      "application/vnd.jupyter.widget-view+json": {
       "model_id": "3db6d9c7083941088b961293a62dede5",
       "version_major": 2,
       "version_minor": 0
      },
      "text/plain": [
       "  0%|          | 0/13 [00:00<?, ?it/s]"
      ]
     },
     "metadata": {},
     "output_type": "display_data"
    },
    {
     "name": "stdout",
     "output_type": "stream",
     "text": [
      "{'factors': 350, 'regularization': 0.5, 'iterations': 13, 'weight': 'TFIDF', 'map@k': 0.23310446297204476}\n"
     ]
    },
    {
     "data": {
      "application/vnd.jupyter.widget-view+json": {
       "model_id": "fbc43e555ebe48638e0f7af1a6cfd788",
       "version_major": 2,
       "version_minor": 0
      },
      "text/plain": [
       "  0%|          | 0/15 [00:00<?, ?it/s]"
      ]
     },
     "metadata": {},
     "output_type": "display_data"
    },
    {
     "name": "stdout",
     "output_type": "stream",
     "text": [
      "{'factors': 350, 'regularization': 0.5, 'iterations': 15, 'weight': 'BM25', 'map@k': 0.2290338401177045}\n"
     ]
    },
    {
     "data": {
      "application/vnd.jupyter.widget-view+json": {
       "model_id": "c783dd629005432e97dfe20fc88e92e4",
       "version_major": 2,
       "version_minor": 0
      },
      "text/plain": [
       "  0%|          | 0/15 [00:00<?, ?it/s]"
      ]
     },
     "metadata": {},
     "output_type": "display_data"
    },
    {
     "name": "stdout",
     "output_type": "stream",
     "text": [
      "{'factors': 350, 'regularization': 0.5, 'iterations': 15, 'weight': 'TFIDF', 'map@k': 0.23246689553702746}\n",
      "CPU times: total: 1h 8min 17s\n",
      "Wall time: 11min 6s\n"
     ]
    }
   ],
   "source": [
    "%%time\n",
    "\n",
    "parameters = {'factors':       [10, 50, 100, 150, 200, 350],\n",
    "              'regularization':[0.05, 0.1, 0.5],\n",
    "              'iterations':    [1, 5, 13, 15],\n",
    "              'weight':        ['BM25', 'TFIDF']}\n",
    "\n",
    "scores = grid_search(parameters, N=5)"
   ]
  },
  {
   "cell_type": "code",
   "execution_count": 26,
   "id": "4e1c0a88",
   "metadata": {},
   "outputs": [
    {
     "data": {
      "text/html": [
       "<div>\n",
       "<style scoped>\n",
       "    .dataframe tbody tr th:only-of-type {\n",
       "        vertical-align: middle;\n",
       "    }\n",
       "\n",
       "    .dataframe tbody tr th {\n",
       "        vertical-align: top;\n",
       "    }\n",
       "\n",
       "    .dataframe thead th {\n",
       "        text-align: right;\n",
       "    }\n",
       "</style>\n",
       "<table border=\"1\" class=\"dataframe\">\n",
       "  <thead>\n",
       "    <tr style=\"text-align: right;\">\n",
       "      <th></th>\n",
       "      <th>factors</th>\n",
       "      <th>regularization</th>\n",
       "      <th>iterations</th>\n",
       "      <th>weight</th>\n",
       "      <th>map@k</th>\n",
       "    </tr>\n",
       "  </thead>\n",
       "  <tbody>\n",
       "    <tr>\n",
       "      <th>112</th>\n",
       "      <td>200</td>\n",
       "      <td>0.50</td>\n",
       "      <td>1</td>\n",
       "      <td>BM25</td>\n",
       "      <td>0.330799</td>\n",
       "    </tr>\n",
       "    <tr>\n",
       "      <th>88</th>\n",
       "      <td>150</td>\n",
       "      <td>0.50</td>\n",
       "      <td>1</td>\n",
       "      <td>BM25</td>\n",
       "      <td>0.328151</td>\n",
       "    </tr>\n",
       "    <tr>\n",
       "      <th>128</th>\n",
       "      <td>350</td>\n",
       "      <td>0.10</td>\n",
       "      <td>1</td>\n",
       "      <td>BM25</td>\n",
       "      <td>0.328102</td>\n",
       "    </tr>\n",
       "    <tr>\n",
       "      <th>96</th>\n",
       "      <td>200</td>\n",
       "      <td>0.05</td>\n",
       "      <td>1</td>\n",
       "      <td>BM25</td>\n",
       "      <td>0.327906</td>\n",
       "    </tr>\n",
       "    <tr>\n",
       "      <th>89</th>\n",
       "      <td>150</td>\n",
       "      <td>0.50</td>\n",
       "      <td>1</td>\n",
       "      <td>TFIDF</td>\n",
       "      <td>0.326680</td>\n",
       "    </tr>\n",
       "    <tr>\n",
       "      <th>...</th>\n",
       "      <td>...</td>\n",
       "      <td>...</td>\n",
       "      <td>...</td>\n",
       "      <td>...</td>\n",
       "      <td>...</td>\n",
       "    </tr>\n",
       "    <tr>\n",
       "      <th>7</th>\n",
       "      <td>10</td>\n",
       "      <td>0.05</td>\n",
       "      <td>15</td>\n",
       "      <td>TFIDF</td>\n",
       "      <td>0.162678</td>\n",
       "    </tr>\n",
       "    <tr>\n",
       "      <th>23</th>\n",
       "      <td>10</td>\n",
       "      <td>0.50</td>\n",
       "      <td>15</td>\n",
       "      <td>TFIDF</td>\n",
       "      <td>0.162678</td>\n",
       "    </tr>\n",
       "    <tr>\n",
       "      <th>15</th>\n",
       "      <td>10</td>\n",
       "      <td>0.10</td>\n",
       "      <td>15</td>\n",
       "      <td>TFIDF</td>\n",
       "      <td>0.162482</td>\n",
       "    </tr>\n",
       "    <tr>\n",
       "      <th>21</th>\n",
       "      <td>10</td>\n",
       "      <td>0.50</td>\n",
       "      <td>13</td>\n",
       "      <td>TFIDF</td>\n",
       "      <td>0.162138</td>\n",
       "    </tr>\n",
       "    <tr>\n",
       "      <th>13</th>\n",
       "      <td>10</td>\n",
       "      <td>0.10</td>\n",
       "      <td>13</td>\n",
       "      <td>TFIDF</td>\n",
       "      <td>0.161501</td>\n",
       "    </tr>\n",
       "  </tbody>\n",
       "</table>\n",
       "<p>144 rows × 5 columns</p>\n",
       "</div>"
      ],
      "text/plain": [
       "     factors  regularization  iterations weight     map@k\n",
       "112      200            0.50           1   BM25  0.330799\n",
       "88       150            0.50           1   BM25  0.328151\n",
       "128      350            0.10           1   BM25  0.328102\n",
       "96       200            0.05           1   BM25  0.327906\n",
       "89       150            0.50           1  TFIDF  0.326680\n",
       "..       ...             ...         ...    ...       ...\n",
       "7         10            0.05          15  TFIDF  0.162678\n",
       "23        10            0.50          15  TFIDF  0.162678\n",
       "15        10            0.10          15  TFIDF  0.162482\n",
       "21        10            0.50          13  TFIDF  0.162138\n",
       "13        10            0.10          13  TFIDF  0.161501\n",
       "\n",
       "[144 rows x 5 columns]"
      ]
     },
     "execution_count": 26,
     "metadata": {},
     "output_type": "execute_result"
    }
   ],
   "source": [
    "best_params(scores, True)"
   ]
  },
  {
   "cell_type": "code",
   "execution_count": 27,
   "id": "fa5cf60e",
   "metadata": {},
   "outputs": [],
   "source": [
    "best_score = best_params(scores)\n",
    "best_score.to_csv('best_score.csv')"
   ]
  },
  {
   "cell_type": "code",
   "execution_count": 28,
   "id": "dcf33819",
   "metadata": {},
   "outputs": [
    {
     "data": {
      "text/plain": [
       "<bound method DataFrame.to_dict of    Unnamed: 0  factors  regularization  iterations weight     map@k\n",
       "0         112      200             0.5           1   BM25  0.330799>"
      ]
     },
     "execution_count": 28,
     "metadata": {},
     "output_type": "execute_result"
    }
   ],
   "source": [
    "best_score = pd.read_csv('best_score.csv')\n",
    "best_score.to_dict"
   ]
  },
  {
   "cell_type": "code",
   "execution_count": 29,
   "id": "7c170b1f",
   "metadata": {},
   "outputs": [],
   "source": [
    "data_test = data_test[data_test['user_id'].isin(data_train['user_id']) != False]\n",
    "data_test = data_test[data_test['item_id'].isin(data_train['item_id'].unique())]"
   ]
  },
  {
   "cell_type": "code",
   "execution_count": 30,
   "id": "0f05e5df",
   "metadata": {},
   "outputs": [
    {
     "data": {
      "text/html": [
       "<div>\n",
       "<style scoped>\n",
       "    .dataframe tbody tr th:only-of-type {\n",
       "        vertical-align: middle;\n",
       "    }\n",
       "\n",
       "    .dataframe tbody tr th {\n",
       "        vertical-align: top;\n",
       "    }\n",
       "\n",
       "    .dataframe thead th {\n",
       "        text-align: right;\n",
       "    }\n",
       "</style>\n",
       "<table border=\"1\" class=\"dataframe\">\n",
       "  <thead>\n",
       "    <tr style=\"text-align: right;\">\n",
       "      <th></th>\n",
       "      <th>user_id</th>\n",
       "      <th>actual</th>\n",
       "    </tr>\n",
       "  </thead>\n",
       "  <tbody>\n",
       "    <tr>\n",
       "      <th>0</th>\n",
       "      <td>1</td>\n",
       "      <td>[883616, 940947, 959219, 965766, 976335, 97970...</td>\n",
       "    </tr>\n",
       "    <tr>\n",
       "      <th>1</th>\n",
       "      <td>2</td>\n",
       "      <td>[820291, 826835, 866211, 885023, 899624, 94094...</td>\n",
       "    </tr>\n",
       "  </tbody>\n",
       "</table>\n",
       "</div>"
      ],
      "text/plain": [
       "   user_id                                             actual\n",
       "0        1  [883616, 940947, 959219, 965766, 976335, 97970...\n",
       "1        2  [820291, 826835, 866211, 885023, 899624, 94094..."
      ]
     },
     "execution_count": 30,
     "metadata": {},
     "output_type": "execute_result"
    }
   ],
   "source": [
    "result = data_test.groupby('user_id')['item_id'].unique().reset_index()\n",
    "result.columns=['user_id', 'actual']\n",
    "result.head(2)"
   ]
  },
  {
   "cell_type": "markdown",
   "id": "285a8fd6",
   "metadata": {},
   "source": [
    "### Мodel training on hyperparameters selected using grid search"
   ]
  },
  {
   "cell_type": "code",
   "execution_count": 31,
   "id": "89dcf63f",
   "metadata": {},
   "outputs": [
    {
     "data": {
      "application/vnd.jupyter.widget-view+json": {
       "model_id": "9f36b882f44342fc8171a06b444269fb",
       "version_major": 2,
       "version_minor": 0
      },
      "text/plain": [
       "  0%|          | 0/1 [00:00<?, ?it/s]"
      ]
     },
     "metadata": {},
     "output_type": "display_data"
    },
    {
     "name": "stdout",
     "output_type": "stream",
     "text": [
      "CPU times: total: 969 ms\n",
      "Wall time: 217 ms\n"
     ]
    }
   ],
   "source": [
    "%%time\n",
    "recommender.model = AlternatingLeastSquares(factors=list(best_score['factors'])[0], \n",
    "                                regularization=list(best_score['regularization'])[0],\n",
    "                                iterations=list(best_score['iterations'])[0],\n",
    "                                calculate_training_loss=True, \n",
    "                                num_threads=4,\n",
    "                                random_state=42)\n",
    "if list(best_score['weight'])[0] == 'BM25':\n",
    "    recommender.model.fit(csr_matrix(bm25_user_item_matrix).tocsr(), show_progress=True)\n",
    "else:\n",
    "    recommender.model.fit(csr_matrix(tfidf_user_item_matrix).tocsr(), show_progress=True) "
   ]
  },
  {
   "cell_type": "markdown",
   "id": "c492ab29",
   "metadata": {},
   "source": [
    "### Getting recommendations using a trained model"
   ]
  },
  {
   "cell_type": "code",
   "execution_count": 32,
   "id": "f1ca7e68",
   "metadata": {},
   "outputs": [
    {
     "name": "stdout",
     "output_type": "stream",
     "text": [
      "CPU times: total: 19.7 s\n",
      "Wall time: 2.99 s\n"
     ]
    }
   ],
   "source": [
    "%%time\n",
    "result['recommendations'] = result['user_id'].map(lambda x: recommender.get_als_recommendations(x, N=5))"
   ]
  },
  {
   "cell_type": "markdown",
   "id": "d7d5e40b",
   "metadata": {},
   "source": [
    "### Getting the metric value for recommendations on a test dataset"
   ]
  },
  {
   "cell_type": "code",
   "execution_count": 33,
   "id": "905d075c",
   "metadata": {},
   "outputs": [
    {
     "name": "stdout",
     "output_type": "stream",
     "text": [
      "CPU times: total: 312 ms\n",
      "Wall time: 298 ms\n"
     ]
    },
    {
     "data": {
      "text/plain": [
       "0.25650452488687775"
      ]
     },
     "execution_count": 33,
     "metadata": {},
     "output_type": "execute_result"
    }
   ],
   "source": [
    "%%time\n",
    "result.apply(lambda row: ap_k(row[\"recommendations\"], row[\"actual\"], k=5), axis=1).mean()"
   ]
  },
  {
   "cell_type": "markdown",
   "id": "ff5fd20e",
   "metadata": {},
   "source": [
    "### Saving received recommendations for a test dataset"
   ]
  },
  {
   "cell_type": "code",
   "execution_count": 34,
   "id": "90bf1f10",
   "metadata": {},
   "outputs": [],
   "source": [
    "result.to_csv('recommendations.csv', sep=',', encoding='utf-8', header='true')"
   ]
  },
  {
   "cell_type": "code",
   "execution_count": 35,
   "id": "db542a36",
   "metadata": {},
   "outputs": [
    {
     "data": {
      "text/html": [
       "<div>\n",
       "<style scoped>\n",
       "    .dataframe tbody tr th:only-of-type {\n",
       "        vertical-align: middle;\n",
       "    }\n",
       "\n",
       "    .dataframe tbody tr th {\n",
       "        vertical-align: top;\n",
       "    }\n",
       "\n",
       "    .dataframe thead th {\n",
       "        text-align: right;\n",
       "    }\n",
       "</style>\n",
       "<table border=\"1\" class=\"dataframe\">\n",
       "  <thead>\n",
       "    <tr style=\"text-align: right;\">\n",
       "      <th></th>\n",
       "      <th>user_id</th>\n",
       "      <th>actual</th>\n",
       "      <th>recommendations</th>\n",
       "    </tr>\n",
       "  </thead>\n",
       "  <tbody>\n",
       "    <tr>\n",
       "      <th>0</th>\n",
       "      <td>1</td>\n",
       "      <td>[883616, 940947, 959219, 965766, 976335, 97970...</td>\n",
       "      <td>[865456, 5577022, 856942, 940947, 5582712]</td>\n",
       "    </tr>\n",
       "    <tr>\n",
       "      <th>1</th>\n",
       "      <td>2</td>\n",
       "      <td>[820291, 826835, 866211, 885023, 899624, 94094...</td>\n",
       "      <td>[5569230, 1106523, 8090521, 916122, 1075368]</td>\n",
       "    </tr>\n",
       "    <tr>\n",
       "      <th>2</th>\n",
       "      <td>3</td>\n",
       "      <td>[989069, 1130858]</td>\n",
       "      <td>[1106523, 854405, 910032, 5569230, 998206]</td>\n",
       "    </tr>\n",
       "    <tr>\n",
       "      <th>3</th>\n",
       "      <td>6</td>\n",
       "      <td>[956902, 960791, 1037863, 1137688, 847738, 948...</td>\n",
       "      <td>[965267, 878996, 866211, 863447, 871611]</td>\n",
       "    </tr>\n",
       "    <tr>\n",
       "      <th>4</th>\n",
       "      <td>7</td>\n",
       "      <td>[859987, 930918, 954673, 957013, 993838, 99854...</td>\n",
       "      <td>[1122358, 1106523, 893018, 1029743, 1126899]</td>\n",
       "    </tr>\n",
       "    <tr>\n",
       "      <th>...</th>\n",
       "      <td>...</td>\n",
       "      <td>...</td>\n",
       "      <td>...</td>\n",
       "    </tr>\n",
       "    <tr>\n",
       "      <th>1763</th>\n",
       "      <td>2494</td>\n",
       "      <td>[880427, 894360, 1043301, 1135006, 1135476, 82...</td>\n",
       "      <td>[878996, 1029743, 5569471, 1127831, 6548453]</td>\n",
       "    </tr>\n",
       "    <tr>\n",
       "      <th>1764</th>\n",
       "      <td>2496</td>\n",
       "      <td>[829291, 912704, 933067, 933835, 979707, 99293...</td>\n",
       "      <td>[1070702, 12810393, 899624, 916122, 844179]</td>\n",
       "    </tr>\n",
       "    <tr>\n",
       "      <th>1765</th>\n",
       "      <td>2498</td>\n",
       "      <td>[920109, 1004945]</td>\n",
       "      <td>[1070820, 1106523, 835098, 1126899, 5569230]</td>\n",
       "    </tr>\n",
       "    <tr>\n",
       "      <th>1766</th>\n",
       "      <td>2499</td>\n",
       "      <td>[820321, 829291, 864857, 878996, 880150, 88230...</td>\n",
       "      <td>[5568378, 1070820, 1106523, 844179, 866211]</td>\n",
       "    </tr>\n",
       "    <tr>\n",
       "      <th>1767</th>\n",
       "      <td>2500</td>\n",
       "      <td>[859809, 938622, 1082185, 5995228, 9297155, 10...</td>\n",
       "      <td>[1065538, 6534030, 839419, 1063739, 10204556]</td>\n",
       "    </tr>\n",
       "  </tbody>\n",
       "</table>\n",
       "<p>1768 rows × 3 columns</p>\n",
       "</div>"
      ],
      "text/plain": [
       "      user_id                                             actual  \\\n",
       "0           1  [883616, 940947, 959219, 965766, 976335, 97970...   \n",
       "1           2  [820291, 826835, 866211, 885023, 899624, 94094...   \n",
       "2           3                                  [989069, 1130858]   \n",
       "3           6  [956902, 960791, 1037863, 1137688, 847738, 948...   \n",
       "4           7  [859987, 930918, 954673, 957013, 993838, 99854...   \n",
       "...       ...                                                ...   \n",
       "1763     2494  [880427, 894360, 1043301, 1135006, 1135476, 82...   \n",
       "1764     2496  [829291, 912704, 933067, 933835, 979707, 99293...   \n",
       "1765     2498                                  [920109, 1004945]   \n",
       "1766     2499  [820321, 829291, 864857, 878996, 880150, 88230...   \n",
       "1767     2500  [859809, 938622, 1082185, 5995228, 9297155, 10...   \n",
       "\n",
       "                                    recommendations  \n",
       "0        [865456, 5577022, 856942, 940947, 5582712]  \n",
       "1      [5569230, 1106523, 8090521, 916122, 1075368]  \n",
       "2        [1106523, 854405, 910032, 5569230, 998206]  \n",
       "3          [965267, 878996, 866211, 863447, 871611]  \n",
       "4      [1122358, 1106523, 893018, 1029743, 1126899]  \n",
       "...                                             ...  \n",
       "1763   [878996, 1029743, 5569471, 1127831, 6548453]  \n",
       "1764    [1070702, 12810393, 899624, 916122, 844179]  \n",
       "1765   [1070820, 1106523, 835098, 1126899, 5569230]  \n",
       "1766    [5568378, 1070820, 1106523, 844179, 866211]  \n",
       "1767  [1065538, 6534030, 839419, 1063739, 10204556]  \n",
       "\n",
       "[1768 rows x 3 columns]"
      ]
     },
     "execution_count": 35,
     "metadata": {},
     "output_type": "execute_result"
    }
   ],
   "source": [
    "result"
   ]
  },
  {
   "cell_type": "markdown",
   "id": "bf3bcd73",
   "metadata": {},
   "source": [
    "# $$map@k = 0.2565$$"
   ]
  }
 ],
 "metadata": {
  "kernelspec": {
   "display_name": "Python 3 (ipykernel)",
   "language": "python",
   "name": "python3"
  },
  "language_info": {
   "codemirror_mode": {
    "name": "ipython",
    "version": 3
   },
   "file_extension": ".py",
   "mimetype": "text/x-python",
   "name": "python",
   "nbconvert_exporter": "python",
   "pygments_lexer": "ipython3",
   "version": "3.9.12"
  }
 },
 "nbformat": 4,
 "nbformat_minor": 5
}
