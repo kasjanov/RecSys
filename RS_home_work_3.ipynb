{
 "cells": [
  {
   "cell_type": "code",
   "execution_count": 1,
   "id": "f6bce8f9-bab9-4d25-9624-71399af2761a",
   "metadata": {},
   "outputs": [],
   "source": [
    "import pandas as pd\n",
    "import numpy as np\n",
    "import matplotlib.pyplot as plt\n",
    "import os\n",
    "%matplotlib inline\n",
    "\n",
    "# Для работы с матрицами\n",
    "from scipy.sparse import csr_matrix\n",
    "\n",
    "# Матричная факторизация\n",
    "from implicit.als import AlternatingLeastSquares\n",
    "from implicit.nearest_neighbours import bm25_weight, tfidf_weight\n",
    "\n",
    "os.environ['MKL_NUM_THREADS'] = '4'"
   ]
  },
  {
   "cell_type": "code",
   "execution_count": 2,
   "id": "da70fe06-16ab-4da8-82ec-d29c111bbb56",
   "metadata": {},
   "outputs": [
    {
     "data": {
      "text/html": [
       "<div>\n",
       "<style scoped>\n",
       "    .dataframe tbody tr th:only-of-type {\n",
       "        vertical-align: middle;\n",
       "    }\n",
       "\n",
       "    .dataframe tbody tr th {\n",
       "        vertical-align: top;\n",
       "    }\n",
       "\n",
       "    .dataframe thead th {\n",
       "        text-align: right;\n",
       "    }\n",
       "</style>\n",
       "<table border=\"1\" class=\"dataframe\">\n",
       "  <thead>\n",
       "    <tr style=\"text-align: right;\">\n",
       "      <th></th>\n",
       "      <th>user_id</th>\n",
       "      <th>basket_id</th>\n",
       "      <th>day</th>\n",
       "      <th>item_id</th>\n",
       "      <th>quantity</th>\n",
       "      <th>sales_value</th>\n",
       "      <th>store_id</th>\n",
       "      <th>retail_disc</th>\n",
       "      <th>trans_time</th>\n",
       "      <th>week_no</th>\n",
       "      <th>coupon_disc</th>\n",
       "      <th>coupon_match_disc</th>\n",
       "    </tr>\n",
       "  </thead>\n",
       "  <tbody>\n",
       "    <tr>\n",
       "      <th>0</th>\n",
       "      <td>2375</td>\n",
       "      <td>26984851472</td>\n",
       "      <td>1</td>\n",
       "      <td>1004906</td>\n",
       "      <td>1</td>\n",
       "      <td>1.39</td>\n",
       "      <td>364</td>\n",
       "      <td>-0.6</td>\n",
       "      <td>1631</td>\n",
       "      <td>1</td>\n",
       "      <td>0.0</td>\n",
       "      <td>0.0</td>\n",
       "    </tr>\n",
       "    <tr>\n",
       "      <th>1</th>\n",
       "      <td>2375</td>\n",
       "      <td>26984851472</td>\n",
       "      <td>1</td>\n",
       "      <td>1033142</td>\n",
       "      <td>1</td>\n",
       "      <td>0.82</td>\n",
       "      <td>364</td>\n",
       "      <td>0.0</td>\n",
       "      <td>1631</td>\n",
       "      <td>1</td>\n",
       "      <td>0.0</td>\n",
       "      <td>0.0</td>\n",
       "    </tr>\n",
       "  </tbody>\n",
       "</table>\n",
       "</div>"
      ],
      "text/plain": [
       "   user_id    basket_id  day  item_id  quantity  sales_value  store_id  \\\n",
       "0     2375  26984851472    1  1004906         1         1.39       364   \n",
       "1     2375  26984851472    1  1033142         1         0.82       364   \n",
       "\n",
       "   retail_disc  trans_time  week_no  coupon_disc  coupon_match_disc  \n",
       "0         -0.6        1631        1          0.0                0.0  \n",
       "1          0.0        1631        1          0.0                0.0  "
      ]
     },
     "execution_count": 2,
     "metadata": {},
     "output_type": "execute_result"
    }
   ],
   "source": [
    "data = pd.read_csv('../Lesson_2/retail_train.csv')\n",
    "data.head(2)"
   ]
  },
  {
   "cell_type": "code",
   "execution_count": 3,
   "id": "c22e92cd-4c99-45c5-88bb-71e923c6dd4d",
   "metadata": {},
   "outputs": [],
   "source": [
    "test_size_weeks = 3\n",
    "\n",
    "data_train = data[data['week_no'] < data['week_no'].max() - test_size_weeks]\n",
    "data_test = data[data['week_no'] >= data['week_no'].max() - test_size_weeks]"
   ]
  },
  {
   "cell_type": "code",
   "execution_count": 4,
   "id": "db1952b2-a9cc-4fcb-9cc8-05cff38176fd",
   "metadata": {},
   "outputs": [
    {
     "data": {
      "text/html": [
       "<div>\n",
       "<style scoped>\n",
       "    .dataframe tbody tr th:only-of-type {\n",
       "        vertical-align: middle;\n",
       "    }\n",
       "\n",
       "    .dataframe tbody tr th {\n",
       "        vertical-align: top;\n",
       "    }\n",
       "\n",
       "    .dataframe thead th {\n",
       "        text-align: right;\n",
       "    }\n",
       "</style>\n",
       "<table border=\"1\" class=\"dataframe\">\n",
       "  <thead>\n",
       "    <tr style=\"text-align: right;\">\n",
       "      <th></th>\n",
       "      <th>user_id</th>\n",
       "      <th>actual</th>\n",
       "    </tr>\n",
       "  </thead>\n",
       "  <tbody>\n",
       "    <tr>\n",
       "      <th>0</th>\n",
       "      <td>1</td>\n",
       "      <td>[821867, 834484, 856942, 865456, 889248, 90795...</td>\n",
       "    </tr>\n",
       "    <tr>\n",
       "      <th>1</th>\n",
       "      <td>3</td>\n",
       "      <td>[835476, 851057, 872021, 878302, 879948, 90963...</td>\n",
       "    </tr>\n",
       "  </tbody>\n",
       "</table>\n",
       "</div>"
      ],
      "text/plain": [
       "   user_id                                             actual\n",
       "0        1  [821867, 834484, 856942, 865456, 889248, 90795...\n",
       "1        3  [835476, 851057, 872021, 878302, 879948, 90963..."
      ]
     },
     "execution_count": 4,
     "metadata": {},
     "output_type": "execute_result"
    }
   ],
   "source": [
    "result = data_test.groupby('user_id')['item_id'].unique().reset_index()\n",
    "result.columns=['user_id', 'actual']\n",
    "result.head(2)"
   ]
  },
  {
   "cell_type": "markdown",
   "id": "6bb5734e-65a0-4d5a-a50b-5543b83a408d",
   "metadata": {},
   "source": [
    "### Задание 1. Подбор оптимальных гиперпараметров для ALS\n",
    "\n",
    "- Попробуйте улучшить базовый вариант ALS, изменяя следующие параметры\n",
    "  - regularization, iterations\n",
    "  - factors\n",
    "  - Вес (TF_IDF, BM25  взвешивание)\n",
    "  \n",
    "- Посчитайте метрики (Precision@5, MAP@5) для разных наборов гиперпараметров и выберете лучший набор"
   ]
  },
  {
   "cell_type": "code",
   "execution_count": 5,
   "id": "56de121c-dc25-465b-bc0c-65cc69570b66",
   "metadata": {},
   "outputs": [],
   "source": [
    "popularity = data_train.groupby('item_id')['quantity'].sum().reset_index()\n",
    "popularity.rename(columns={'quantity': 'n_sold'}, inplace=True)\n",
    "\n",
    "top_5000 = popularity.sort_values('n_sold', ascending=False).head(5000).item_id.tolist()"
   ]
  },
  {
   "cell_type": "code",
   "execution_count": 6,
   "id": "abf89a46-5e35-49a3-8cae-d6cbe65f181c",
   "metadata": {},
   "outputs": [
    {
     "data": {
      "text/html": [
       "<div>\n",
       "<style scoped>\n",
       "    .dataframe tbody tr th:only-of-type {\n",
       "        vertical-align: middle;\n",
       "    }\n",
       "\n",
       "    .dataframe tbody tr th {\n",
       "        vertical-align: top;\n",
       "    }\n",
       "\n",
       "    .dataframe thead th {\n",
       "        text-align: right;\n",
       "    }\n",
       "</style>\n",
       "<table border=\"1\" class=\"dataframe\">\n",
       "  <thead>\n",
       "    <tr style=\"text-align: right;\">\n",
       "      <th>item_id</th>\n",
       "      <th>202291</th>\n",
       "      <th>397896</th>\n",
       "      <th>420647</th>\n",
       "      <th>480014</th>\n",
       "      <th>545926</th>\n",
       "      <th>707683</th>\n",
       "      <th>731106</th>\n",
       "      <th>818980</th>\n",
       "      <th>819063</th>\n",
       "      <th>819227</th>\n",
       "      <th>...</th>\n",
       "      <th>15778533</th>\n",
       "      <th>15831255</th>\n",
       "      <th>15926712</th>\n",
       "      <th>15926775</th>\n",
       "      <th>15926844</th>\n",
       "      <th>15926886</th>\n",
       "      <th>15927403</th>\n",
       "      <th>15927661</th>\n",
       "      <th>15927850</th>\n",
       "      <th>16809471</th>\n",
       "    </tr>\n",
       "    <tr>\n",
       "      <th>user_id</th>\n",
       "      <th></th>\n",
       "      <th></th>\n",
       "      <th></th>\n",
       "      <th></th>\n",
       "      <th></th>\n",
       "      <th></th>\n",
       "      <th></th>\n",
       "      <th></th>\n",
       "      <th></th>\n",
       "      <th></th>\n",
       "      <th></th>\n",
       "      <th></th>\n",
       "      <th></th>\n",
       "      <th></th>\n",
       "      <th></th>\n",
       "      <th></th>\n",
       "      <th></th>\n",
       "      <th></th>\n",
       "      <th></th>\n",
       "      <th></th>\n",
       "      <th></th>\n",
       "    </tr>\n",
       "  </thead>\n",
       "  <tbody>\n",
       "    <tr>\n",
       "      <th>1</th>\n",
       "      <td>0.0</td>\n",
       "      <td>0.0</td>\n",
       "      <td>0.0</td>\n",
       "      <td>0.0</td>\n",
       "      <td>0.0</td>\n",
       "      <td>0.0</td>\n",
       "      <td>0.0</td>\n",
       "      <td>0.0</td>\n",
       "      <td>0.0</td>\n",
       "      <td>0.0</td>\n",
       "      <td>...</td>\n",
       "      <td>0.0</td>\n",
       "      <td>0.0</td>\n",
       "      <td>0.0</td>\n",
       "      <td>0.0</td>\n",
       "      <td>1.0</td>\n",
       "      <td>0.0</td>\n",
       "      <td>0.0</td>\n",
       "      <td>0.0</td>\n",
       "      <td>0.0</td>\n",
       "      <td>0.0</td>\n",
       "    </tr>\n",
       "    <tr>\n",
       "      <th>2</th>\n",
       "      <td>0.0</td>\n",
       "      <td>0.0</td>\n",
       "      <td>0.0</td>\n",
       "      <td>0.0</td>\n",
       "      <td>0.0</td>\n",
       "      <td>0.0</td>\n",
       "      <td>0.0</td>\n",
       "      <td>0.0</td>\n",
       "      <td>0.0</td>\n",
       "      <td>0.0</td>\n",
       "      <td>...</td>\n",
       "      <td>0.0</td>\n",
       "      <td>0.0</td>\n",
       "      <td>0.0</td>\n",
       "      <td>0.0</td>\n",
       "      <td>0.0</td>\n",
       "      <td>0.0</td>\n",
       "      <td>0.0</td>\n",
       "      <td>0.0</td>\n",
       "      <td>0.0</td>\n",
       "      <td>0.0</td>\n",
       "    </tr>\n",
       "    <tr>\n",
       "      <th>3</th>\n",
       "      <td>0.0</td>\n",
       "      <td>0.0</td>\n",
       "      <td>0.0</td>\n",
       "      <td>0.0</td>\n",
       "      <td>0.0</td>\n",
       "      <td>0.0</td>\n",
       "      <td>0.0</td>\n",
       "      <td>0.0</td>\n",
       "      <td>0.0</td>\n",
       "      <td>0.0</td>\n",
       "      <td>...</td>\n",
       "      <td>0.0</td>\n",
       "      <td>0.0</td>\n",
       "      <td>0.0</td>\n",
       "      <td>0.0</td>\n",
       "      <td>0.0</td>\n",
       "      <td>0.0</td>\n",
       "      <td>0.0</td>\n",
       "      <td>0.0</td>\n",
       "      <td>0.0</td>\n",
       "      <td>0.0</td>\n",
       "    </tr>\n",
       "  </tbody>\n",
       "</table>\n",
       "<p>3 rows × 5001 columns</p>\n",
       "</div>"
      ],
      "text/plain": [
       "item_id  202291    397896    420647    480014    545926    707683    731106    \\\n",
       "user_id                                                                         \n",
       "1             0.0       0.0       0.0       0.0       0.0       0.0       0.0   \n",
       "2             0.0       0.0       0.0       0.0       0.0       0.0       0.0   \n",
       "3             0.0       0.0       0.0       0.0       0.0       0.0       0.0   \n",
       "\n",
       "item_id  818980    819063    819227    ...  15778533  15831255  15926712  \\\n",
       "user_id                                ...                                 \n",
       "1             0.0       0.0       0.0  ...       0.0       0.0       0.0   \n",
       "2             0.0       0.0       0.0  ...       0.0       0.0       0.0   \n",
       "3             0.0       0.0       0.0  ...       0.0       0.0       0.0   \n",
       "\n",
       "item_id  15926775  15926844  15926886  15927403  15927661  15927850  16809471  \n",
       "user_id                                                                        \n",
       "1             0.0       1.0       0.0       0.0       0.0       0.0       0.0  \n",
       "2             0.0       0.0       0.0       0.0       0.0       0.0       0.0  \n",
       "3             0.0       0.0       0.0       0.0       0.0       0.0       0.0  \n",
       "\n",
       "[3 rows x 5001 columns]"
      ]
     },
     "execution_count": 6,
     "metadata": {},
     "output_type": "execute_result"
    }
   ],
   "source": [
    "# Заведем фиктивный item_id (если юзер покупал товары не из топ-5000, то он \"купил\" такой товар)\n",
    "data_train.loc[~data_train['item_id'].isin(top_5000), 'item_id'] = 999999\n",
    "\n",
    "user_item_matrix = pd.pivot_table(data_train, \n",
    "                                  index='user_id', columns='item_id', \n",
    "                                  values='quantity', # Можно пробовать другие варианты\n",
    "                                  aggfunc='count', \n",
    "                                  fill_value=0\n",
    "                                 )\n",
    "\n",
    "user_item_matrix = user_item_matrix.astype(float) # необходимый тип матрицы для implicit\n",
    "\n",
    "# переведем в формат saprse matrix\n",
    "sparse_user_item = csr_matrix(user_item_matrix).tocsr()\n",
    "\n",
    "user_item_matrix.head(3)"
   ]
  },
  {
   "cell_type": "code",
   "execution_count": 7,
   "id": "b7282acb",
   "metadata": {},
   "outputs": [],
   "source": [
    "userids = user_item_matrix.index.values\n",
    "itemids = user_item_matrix.columns.values\n",
    "\n",
    "matrix_userids = np.arange(len(userids))\n",
    "matrix_itemids = np.arange(len(itemids))\n",
    "\n",
    "id_to_itemid = dict(zip(matrix_itemids, itemids))\n",
    "id_to_userid = dict(zip(matrix_userids, userids))\n",
    "\n",
    "itemid_to_id = dict(zip(itemids, matrix_itemids))\n",
    "userid_to_id = dict(zip(userids, matrix_userids))"
   ]
  },
  {
   "cell_type": "code",
   "execution_count": 8,
   "id": "27a17fce",
   "metadata": {},
   "outputs": [],
   "source": [
    "def get_recommendations(user, model, sparse_user_item, N=5):\n",
    "    res = [id_to_itemid[rec] for rec in \n",
    "                    model.recommend(userid=userid_to_id[user], \n",
    "                                    user_items=sparse_user_item[userid_to_id[user]],   # на вход user-item matrix\n",
    "                                    N=N, \n",
    "                                    filter_already_liked_items=False, \n",
    "                                    filter_items=[itemid_to_id[999999]], \n",
    "                                    recalculate_user=True)[0]]\n",
    "    return res"
   ]
  },
  {
   "cell_type": "code",
   "execution_count": 9,
   "id": "324a2d33",
   "metadata": {},
   "outputs": [],
   "source": [
    "def precision_at_k(recommended_list, bought_list, k=5):\n",
    "    \n",
    "    bought_list = np.array(bought_list)\n",
    "    recommended_list = np.array(recommended_list)\n",
    "    \n",
    "    bought_list = bought_list  # Тут нет [:k] !!\n",
    "    recommended_list = recommended_list[:k]\n",
    "    \n",
    "    flags = np.isin(recommended_list, bought_list)\n",
    "    \n",
    "    precision = flags.sum() / len(recommended_list)\n",
    "    \n",
    "    \n",
    "    return precision"
   ]
  },
  {
   "cell_type": "code",
   "execution_count": 10,
   "id": "204ccf01",
   "metadata": {},
   "outputs": [],
   "source": [
    "def ap_k(recommended_list, bought_list, k=5):\n",
    "    \n",
    "    bought_list = np.array(bought_list)\n",
    "    recommended_list = np.array(recommended_list)\n",
    "    \n",
    "    flags = np.isin(recommended_list, bought_list)\n",
    "    \n",
    "    if sum(flags) == 0:\n",
    "        return 0\n",
    "    \n",
    "    sum_ = 0\n",
    "    for i in range(0, k):\n",
    "        \n",
    "        if flags[i] == True:\n",
    "            p_k = precision_at_k(recommended_list, bought_list, k=i)\n",
    "            sum_ += p_k\n",
    "            \n",
    "    result = sum_ / sum(flags)\n",
    "    \n",
    "    return result"
   ]
  },
  {
   "cell_type": "code",
   "execution_count": 11,
   "id": "2f754a4b",
   "metadata": {},
   "outputs": [
    {
     "name": "stderr",
     "output_type": "stream",
     "text": [
      "C:\\Users\\xiaomi\\AppData\\Roaming\\Python\\Python39\\site-packages\\implicit\\utils.py:33: UserWarning: Intel MKL BLAS detected. Its highly recommend to set the environment variable 'export MKL_NUM_THREADS=1' to disable its internal multithreading\n",
      "  warnings.warn(\n"
     ]
    },
    {
     "data": {
      "application/vnd.jupyter.widget-view+json": {
       "model_id": "7ed129bf4b5f4dd591ba66f79fca2540",
       "version_major": 2,
       "version_minor": 0
      },
      "text/plain": [
       "  0%|          | 0/15 [00:00<?, ?it/s]"
      ]
     },
     "metadata": {},
     "output_type": "display_data"
    },
    {
     "data": {
      "application/vnd.jupyter.widget-view+json": {
       "model_id": "11357e11e67240818e8a7f1d1dc76a45",
       "version_major": 2,
       "version_minor": 0
      },
      "text/plain": [
       "  0%|          | 0/15 [00:00<?, ?it/s]"
      ]
     },
     "metadata": {},
     "output_type": "display_data"
    },
    {
     "data": {
      "application/vnd.jupyter.widget-view+json": {
       "model_id": "f71d86839dea425abe27eb2ad95fef31",
       "version_major": 2,
       "version_minor": 0
      },
      "text/plain": [
       "  0%|          | 0/15 [00:00<?, ?it/s]"
      ]
     },
     "metadata": {},
     "output_type": "display_data"
    },
    {
     "data": {
      "application/vnd.jupyter.widget-view+json": {
       "model_id": "0695c94769cd43aab735dd497e24cace",
       "version_major": 2,
       "version_minor": 0
      },
      "text/plain": [
       "  0%|          | 0/15 [00:00<?, ?it/s]"
      ]
     },
     "metadata": {},
     "output_type": "display_data"
    },
    {
     "data": {
      "application/vnd.jupyter.widget-view+json": {
       "model_id": "3397aac3bdc448b9b1d0ea2230aaad1f",
       "version_major": 2,
       "version_minor": 0
      },
      "text/plain": [
       "  0%|          | 0/15 [00:00<?, ?it/s]"
      ]
     },
     "metadata": {},
     "output_type": "display_data"
    },
    {
     "name": "stdout",
     "output_type": "stream",
     "text": [
      "CPU times: total: 1min 19s\n",
      "Wall time: 12.6 s\n"
     ]
    }
   ],
   "source": [
    "%%time\n",
    "\n",
    "model_01 = AlternatingLeastSquares(factors=100, \n",
    "                                regularization=0.001,\n",
    "                                iterations=15, \n",
    "                                calculate_training_loss=True, \n",
    "                                num_threads=4,random_state=42)\n",
    "\n",
    "model_01.fit(sparse_user_item,  # На вход item-user matrix\n",
    "          show_progress=True)\n",
    "\n",
    "model_02 = AlternatingLeastSquares(factors=100, \n",
    "                                regularization=0.005,\n",
    "                                iterations=15, \n",
    "                                calculate_training_loss=True, \n",
    "                                num_threads=4,random_state=42)\n",
    "\n",
    "model_02.fit(sparse_user_item,  # На вход item-user matrix\n",
    "          show_progress=True)\n",
    "\n",
    "model_03 = AlternatingLeastSquares(factors=100, \n",
    "                                regularization=0.01,\n",
    "                                iterations=15, \n",
    "                                calculate_training_loss=True, \n",
    "                                num_threads=4,random_state=42)\n",
    "\n",
    "model_03.fit(sparse_user_item,  # На вход item-user matrix\n",
    "          show_progress=True)\n",
    "\n",
    "model_04 = AlternatingLeastSquares(factors=100, \n",
    "                                regularization=0.05,\n",
    "                                iterations=15, \n",
    "                                calculate_training_loss=True, \n",
    "                                num_threads=4,random_state=42)\n",
    "\n",
    "model_04.fit(sparse_user_item,  # На вход item-user matrix\n",
    "          show_progress=True)\n",
    "\n",
    "model_05 = AlternatingLeastSquares(factors=100, \n",
    "                                regularization=0.1,\n",
    "                                iterations=15, \n",
    "                                calculate_training_loss=True, \n",
    "                                num_threads=4,random_state=42)\n",
    "\n",
    "model_05.fit(sparse_user_item,  # На вход item-user matrix\n",
    "          show_progress=True)"
   ]
  },
  {
   "cell_type": "code",
   "execution_count": 12,
   "id": "60321c06",
   "metadata": {},
   "outputs": [],
   "source": [
    "rec_als_reg = {}"
   ]
  },
  {
   "cell_type": "code",
   "execution_count": 13,
   "id": "447c2e39",
   "metadata": {},
   "outputs": [
    {
     "name": "stdout",
     "output_type": "stream",
     "text": [
      "CPU times: total: 1min 38s\n",
      "Wall time: 15.3 s\n"
     ]
    }
   ],
   "source": [
    "%%time\n",
    "    \n",
    "result['als'] = result['user_id'].map(lambda x: get_recommendations(x, model_01, sparse_user_item, N=5))\n",
    "rec_als_reg[model_01.regularization] = result.apply(lambda row: precision_at_k(row['als'], row['actual']), \n",
    "                                                    axis=1).mean()\n",
    "result['als'] = result['user_id'].map(lambda x: get_recommendations(x, model_02, sparse_user_item, N=5))\n",
    "rec_als_reg[model_02.regularization] = result.apply(lambda row: precision_at_k(row['als'], row['actual']), \n",
    "                                                    axis=1).mean()\n",
    "result['als'] = result['user_id'].map(lambda x: get_recommendations(x, model_03, sparse_user_item, N=5))\n",
    "rec_als_reg[model_03.regularization] = result.apply(lambda row: precision_at_k(row['als'], row['actual']), \n",
    "                                                    axis=1).mean()\n",
    "result['als'] = result['user_id'].map(lambda x: get_recommendations(x, model_04, sparse_user_item, N=5))\n",
    "rec_als_reg[model_04.regularization] = result.apply(lambda row: precision_at_k(row['als'], row['actual']), \n",
    "                                                    axis=1).mean()\n",
    "result['als'] = result['user_id'].map(lambda x: get_recommendations(x, model_05, sparse_user_item, N=5))\n",
    "rec_als_reg[model_05.regularization] = result.apply(lambda row: precision_at_k(row['als'], row['actual']), \n",
    "                                                    axis=1).mean()"
   ]
  },
  {
   "cell_type": "code",
   "execution_count": 14,
   "id": "3a430d07",
   "metadata": {},
   "outputs": [
    {
     "data": {
      "image/png": "[encoded data removed]",
      "text/plain": [
       "<Figure size 1080x720 with 1 Axes>"
      ]
     },
     "metadata": {
      "needs_background": "light"
     },
     "output_type": "display_data"
    }
   ],
   "source": [
    "fig, ax = plt.subplots()\n",
    "\n",
    "ax.plot(*zip(*rec_als_reg.items()),'g')\n",
    "ax.plot(*zip(*rec_als_reg.items()),'ro')\n",
    "\n",
    "ax.grid()\n",
    "ax.set_title('Regularization score')\n",
    "fig.set_figheight(10)\n",
    "fig.set_figwidth(15)"
   ]
  },
  {
   "cell_type": "code",
   "execution_count": 15,
   "id": "5d7ca3b6",
   "metadata": {},
   "outputs": [
    {
     "name": "stdout",
     "output_type": "stream",
     "text": [
      "The best score is 0.1868 Regularization = 0.05\n"
     ]
    }
   ],
   "source": [
    "print(f'The best score is {max(rec_als_reg.values()):.4f} Regularization = {max(rec_als_reg, key=rec_als_reg.get)}')"
   ]
  },
  {
   "cell_type": "code",
   "execution_count": 16,
   "id": "03f78062",
   "metadata": {},
   "outputs": [
    {
     "data": {
      "text/plain": [
       "{0.001: 0.18041136141037958,\n",
       " 0.005: 0.1812928501469123,\n",
       " 0.01: 0.18315377081292597,\n",
       " 0.05: 0.18677766895200518,\n",
       " 0.1: 0.18599412340842053}"
      ]
     },
     "execution_count": 16,
     "metadata": {},
     "output_type": "execute_result"
    }
   ],
   "source": [
    "rec_als_reg"
   ]
  },
  {
   "cell_type": "code",
   "execution_count": 17,
   "id": "c8d25516",
   "metadata": {},
   "outputs": [
    {
     "data": {
      "application/vnd.jupyter.widget-view+json": {
       "model_id": "da3188610f7848a5afcec4146f6f4847",
       "version_major": 2,
       "version_minor": 0
      },
      "text/plain": [
       "  0%|          | 0/1 [00:00<?, ?it/s]"
      ]
     },
     "metadata": {},
     "output_type": "display_data"
    },
    {
     "data": {
      "application/vnd.jupyter.widget-view+json": {
       "model_id": "eafe6b67c980472ead472f4612efdbee",
       "version_major": 2,
       "version_minor": 0
      },
      "text/plain": [
       "  0%|          | 0/2 [00:00<?, ?it/s]"
      ]
     },
     "metadata": {},
     "output_type": "display_data"
    },
    {
     "data": {
      "application/vnd.jupyter.widget-view+json": {
       "model_id": "dede06d07c49451d9ac225d4c195c0ab",
       "version_major": 2,
       "version_minor": 0
      },
      "text/plain": [
       "  0%|          | 0/3 [00:00<?, ?it/s]"
      ]
     },
     "metadata": {},
     "output_type": "display_data"
    },
    {
     "data": {
      "application/vnd.jupyter.widget-view+json": {
       "model_id": "ab23078a387b4d66a52b510c09733d9b",
       "version_major": 2,
       "version_minor": 0
      },
      "text/plain": [
       "  0%|          | 0/4 [00:00<?, ?it/s]"
      ]
     },
     "metadata": {},
     "output_type": "display_data"
    },
    {
     "data": {
      "application/vnd.jupyter.widget-view+json": {
       "model_id": "5e6d36be5e5145a6adb0467dda94290c",
       "version_major": 2,
       "version_minor": 0
      },
      "text/plain": [
       "  0%|          | 0/5 [00:00<?, ?it/s]"
      ]
     },
     "metadata": {},
     "output_type": "display_data"
    },
    {
     "data": {
      "application/vnd.jupyter.widget-view+json": {
       "model_id": "00acb107278a411e8c5cb96dff764fae",
       "version_major": 2,
       "version_minor": 0
      },
      "text/plain": [
       "  0%|          | 0/15 [00:00<?, ?it/s]"
      ]
     },
     "metadata": {},
     "output_type": "display_data"
    },
    {
     "data": {
      "application/vnd.jupyter.widget-view+json": {
       "model_id": "9f98872067014d51a2c968129949c02b",
       "version_major": 2,
       "version_minor": 0
      },
      "text/plain": [
       "  0%|          | 0/30 [00:00<?, ?it/s]"
      ]
     },
     "metadata": {},
     "output_type": "display_data"
    },
    {
     "data": {
      "application/vnd.jupyter.widget-view+json": {
       "model_id": "c9b0ee88a9a54a67829cd1a4ac6a93a9",
       "version_major": 2,
       "version_minor": 0
      },
      "text/plain": [
       "  0%|          | 0/60 [00:00<?, ?it/s]"
      ]
     },
     "metadata": {},
     "output_type": "display_data"
    },
    {
     "data": {
      "application/vnd.jupyter.widget-view+json": {
       "model_id": "5f966a8bef4244d08a58d68dd3e324ae",
       "version_major": 2,
       "version_minor": 0
      },
      "text/plain": [
       "  0%|          | 0/100 [00:00<?, ?it/s]"
      ]
     },
     "metadata": {},
     "output_type": "display_data"
    },
    {
     "data": {
      "application/vnd.jupyter.widget-view+json": {
       "model_id": "9f33da0f07ce4d58bedc3892324d618e",
       "version_major": 2,
       "version_minor": 0
      },
      "text/plain": [
       "  0%|          | 0/200 [00:00<?, ?it/s]"
      ]
     },
     "metadata": {},
     "output_type": "display_data"
    },
    {
     "name": "stdout",
     "output_type": "stream",
     "text": [
      "CPU times: total: 7min 39s\n",
      "Wall time: 1min 8s\n"
     ]
    }
   ],
   "source": [
    "%%time\n",
    "\n",
    "model_01 = AlternatingLeastSquares(factors=100, \n",
    "                                regularization=0.05,\n",
    "                                iterations=1, \n",
    "                                calculate_training_loss=True, \n",
    "                                num_threads=4,random_state=42)\n",
    "\n",
    "model_01.fit(sparse_user_item,  # На вход item-user matrix\n",
    "          show_progress=True)\n",
    "\n",
    "model_02 = AlternatingLeastSquares(factors=100, \n",
    "                                regularization=0.05,\n",
    "                                iterations=2, \n",
    "                                calculate_training_loss=True, \n",
    "                                num_threads=4,random_state=42)\n",
    "\n",
    "model_02.fit(sparse_user_item,  # На вход item-user matrix\n",
    "          show_progress=True)\n",
    "\n",
    "model_03 = AlternatingLeastSquares(factors=100, \n",
    "                                regularization=0.05,\n",
    "                                iterations=3, \n",
    "                                calculate_training_loss=True, \n",
    "                                num_threads=4,random_state=42)\n",
    "\n",
    "model_03.fit(sparse_user_item,  # На вход item-user matrix\n",
    "          show_progress=True)\n",
    "\n",
    "model_04 = AlternatingLeastSquares(factors=100, \n",
    "                                regularization=0.05,\n",
    "                                iterations=4, \n",
    "                                calculate_training_loss=True, \n",
    "                                num_threads=4,random_state=42)\n",
    "\n",
    "model_04.fit(sparse_user_item,  # На вход item-user matrix\n",
    "          show_progress=True)\n",
    "\n",
    "model_05 = AlternatingLeastSquares(factors=100, \n",
    "                                regularization=0.05,\n",
    "                                iterations=5, \n",
    "                                calculate_training_loss=True, \n",
    "                                num_threads=4,random_state=42)\n",
    "\n",
    "model_05.fit(sparse_user_item,  # На вход item-user matrix\n",
    "          show_progress=True)\n",
    "\n",
    "model_06 = AlternatingLeastSquares(factors=100, \n",
    "                                regularization=0.05,\n",
    "                                iterations=15, \n",
    "                                calculate_training_loss=True, \n",
    "                                num_threads=4,random_state=42)\n",
    "\n",
    "model_06.fit(sparse_user_item,  # На вход item-user matrix\n",
    "          show_progress=True)\n",
    "\n",
    "model_07 = AlternatingLeastSquares(factors=100, \n",
    "                                regularization=0.05,\n",
    "                                iterations=30, \n",
    "                                calculate_training_loss=True, \n",
    "                                num_threads=4,random_state=42)\n",
    "\n",
    "model_07.fit(sparse_user_item,  # На вход item-user matrix\n",
    "          show_progress=True)\n",
    "\n",
    "model_08 = AlternatingLeastSquares(factors=100, \n",
    "                                regularization=0.05,\n",
    "                                iterations=60, \n",
    "                                calculate_training_loss=True, \n",
    "                                num_threads=4,random_state=42)\n",
    "\n",
    "model_08.fit(sparse_user_item,  # На вход item-user matrix\n",
    "          show_progress=True)\n",
    "\n",
    "model_09 = AlternatingLeastSquares(factors=100, \n",
    "                                regularization=0.05,\n",
    "                                iterations=100, \n",
    "                                calculate_training_loss=True, \n",
    "                                num_threads=4,random_state=42)\n",
    "\n",
    "model_09.fit(sparse_user_item,  # На вход item-user matrix\n",
    "          show_progress=True)\n",
    "\n",
    "model_10 = AlternatingLeastSquares(factors=100, \n",
    "                                regularization=0.05,\n",
    "                                iterations=200, \n",
    "                                calculate_training_loss=True, \n",
    "                                num_threads=4,random_state=42)\n",
    "\n",
    "model_10.fit(sparse_user_item,  # На вход item-user matrix\n",
    "          show_progress=True)"
   ]
  },
  {
   "cell_type": "code",
   "execution_count": 18,
   "id": "814ba90d",
   "metadata": {},
   "outputs": [],
   "source": [
    "rec_als_iter = {}"
   ]
  },
  {
   "cell_type": "code",
   "execution_count": 19,
   "id": "2a5d591a",
   "metadata": {},
   "outputs": [
    {
     "name": "stdout",
     "output_type": "stream",
     "text": [
      "CPU times: total: 3min 10s\n",
      "Wall time: 29.5 s\n"
     ]
    }
   ],
   "source": [
    "%%time\n",
    "    \n",
    "result['als'] = result['user_id'].map(lambda x: get_recommendations(x, model_01, sparse_user_item, N=5))\n",
    "rec_als_iter[model_01.iterations] = result.apply(lambda row: precision_at_k(row['als'], row['actual']), \n",
    "                                                    axis=1).mean()\n",
    "result['als'] = result['user_id'].map(lambda x: get_recommendations(x, model_02, sparse_user_item, N=5))\n",
    "rec_als_iter[model_02.iterations] = result.apply(lambda row: precision_at_k(row['als'], row['actual']), \n",
    "                                                    axis=1).mean()\n",
    "result['als'] = result['user_id'].map(lambda x: get_recommendations(x, model_03, sparse_user_item, N=5))\n",
    "rec_als_iter[model_03.iterations] = result.apply(lambda row: precision_at_k(row['als'], row['actual']), \n",
    "                                                    axis=1).mean()\n",
    "result['als'] = result['user_id'].map(lambda x: get_recommendations(x, model_04, sparse_user_item, N=5))\n",
    "rec_als_iter[model_04.iterations] = result.apply(lambda row: precision_at_k(row['als'], row['actual']), \n",
    "                                                    axis=1).mean()\n",
    "result['als'] = result['user_id'].map(lambda x: get_recommendations(x, model_05, sparse_user_item, N=5))\n",
    "rec_als_iter[model_05.iterations] = result.apply(lambda row: precision_at_k(row['als'], row['actual']), \n",
    "                                                    axis=1).mean()\n",
    "result['als'] = result['user_id'].map(lambda x: get_recommendations(x, model_06, sparse_user_item, N=5))\n",
    "rec_als_iter[model_06.iterations] = result.apply(lambda row: precision_at_k(row['als'], row['actual']), \n",
    "                                                    axis=1).mean()\n",
    "result['als'] = result['user_id'].map(lambda x: get_recommendations(x, model_07, sparse_user_item, N=5))\n",
    "rec_als_iter[model_07.iterations] = result.apply(lambda row: precision_at_k(row['als'], row['actual']), \n",
    "                                                    axis=1).mean()\n",
    "result['als'] = result['user_id'].map(lambda x: get_recommendations(x, model_08, sparse_user_item, N=5))\n",
    "rec_als_iter[model_08.iterations] = result.apply(lambda row: precision_at_k(row['als'], row['actual']), \n",
    "                                                    axis=1).mean()\n",
    "result['als'] = result['user_id'].map(lambda x: get_recommendations(x, model_09, sparse_user_item, N=5))\n",
    "rec_als_iter[model_09.iterations] = result.apply(lambda row: precision_at_k(row['als'], row['actual']), \n",
    "                                                    axis=1).mean()\n",
    "result['als'] = result['user_id'].map(lambda x: get_recommendations(x, model_10, sparse_user_item, N=5))\n",
    "rec_als_iter[model_10.iterations] = result.apply(lambda row: precision_at_k(row['als'], row['actual']), \n",
    "                                                    axis=1).mean()"
   ]
  },
  {
   "cell_type": "code",
   "execution_count": 20,
   "id": "54e0493b",
   "metadata": {},
   "outputs": [
    {
     "data": {
      "image/png": "[encoded data removed]",
      "text/plain": [
       "<Figure size 1080x720 with 1 Axes>"
      ]
     },
     "metadata": {
      "needs_background": "light"
     },
     "output_type": "display_data"
    }
   ],
   "source": [
    "fig, ax = plt.subplots()\n",
    "\n",
    "ax.plot(*zip(*rec_als_iter.items()),'g')\n",
    "ax.plot(*zip(*rec_als_iter.items()),'ro')\n",
    "\n",
    "ax.grid()\n",
    "ax.set_title('Iteration score')\n",
    "fig.set_figheight(10)\n",
    "fig.set_figwidth(15)"
   ]
  },
  {
   "cell_type": "code",
   "execution_count": 21,
   "id": "49add8e5",
   "metadata": {},
   "outputs": [
    {
     "name": "stdout",
     "output_type": "stream",
     "text": [
      "The best score is 0.2361 Iteration = 1\n"
     ]
    }
   ],
   "source": [
    "print(f'The best score is {max(rec_als_iter.values()):.4f} Iteration = {max(rec_als_iter, key=rec_als_iter.get)}')"
   ]
  },
  {
   "cell_type": "code",
   "execution_count": 22,
   "id": "4ed472e9",
   "metadata": {},
   "outputs": [
    {
     "data": {
      "text/plain": [
       "{1: 0.23614103819784235,\n",
       " 2: 0.2278158667972549,\n",
       " 3: 0.21361410381978183,\n",
       " 4: 0.2023506366307517,\n",
       " 5: 0.197355533790399,\n",
       " 15: 0.18677766895200518,\n",
       " 30: 0.18285994123408156,\n",
       " 60: 0.182174338883445,\n",
       " 100: 0.18315377081292597,\n",
       " 200: 0.18207639569049697}"
      ]
     },
     "execution_count": 22,
     "metadata": {},
     "output_type": "execute_result"
    }
   ],
   "source": [
    "rec_als_iter"
   ]
  },
  {
   "cell_type": "code",
   "execution_count": 23,
   "id": "e930c791",
   "metadata": {},
   "outputs": [
    {
     "data": {
      "application/vnd.jupyter.widget-view+json": {
       "model_id": "b45906e170c4484eb9cb4f3ce2e4f2f4",
       "version_major": 2,
       "version_minor": 0
      },
      "text/plain": [
       "  0%|          | 0/15 [00:00<?, ?it/s]"
      ]
     },
     "metadata": {},
     "output_type": "display_data"
    },
    {
     "data": {
      "application/vnd.jupyter.widget-view+json": {
       "model_id": "f295b3364373470da329b98406380a2e",
       "version_major": 2,
       "version_minor": 0
      },
      "text/plain": [
       "  0%|          | 0/15 [00:00<?, ?it/s]"
      ]
     },
     "metadata": {},
     "output_type": "display_data"
    },
    {
     "data": {
      "application/vnd.jupyter.widget-view+json": {
       "model_id": "7ca4c7745eea4978823bc46287a746f7",
       "version_major": 2,
       "version_minor": 0
      },
      "text/plain": [
       "  0%|          | 0/15 [00:00<?, ?it/s]"
      ]
     },
     "metadata": {},
     "output_type": "display_data"
    },
    {
     "data": {
      "application/vnd.jupyter.widget-view+json": {
       "model_id": "554b520cbe7e4971a419cd8f7f0e3994",
       "version_major": 2,
       "version_minor": 0
      },
      "text/plain": [
       "  0%|          | 0/15 [00:00<?, ?it/s]"
      ]
     },
     "metadata": {},
     "output_type": "display_data"
    },
    {
     "data": {
      "application/vnd.jupyter.widget-view+json": {
       "model_id": "fdd28cc442b94d1d9227602b2a881bd4",
       "version_major": 2,
       "version_minor": 0
      },
      "text/plain": [
       "  0%|          | 0/15 [00:00<?, ?it/s]"
      ]
     },
     "metadata": {},
     "output_type": "display_data"
    },
    {
     "name": "stdout",
     "output_type": "stream",
     "text": [
      "CPU times: total: 1min 17s\n",
      "Wall time: 12.1 s\n"
     ]
    }
   ],
   "source": [
    "%%time\n",
    "\n",
    "model_01 = AlternatingLeastSquares(factors=10, \n",
    "                                regularization=0.05,\n",
    "                                iterations=15, \n",
    "                                calculate_training_loss=True, \n",
    "                                num_threads=4,random_state=42)\n",
    "\n",
    "model_01.fit(sparse_user_item,  # На вход item-user matrix\n",
    "          show_progress=True)\n",
    "model_02 = AlternatingLeastSquares(factors=25, \n",
    "                                regularization=0.05,\n",
    "                                iterations=15, \n",
    "                                calculate_training_loss=True, \n",
    "                                num_threads=4,random_state=42)\n",
    "\n",
    "model_02.fit(sparse_user_item,  # На вход item-user matrix\n",
    "          show_progress=True)\n",
    "model_03 = AlternatingLeastSquares(factors=50, \n",
    "                                regularization=0.05,\n",
    "                                iterations=15, \n",
    "                                calculate_training_loss=True, \n",
    "                                num_threads=4,random_state=42)\n",
    "\n",
    "model_03.fit(sparse_user_item,  # На вход item-user matrix\n",
    "          show_progress=True)\n",
    "model_04 = AlternatingLeastSquares(factors=100, \n",
    "                                regularization=0.05,\n",
    "                                iterations=15, \n",
    "                                calculate_training_loss=True, \n",
    "                                num_threads=4,random_state=42)\n",
    "\n",
    "model_04.fit(sparse_user_item,  # На вход item-user matrix\n",
    "          show_progress=True)\n",
    "model_05 = AlternatingLeastSquares(factors=200, \n",
    "                                regularization=0.05,\n",
    "                                iterations=15, \n",
    "                                calculate_training_loss=True, \n",
    "                                num_threads=4,random_state=42)\n",
    "\n",
    "model_05.fit(sparse_user_item,  # На вход item-user matrix\n",
    "          show_progress=True)"
   ]
  },
  {
   "cell_type": "code",
   "execution_count": 24,
   "id": "5e078384",
   "metadata": {},
   "outputs": [],
   "source": [
    "rec_als_factor_15 = {}"
   ]
  },
  {
   "cell_type": "code",
   "execution_count": 25,
   "id": "bb77fa28",
   "metadata": {},
   "outputs": [
    {
     "name": "stdout",
     "output_type": "stream",
     "text": [
      "CPU times: total: 1min 18s\n",
      "Wall time: 12 s\n"
     ]
    }
   ],
   "source": [
    "%%time\n",
    "    \n",
    "result['als'] = result['user_id'].map(lambda x: get_recommendations(x, model_01, sparse_user_item, N=5))\n",
    "rec_als_factor_15[model_01.factors] = result.apply(lambda row: precision_at_k(row['als'], row['actual']), \n",
    "                                                    axis=1).mean()\n",
    "result['als'] = result['user_id'].map(lambda x: get_recommendations(x, model_02, sparse_user_item, N=5))\n",
    "rec_als_factor_15[model_02.factors] = result.apply(lambda row: precision_at_k(row['als'], row['actual']), \n",
    "                                                    axis=1).mean()\n",
    "result['als'] = result['user_id'].map(lambda x: get_recommendations(x, model_03, sparse_user_item, N=5))\n",
    "rec_als_factor_15[model_03.factors] = result.apply(lambda row: precision_at_k(row['als'], row['actual']), \n",
    "                                                    axis=1).mean()\n",
    "result['als'] = result['user_id'].map(lambda x: get_recommendations(x, model_04, sparse_user_item, N=5))\n",
    "rec_als_factor_15[model_04.factors] = result.apply(lambda row: precision_at_k(row['als'], row['actual']), \n",
    "                                                    axis=1).mean()\n",
    "result['als'] = result['user_id'].map(lambda x: get_recommendations(x, model_05, sparse_user_item, N=5))\n",
    "rec_als_factor_15[model_05.factors] = result.apply(lambda row: precision_at_k(row['als'], row['actual']), \n",
    "                                                    axis=1).mean()"
   ]
  },
  {
   "cell_type": "code",
   "execution_count": 26,
   "id": "51046e78",
   "metadata": {},
   "outputs": [
    {
     "data": {
      "application/vnd.jupyter.widget-view+json": {
       "model_id": "6b02d5fb689049449388981bcd40bb39",
       "version_major": 2,
       "version_minor": 0
      },
      "text/plain": [
       "  0%|          | 0/1 [00:00<?, ?it/s]"
      ]
     },
     "metadata": {},
     "output_type": "display_data"
    },
    {
     "data": {
      "application/vnd.jupyter.widget-view+json": {
       "model_id": "0ddc372c519d4b6cb108f73587647289",
       "version_major": 2,
       "version_minor": 0
      },
      "text/plain": [
       "  0%|          | 0/1 [00:00<?, ?it/s]"
      ]
     },
     "metadata": {},
     "output_type": "display_data"
    },
    {
     "data": {
      "application/vnd.jupyter.widget-view+json": {
       "model_id": "ac26f644a3534d00b19c4edc6b99cdfc",
       "version_major": 2,
       "version_minor": 0
      },
      "text/plain": [
       "  0%|          | 0/1 [00:00<?, ?it/s]"
      ]
     },
     "metadata": {},
     "output_type": "display_data"
    },
    {
     "data": {
      "application/vnd.jupyter.widget-view+json": {
       "model_id": "476a74def5644c9e8a99b704951bbbb8",
       "version_major": 2,
       "version_minor": 0
      },
      "text/plain": [
       "  0%|          | 0/1 [00:00<?, ?it/s]"
      ]
     },
     "metadata": {},
     "output_type": "display_data"
    },
    {
     "data": {
      "application/vnd.jupyter.widget-view+json": {
       "model_id": "01263e6bff5d4db3b60cb13bb0afa354",
       "version_major": 2,
       "version_minor": 0
      },
      "text/plain": [
       "  0%|          | 0/1 [00:00<?, ?it/s]"
      ]
     },
     "metadata": {},
     "output_type": "display_data"
    },
    {
     "name": "stdout",
     "output_type": "stream",
     "text": [
      "CPU times: total: 6.2 s\n",
      "Wall time: 1.01 s\n"
     ]
    }
   ],
   "source": [
    "%%time\n",
    "\n",
    "model_01 = AlternatingLeastSquares(factors=10, \n",
    "                                regularization=0.05,\n",
    "                                iterations=1, \n",
    "                                calculate_training_loss=True, \n",
    "                                num_threads=4,random_state=42)\n",
    "\n",
    "model_01.fit(sparse_user_item,  # На вход item-user matrix\n",
    "          show_progress=True)\n",
    "model_02 = AlternatingLeastSquares(factors=25, \n",
    "                                regularization=0.05,\n",
    "                                iterations=1, \n",
    "                                calculate_training_loss=True, \n",
    "                                num_threads=4,random_state=42)\n",
    "\n",
    "model_02.fit(sparse_user_item,  # На вход item-user matrix\n",
    "          show_progress=True)\n",
    "model_03 = AlternatingLeastSquares(factors=50, \n",
    "                                regularization=0.05,\n",
    "                                iterations=1, \n",
    "                                calculate_training_loss=True, \n",
    "                                num_threads=4,random_state=42)\n",
    "\n",
    "model_03.fit(sparse_user_item,  # На вход item-user matrix\n",
    "          show_progress=True)\n",
    "model_04 = AlternatingLeastSquares(factors=100, \n",
    "                                regularization=0.05,\n",
    "                                iterations=1, \n",
    "                                calculate_training_loss=True, \n",
    "                                num_threads=4,random_state=42)\n",
    "\n",
    "model_04.fit(sparse_user_item,  # На вход item-user matrix\n",
    "          show_progress=True)\n",
    "model_05 = AlternatingLeastSquares(factors=200, \n",
    "                                regularization=0.05,\n",
    "                                iterations=1, \n",
    "                                calculate_training_loss=True, \n",
    "                                num_threads=4,random_state=42)\n",
    "\n",
    "model_05.fit(sparse_user_item,  # На вход item-user matrix\n",
    "          show_progress=True)"
   ]
  },
  {
   "cell_type": "code",
   "execution_count": 27,
   "id": "bbb3de33",
   "metadata": {},
   "outputs": [],
   "source": [
    "rec_als_factor_1 = {}"
   ]
  },
  {
   "cell_type": "code",
   "execution_count": 28,
   "id": "edfe924c",
   "metadata": {},
   "outputs": [
    {
     "name": "stdout",
     "output_type": "stream",
     "text": [
      "CPU times: total: 1min 22s\n",
      "Wall time: 12.1 s\n"
     ]
    }
   ],
   "source": [
    "%%time\n",
    "    \n",
    "result['als'] = result['user_id'].map(lambda x: get_recommendations(x, model_01, sparse_user_item, N=5))\n",
    "rec_als_factor_1[model_01.factors] = result.apply(lambda row: precision_at_k(row['als'], row['actual']), \n",
    "                                                    axis=1).mean()\n",
    "result['als'] = result['user_id'].map(lambda x: get_recommendations(x, model_02, sparse_user_item, N=5))\n",
    "rec_als_factor_1[model_02.factors] = result.apply(lambda row: precision_at_k(row['als'], row['actual']), \n",
    "                                                    axis=1).mean()\n",
    "result['als'] = result['user_id'].map(lambda x: get_recommendations(x, model_03, sparse_user_item, N=5))\n",
    "rec_als_factor_1[model_03.factors] = result.apply(lambda row: precision_at_k(row['als'], row['actual']), \n",
    "                                                    axis=1).mean()\n",
    "result['als'] = result['user_id'].map(lambda x: get_recommendations(x, model_04, sparse_user_item, N=5))\n",
    "rec_als_factor_1[model_04.factors] = result.apply(lambda row: precision_at_k(row['als'], row['actual']), \n",
    "                                                    axis=1).mean()\n",
    "result['als'] = result['user_id'].map(lambda x: get_recommendations(x, model_05, sparse_user_item, N=5))\n",
    "rec_als_factor_1[model_05.factors] = result.apply(lambda row: precision_at_k(row['als'], row['actual']), \n",
    "                                                    axis=1).mean()"
   ]
  },
  {
   "cell_type": "code",
   "execution_count": 29,
   "id": "cc91df28",
   "metadata": {},
   "outputs": [
    {
     "data": {
      "application/vnd.jupyter.widget-view+json": {
       "model_id": "b2f800c7cd9d43148249e98f1526fc7e",
       "version_major": 2,
       "version_minor": 0
      },
      "text/plain": [
       "  0%|          | 0/100 [00:00<?, ?it/s]"
      ]
     },
     "metadata": {},
     "output_type": "display_data"
    },
    {
     "data": {
      "application/vnd.jupyter.widget-view+json": {
       "model_id": "24b72955e4e84a859394193571d5678c",
       "version_major": 2,
       "version_minor": 0
      },
      "text/plain": [
       "  0%|          | 0/100 [00:00<?, ?it/s]"
      ]
     },
     "metadata": {},
     "output_type": "display_data"
    },
    {
     "data": {
      "application/vnd.jupyter.widget-view+json": {
       "model_id": "e135bd8b9f554dcda45e730d3824c986",
       "version_major": 2,
       "version_minor": 0
      },
      "text/plain": [
       "  0%|          | 0/100 [00:00<?, ?it/s]"
      ]
     },
     "metadata": {},
     "output_type": "display_data"
    },
    {
     "data": {
      "application/vnd.jupyter.widget-view+json": {
       "model_id": "379d896ff68d4911931a9f3a2f10507e",
       "version_major": 2,
       "version_minor": 0
      },
      "text/plain": [
       "  0%|          | 0/100 [00:00<?, ?it/s]"
      ]
     },
     "metadata": {},
     "output_type": "display_data"
    },
    {
     "data": {
      "application/vnd.jupyter.widget-view+json": {
       "model_id": "385a3fa1b9b948cf84655d2951951e24",
       "version_major": 2,
       "version_minor": 0
      },
      "text/plain": [
       "  0%|          | 0/100 [00:00<?, ?it/s]"
      ]
     },
     "metadata": {},
     "output_type": "display_data"
    },
    {
     "name": "stdout",
     "output_type": "stream",
     "text": [
      "CPU times: total: 9min 2s\n",
      "Wall time: 1min 21s\n"
     ]
    }
   ],
   "source": [
    "%%time\n",
    "\n",
    "model_01 = AlternatingLeastSquares(factors=10, \n",
    "                                regularization=0.05,\n",
    "                                iterations=100, \n",
    "                                calculate_training_loss=True, \n",
    "                                num_threads=4,random_state=42)\n",
    "\n",
    "model_01.fit(sparse_user_item,  # На вход item-user matrix\n",
    "          show_progress=True)\n",
    "model_02 = AlternatingLeastSquares(factors=25, \n",
    "                                regularization=0.05,\n",
    "                                iterations=100, \n",
    "                                calculate_training_loss=True, \n",
    "                                num_threads=4,random_state=42)\n",
    "\n",
    "model_02.fit(sparse_user_item,  # На вход item-user matrix\n",
    "          show_progress=True)\n",
    "model_03 = AlternatingLeastSquares(factors=50, \n",
    "                                regularization=0.05,\n",
    "                                iterations=100, \n",
    "                                calculate_training_loss=True, \n",
    "                                num_threads=4,random_state=42)\n",
    "\n",
    "model_03.fit(sparse_user_item,  # На вход item-user matrix\n",
    "          show_progress=True)\n",
    "model_04 = AlternatingLeastSquares(factors=100, \n",
    "                                regularization=0.05,\n",
    "                                iterations=100, \n",
    "                                calculate_training_loss=True, \n",
    "                                num_threads=4,random_state=42)\n",
    "\n",
    "model_04.fit(sparse_user_item,  # На вход item-user matrix\n",
    "          show_progress=True)\n",
    "model_05 = AlternatingLeastSquares(factors=200, \n",
    "                                regularization=0.05,\n",
    "                                iterations=100, \n",
    "                                calculate_training_loss=True, \n",
    "                                num_threads=4,random_state=42)\n",
    "\n",
    "model_05.fit(sparse_user_item,  # На вход item-user matrix\n",
    "          show_progress=True)"
   ]
  },
  {
   "cell_type": "code",
   "execution_count": 30,
   "id": "7f3fc053",
   "metadata": {},
   "outputs": [],
   "source": [
    "rec_als_factor_100 = {}"
   ]
  },
  {
   "cell_type": "code",
   "execution_count": 31,
   "id": "a1fce5c5",
   "metadata": {},
   "outputs": [
    {
     "name": "stdout",
     "output_type": "stream",
     "text": [
      "CPU times: total: 1min 20s\n",
      "Wall time: 12.4 s\n"
     ]
    }
   ],
   "source": [
    "%%time\n",
    "    \n",
    "result['als'] = result['user_id'].map(lambda x: get_recommendations(x, model_01, sparse_user_item, N=5))\n",
    "rec_als_factor_100[model_01.factors] = result.apply(lambda row: precision_at_k(row['als'], row['actual']), \n",
    "                                                    axis=1).mean()\n",
    "result['als'] = result['user_id'].map(lambda x: get_recommendations(x, model_02, sparse_user_item, N=5))\n",
    "rec_als_factor_100[model_02.factors] = result.apply(lambda row: precision_at_k(row['als'], row['actual']), \n",
    "                                                    axis=1).mean()\n",
    "result['als'] = result['user_id'].map(lambda x: get_recommendations(x, model_03, sparse_user_item, N=5))\n",
    "rec_als_factor_100[model_03.factors] = result.apply(lambda row: precision_at_k(row['als'], row['actual']), \n",
    "                                                    axis=1).mean()\n",
    "result['als'] = result['user_id'].map(lambda x: get_recommendations(x, model_04, sparse_user_item, N=5))\n",
    "rec_als_factor_100[model_04.factors] = result.apply(lambda row: precision_at_k(row['als'], row['actual']), \n",
    "                                                    axis=1).mean()\n",
    "result['als'] = result['user_id'].map(lambda x: get_recommendations(x, model_05, sparse_user_item, N=5))\n",
    "rec_als_factor_100[model_05.factors] = result.apply(lambda row: precision_at_k(row['als'], row['actual']), \n",
    "                                                    axis=1).mean()"
   ]
  },
  {
   "cell_type": "code",
   "execution_count": 32,
   "id": "14114e3a",
   "metadata": {},
   "outputs": [
    {
     "data": {
      "image/png": "[encoded data removed]",
      "text/plain": [
       "<Figure size 1080x720 with 1 Axes>"
      ]
     },
     "metadata": {
      "needs_background": "light"
     },
     "output_type": "display_data"
    }
   ],
   "source": [
    "fig, ax = plt.subplots()\n",
    "\n",
    "ax.plot(*zip(*rec_als_factor_1.items()),'b', label = 'Iteration=1')\n",
    "ax.plot(*zip(*rec_als_factor_1.items()),'go')\n",
    "ax.plot(*zip(*rec_als_factor_15.items()),'g', label = 'Iteration=15')\n",
    "ax.plot(*zip(*rec_als_factor_15.items()),'ro')\n",
    "ax.plot(*zip(*rec_als_factor_100.items()),'r', label = 'Iteration=100')\n",
    "ax.plot(*zip(*rec_als_factor_100.items()),'bo')\n",
    "\n",
    "ax.grid()\n",
    "ax.legend()\n",
    "ax.set_title('Factors score')\n",
    "fig.set_figheight(10)\n",
    "fig.set_figwidth(15)"
   ]
  },
  {
   "cell_type": "code",
   "execution_count": 33,
   "id": "72d33a27",
   "metadata": {},
   "outputs": [
    {
     "name": "stdout",
     "output_type": "stream",
     "text": [
      "The best score is 0.1909       Factors = 10 Iteration = 100\n",
      "The best score is 0.1947       Factors = 10 Iteration = 15\n",
      "The best score is 0.2443       Factors = 200 Iteration = 1\n"
     ]
    }
   ],
   "source": [
    "print(f'The best score is {max(rec_als_factor_100.values()):.4f} \\\n",
    "      Factors = {max(rec_als_factor_100, key=rec_als_factor_100.get)} Iteration = 100')\n",
    "print(f'The best score is {max(rec_als_factor_15.values()):.4f} \\\n",
    "      Factors = {max(rec_als_factor_15, key=rec_als_factor_15.get)} Iteration = 15')\n",
    "print(f'The best score is {max(rec_als_factor_1.values()):.4f} \\\n",
    "      Factors = {max(rec_als_factor_1, key=rec_als_factor_1.get)} Iteration = 1')"
   ]
  },
  {
   "cell_type": "code",
   "execution_count": 34,
   "id": "8dbad684",
   "metadata": {},
   "outputs": [
    {
     "data": {
      "application/vnd.jupyter.widget-view+json": {
       "model_id": "ea2eaa57a911471ea84ad5d607a9dcf3",
       "version_major": 2,
       "version_minor": 0
      },
      "text/plain": [
       "  0%|          | 0/1 [00:00<?, ?it/s]"
      ]
     },
     "metadata": {},
     "output_type": "display_data"
    },
    {
     "data": {
      "application/vnd.jupyter.widget-view+json": {
       "model_id": "e3e915df614b439ca9268aa64695922a",
       "version_major": 2,
       "version_minor": 0
      },
      "text/plain": [
       "  0%|          | 0/1 [00:00<?, ?it/s]"
      ]
     },
     "metadata": {},
     "output_type": "display_data"
    },
    {
     "data": {
      "application/vnd.jupyter.widget-view+json": {
       "model_id": "0f6ed2e9e117403e9ef32d3b1329da7a",
       "version_major": 2,
       "version_minor": 0
      },
      "text/plain": [
       "  0%|          | 0/1 [00:00<?, ?it/s]"
      ]
     },
     "metadata": {},
     "output_type": "display_data"
    },
    {
     "data": {
      "application/vnd.jupyter.widget-view+json": {
       "model_id": "718c525520cb4efaaba8538f4bbfea48",
       "version_major": 2,
       "version_minor": 0
      },
      "text/plain": [
       "  0%|          | 0/1 [00:00<?, ?it/s]"
      ]
     },
     "metadata": {},
     "output_type": "display_data"
    },
    {
     "data": {
      "application/vnd.jupyter.widget-view+json": {
       "model_id": "a5dffa0fc37c43a1a8f10d0eb404f0a1",
       "version_major": 2,
       "version_minor": 0
      },
      "text/plain": [
       "  0%|          | 0/1 [00:00<?, ?it/s]"
      ]
     },
     "metadata": {},
     "output_type": "display_data"
    },
    {
     "name": "stdout",
     "output_type": "stream",
     "text": [
      "CPU times: total: 14.7 s\n",
      "Wall time: 2.26 s\n"
     ]
    }
   ],
   "source": [
    "%%time\n",
    "\n",
    "model_01 = AlternatingLeastSquares(factors=200, \n",
    "                                regularization=0.05,\n",
    "                                iterations=1, \n",
    "                                calculate_training_loss=True, \n",
    "                                num_threads=4,random_state=42)\n",
    "\n",
    "model_01.fit(sparse_user_item,  # На вход item-user matrix\n",
    "          show_progress=True)\n",
    "model_02 = AlternatingLeastSquares(factors=250, \n",
    "                                regularization=0.05,\n",
    "                                iterations=1, \n",
    "                                calculate_training_loss=True, \n",
    "                                num_threads=4,random_state=42)\n",
    "\n",
    "model_02.fit(sparse_user_item,  # На вход item-user matrix\n",
    "          show_progress=True)\n",
    "model_03 = AlternatingLeastSquares(factors=300, \n",
    "                                regularization=0.05,\n",
    "                                iterations=1, \n",
    "                                calculate_training_loss=True, \n",
    "                                num_threads=4,random_state=42)\n",
    "\n",
    "model_03.fit(sparse_user_item,  # На вход item-user matrix\n",
    "          show_progress=True)\n",
    "model_04 = AlternatingLeastSquares(factors=350, \n",
    "                                regularization=0.05,\n",
    "                                iterations=1, \n",
    "                                calculate_training_loss=True, \n",
    "                                num_threads=4,random_state=42)\n",
    "\n",
    "model_04.fit(sparse_user_item,  # На вход item-user matrix\n",
    "          show_progress=True)\n",
    "model_05 = AlternatingLeastSquares(factors=375, \n",
    "                                regularization=0.05,\n",
    "                                iterations=1, \n",
    "                                calculate_training_loss=True, \n",
    "                                num_threads=4,random_state=42)\n",
    "\n",
    "model_05.fit(sparse_user_item,  # На вход item-user matrix\n",
    "          show_progress=True)"
   ]
  },
  {
   "cell_type": "code",
   "execution_count": 35,
   "id": "661ff8d1",
   "metadata": {},
   "outputs": [],
   "source": [
    "rec_als_factor = {}"
   ]
  },
  {
   "cell_type": "code",
   "execution_count": 36,
   "id": "94f365db",
   "metadata": {},
   "outputs": [
    {
     "name": "stdout",
     "output_type": "stream",
     "text": [
      "CPU times: total: 5min 13s\n",
      "Wall time: 47.1 s\n"
     ]
    }
   ],
   "source": [
    "%%time\n",
    "    \n",
    "result['als'] = result['user_id'].map(lambda x: get_recommendations(x, model_01, sparse_user_item, N=5))\n",
    "rec_als_factor[model_01.factors] = result.apply(lambda row: precision_at_k(row['als'], row['actual']), \n",
    "                                                    axis=1).mean()\n",
    "result['als'] = result['user_id'].map(lambda x: get_recommendations(x, model_02, sparse_user_item, N=5))\n",
    "rec_als_factor[model_02.factors] = result.apply(lambda row: precision_at_k(row['als'], row['actual']), \n",
    "                                                    axis=1).mean()\n",
    "result['als'] = result['user_id'].map(lambda x: get_recommendations(x, model_03, sparse_user_item, N=5))\n",
    "rec_als_factor[model_03.factors] = result.apply(lambda row: precision_at_k(row['als'], row['actual']), \n",
    "                                                    axis=1).mean()\n",
    "result['als'] = result['user_id'].map(lambda x: get_recommendations(x, model_04, sparse_user_item, N=5))\n",
    "rec_als_factor[model_04.factors] = result.apply(lambda row: precision_at_k(row['als'], row['actual']), \n",
    "                                                    axis=1).mean()\n",
    "result['als'] = result['user_id'].map(lambda x: get_recommendations(x, model_05, sparse_user_item, N=5))\n",
    "rec_als_factor[model_05.factors] = result.apply(lambda row: precision_at_k(row['als'], row['actual']), \n",
    "                                                    axis=1).mean()\n"
   ]
  },
  {
   "cell_type": "code",
   "execution_count": 37,
   "id": "03642d28",
   "metadata": {},
   "outputs": [
    {
     "data": {
      "image/png": "[encoded data removed]",
      "text/plain": [
       "<Figure size 1080x720 with 1 Axes>"
      ]
     },
     "metadata": {
      "needs_background": "light"
     },
     "output_type": "display_data"
    }
   ],
   "source": [
    "fig, ax = plt.subplots()\n",
    "\n",
    "ax.plot(*zip(*rec_als_factor.items()),'b', label = 'Iteration=1')\n",
    "ax.plot(*zip(*rec_als_factor.items()),'go')\n",
    "\n",
    "ax.grid()\n",
    "ax.legend()\n",
    "ax.set_title('Factors score')\n",
    "fig.set_figheight(10)\n",
    "fig.set_figwidth(15)"
   ]
  },
  {
   "cell_type": "code",
   "execution_count": 38,
   "id": "b43efd1c",
   "metadata": {},
   "outputs": [
    {
     "name": "stdout",
     "output_type": "stream",
     "text": [
      "The best score is 0.2486       Factors = 350, Iteration = 1, Regularization=0.05\n"
     ]
    }
   ],
   "source": [
    "print(f'The best score is {max(rec_als_factor.values()):.4f} \\\n",
    "      Factors = {max(rec_als_factor, key=rec_als_factor.get)}, Iteration = 1, Regularization=0.05')"
   ]
  },
  {
   "cell_type": "markdown",
   "id": "2cb2bfca",
   "metadata": {},
   "source": [
    "#### TF-IDF взвешивание"
   ]
  },
  {
   "cell_type": "code",
   "execution_count": 39,
   "id": "bbcd7131",
   "metadata": {},
   "outputs": [],
   "source": [
    "tfidf_user_item_matrix = tfidf_weight(user_item_matrix.T).T.tocsr() # Применяется к item-user матрице ! "
   ]
  },
  {
   "cell_type": "code",
   "execution_count": 40,
   "id": "407ee2a4",
   "metadata": {},
   "outputs": [
    {
     "data": {
      "application/vnd.jupyter.widget-view+json": {
       "model_id": "b99dbb18014d4507a7d369dd776409dc",
       "version_major": 2,
       "version_minor": 0
      },
      "text/plain": [
       "  0%|          | 0/11 [00:00<?, ?it/s]"
      ]
     },
     "metadata": {},
     "output_type": "display_data"
    },
    {
     "name": "stdout",
     "output_type": "stream",
     "text": [
      "CPU times: total: 22 s\n",
      "Wall time: 3.39 s\n"
     ]
    },
    {
     "data": {
      "text/plain": [
       "0.19666993143976233"
      ]
     },
     "execution_count": 40,
     "metadata": {},
     "output_type": "execute_result"
    }
   ],
   "source": [
    "%%time\n",
    "\n",
    "model = AlternatingLeastSquares(factors=50, \n",
    "                                regularization=0.01,\n",
    "                                iterations=11, \n",
    "                                calculate_training_loss=True, \n",
    "                                num_threads=4,\n",
    "                                random_state=42)\n",
    "\n",
    "model.fit(tfidf_user_item_matrix,  # На вход item-user matrix\n",
    "          show_progress=True)\n",
    "\n",
    "result['als_tfidf'] = result['user_id'].map(lambda x: get_recommendations(x, model, sparse_user_item, N=5))\n",
    "\n",
    "result.apply(lambda row: precision_at_k(row['als_tfidf'], row['actual']), axis=1).mean()"
   ]
  },
  {
   "cell_type": "code",
   "execution_count": 41,
   "id": "a279546d",
   "metadata": {},
   "outputs": [],
   "source": [
    "tfidf_user_item_matrix = tfidf_weight(user_item_matrix).tocsr() # Применяется к item-user матрице ! "
   ]
  },
  {
   "cell_type": "code",
   "execution_count": 42,
   "id": "a42905f2",
   "metadata": {},
   "outputs": [
    {
     "data": {
      "application/vnd.jupyter.widget-view+json": {
       "model_id": "f9a0a58e6eb04990a92fb9b64d524e22",
       "version_major": 2,
       "version_minor": 0
      },
      "text/plain": [
       "  0%|          | 0/11 [00:00<?, ?it/s]"
      ]
     },
     "metadata": {},
     "output_type": "display_data"
    },
    {
     "name": "stdout",
     "output_type": "stream",
     "text": [
      "CPU times: total: 21.2 s\n",
      "Wall time: 3.43 s\n"
     ]
    },
    {
     "data": {
      "text/plain": [
       "0.24162585700293496"
      ]
     },
     "execution_count": 42,
     "metadata": {},
     "output_type": "execute_result"
    }
   ],
   "source": [
    "%%time\n",
    "\n",
    "model = AlternatingLeastSquares(factors=50, \n",
    "                                regularization=0.01,\n",
    "                                iterations=11, \n",
    "                                calculate_training_loss=True, \n",
    "                                num_threads=4,\n",
    "                                random_state=42)\n",
    "\n",
    "model.fit(tfidf_user_item_matrix,  # На вход item-user matrix\n",
    "          show_progress=True)\n",
    "\n",
    "result['als_tfidf'] = result['user_id'].map(lambda x: get_recommendations(x, model, sparse_user_item, N=5))\n",
    "\n",
    "result.apply(lambda row: precision_at_k(row['als_tfidf'], row['actual']), axis=1).mean()"
   ]
  },
  {
   "cell_type": "markdown",
   "id": "84c689e8",
   "metadata": {},
   "source": [
    "#### BM25 взвешивание"
   ]
  },
  {
   "cell_type": "code",
   "execution_count": 43,
   "id": "7cf2a00b",
   "metadata": {},
   "outputs": [],
   "source": [
    "bm25_user_item_matrix = bm25_weight(user_item_matrix).tocsr() # Применяется к item-user матрице !"
   ]
  },
  {
   "cell_type": "code",
   "execution_count": 44,
   "id": "1bc3ea5b",
   "metadata": {},
   "outputs": [
    {
     "data": {
      "application/vnd.jupyter.widget-view+json": {
       "model_id": "16e92b8b05da47a39fd8d9103b60770e",
       "version_major": 2,
       "version_minor": 0
      },
      "text/plain": [
       "  0%|          | 0/1 [00:00<?, ?it/s]"
      ]
     },
     "metadata": {},
     "output_type": "display_data"
    },
    {
     "name": "stdout",
     "output_type": "stream",
     "text": [
      "CPU times: total: 1min 20s\n",
      "Wall time: 12.2 s\n"
     ]
    },
    {
     "data": {
      "text/plain": [
       "0.20088148873652997"
      ]
     },
     "execution_count": 44,
     "metadata": {},
     "output_type": "execute_result"
    }
   ],
   "source": [
    "%%time\n",
    "\n",
    "model = AlternatingLeastSquares(factors=350, \n",
    "                                regularization=0.05,\n",
    "                                iterations=1, \n",
    "                                calculate_training_loss=True, \n",
    "                                num_threads=4,\n",
    "                                random_state=42) # K - кол-во билжайших соседей\n",
    "\n",
    "model.fit(csr_matrix(bm25_user_item_matrix).tocsr(),  # На вход item-user matrix\n",
    "          show_progress=True)\n",
    "\n",
    "result['als_bm25'] = result['user_id'].map(lambda x: get_recommendations(x, model, sparse_user_item, N=5))\n",
    "\n",
    "result.apply(lambda row: precision_at_k(row['als_bm25'], row['actual']), axis=1).mean()"
   ]
  },
  {
   "cell_type": "code",
   "execution_count": 45,
   "id": "70ed3764",
   "metadata": {},
   "outputs": [],
   "source": [
    "bm25_user_item_matrix = bm25_weight(user_item_matrix.T).T.tocsr() # Применяется к item-user матрице ! "
   ]
  },
  {
   "cell_type": "code",
   "execution_count": 46,
   "id": "c8b74203",
   "metadata": {},
   "outputs": [
    {
     "data": {
      "application/vnd.jupyter.widget-view+json": {
       "model_id": "333f7ceb03284b4f9e031c17699f267f",
       "version_major": 2,
       "version_minor": 0
      },
      "text/plain": [
       "  0%|          | 0/1 [00:00<?, ?it/s]"
      ]
     },
     "metadata": {},
     "output_type": "display_data"
    },
    {
     "name": "stdout",
     "output_type": "stream",
     "text": [
      "CPU times: total: 1min 23s\n",
      "Wall time: 12.3 s\n"
     ]
    },
    {
     "data": {
      "text/plain": [
       "0.27218413320274043"
      ]
     },
     "execution_count": 46,
     "metadata": {},
     "output_type": "execute_result"
    }
   ],
   "source": [
    "%%time\n",
    "\n",
    "model = AlternatingLeastSquares(factors=350, \n",
    "                                regularization=0.05,\n",
    "                                iterations=1, \n",
    "                                calculate_training_loss=True, \n",
    "                                num_threads=4,\n",
    "                                random_state=42) # K - кол-во билжайших соседей\n",
    "\n",
    "model.fit(csr_matrix(bm25_user_item_matrix).tocsr(),  # На вход item-user matrix\n",
    "          show_progress=True)\n",
    "\n",
    "result['als_bm25'] = result['user_id'].map(lambda x: get_recommendations(x, model, sparse_user_item, N=5))\n",
    "\n",
    "result.apply(lambda row: precision_at_k(row['als_bm25'], row['actual']), axis=1).mean()"
   ]
  },
  {
   "cell_type": "markdown",
   "id": "900edb1f",
   "metadata": {},
   "source": [
    "### The best score is 0.272"
   ]
  }
 ],
 "metadata": {
  "kernelspec": {
   "display_name": "Python 3 (ipykernel)",
   "language": "python",
   "name": "python3"
  },
  "language_info": {
   "codemirror_mode": {
    "name": "ipython",
    "version": 3
   },
   "file_extension": ".py",
   "mimetype": "text/x-python",
   "name": "python",
   "nbconvert_exporter": "python",
   "pygments_lexer": "ipython3",
   "version": "3.9.12"
  }
 },
 "nbformat": 4,
 "nbformat_minor": 5
}
